{
 "cells": [
  {
   "cell_type": "markdown",
   "id": "63b4767d-c6f0-444c-8c78-3b6aea0b36b6",
   "metadata": {},
   "source": [
    "# Task B: RFQ Similarity\n",
    "\n",
    "In this task, I’m calculating how similar different RFQs are to each other based on their properties, both numeric and categorical, so that we can find the top matches for any given RFQ. Here’s a breakdown of what I did in each step:"
   ]
  },
  {
   "cell_type": "markdown",
   "id": "87168aac-abc2-4cfb-bef0-b3bbbce75f97",
   "metadata": {},
   "source": [
    "## Load Datasets\n",
    "\n",
    "I load the RFQs and the reference properties files. This is just to get all the data ready so I can work with it. I also checked the columns to make sure the names are what I expect."
   ]
  },
  {
   "cell_type": "code",
   "execution_count": 12,
   "id": "02443a26-9cd3-406f-ad2c-259008d5c3d9",
   "metadata": {},
   "outputs": [
    {
     "name": "stdout",
     "output_type": "stream",
     "text": [
      "Index(['id', 'grade', 'grade_suffix', 'coating', 'finish', 'surface_type',\n",
      "       'surface_protection', 'form', 'thickness_min', 'thickness_max',\n",
      "       'width_min', 'width_max', 'length_min', 'height_min', 'height_max',\n",
      "       'weight_min', 'weight_max', 'inner_diameter_min', 'inner_diameter_max',\n",
      "       'outer_diameter_min', 'outer_diameter_max', 'yield_strength_min',\n",
      "       'yield_strength_max', 'tensile_strength_min', 'tensile_strength_max'],\n",
      "      dtype='object')\n",
      "Index(['Grade/Material', 'UNS_No', 'Steel_No', 'Standards', 'Carbon (C)',\n",
      "       'Manganese (Mn)', 'Silicon (Si)', 'Sulfur (S)', 'Phosphorus (P)',\n",
      "       'Chromium (Cr)', 'Nickel (Ni)', 'Molybdenum (Mo)', 'Vanadium (V)',\n",
      "       'Tungsten (W)', 'Cobalt (Co)', 'Copper (Cu)', 'Aluminum (Al)',\n",
      "       'Titanium (Ti)', 'Niobium (Nb)', 'Boron (B)', 'Nitrogen (N)',\n",
      "       'Tensile strength (Rm)', 'Yield strength (Re or Rp0.2)',\n",
      "       'Elongation (A%)', 'Reduction of area (Z%)', 'Hardness (HB, HV, HRC)',\n",
      "       'Impact toughness (Charpy V-notch)', 'Fatigue limit',\n",
      "       'Creep resistance', 'Source_Pages', 'Application', 'Category',\n",
      "       'Nb + V + Ti (Others)', 'Coating'],\n",
      "      dtype='object')\n"
     ]
    }
   ],
   "source": [
    "import pandas as pd\n",
    "import numpy as np\n",
    "\n",
    "\n",
    "# Load datasets\n",
    "rfq = pd.read_csv(\"../data/rfq.csv\")              # RFQs\n",
    "ref = pd.read_csv(\"../data/reference_properties.tsv\", sep='\\t')  # Reference grade\n",
    "\n",
    "# Inspect columns to confirm names\n",
    "print(rfq.columns)\n",
    "print(ref.columns)"
   ]
  },
  {
   "cell_type": "markdown",
   "id": "b797c242-2c68-4a08-8097-250459a31e8e",
   "metadata": {},
   "source": [
    "## Task B.1 — Reference join & missing values\n",
    "\n",
    "Here, I normalized the grade names in both datasets so that they match (lowercase, stripped of spaces). Then I parsed numeric ranges in the reference properties (like “2.5–3.0” or “≤5”) into min, max, and mid values. Finally, I joined the RFQs with the reference properties based on the normalized grades and flaged any missing references."
   ]
  },
  {
   "cell_type": "code",
   "execution_count": 15,
   "id": "ed82fb89-b9c0-4a93-87d9-ae737a0b8d64",
   "metadata": {},
   "outputs": [],
   "source": [
    "# Normalize RFQ grades\n",
    "rfq['grade_norm'] = rfq['grade'].str.lower().str.strip()\n",
    "\n",
    "# Normalize reference grades\n",
    "# Adjust 'Grade/Material' based on actual column\n",
    "ref['grade_norm'] = ref['Grade/Material'].str.lower().str.strip()"
   ]
  },
  {
   "cell_type": "code",
   "execution_count": 16,
   "id": "149e4fb4-33e0-4055-95cf-d11daea91fa8",
   "metadata": {},
   "outputs": [],
   "source": [
    "import re\n",
    "def parse_range(s):\n",
    "    if pd.isna(s):\n",
    "        return (np.nan, np.nan)\n",
    "    s = str(s).replace('≤','').replace('≥','').replace('MPa','').strip()\n",
    "    # Split by - or en dash\n",
    "    parts = re.split(r'[-–]', s)\n",
    "    try:\n",
    "        a = float(parts[0].replace(',', '.')) if parts[0] else np.nan\n",
    "        b = float(parts[1].replace(',', '.')) if len(parts)>1 and parts[1] else a\n",
    "        return (min(a,b), max(a,b))\n",
    "    except:\n",
    "        return (np.nan, np.nan)\n",
    "\n",
    "# Example numeric columns to parse\n",
    "numeric_cols = [\n",
    "    'Carbon (C)','Manganese (Mn)','Silicon (Si)','Sulfur (S)','Phosphorus (P)',\n",
    "    'Tensile strength (Rm)','Yield strength (Re or Rp0.2)'\n",
    "]\n",
    "\n",
    "for col in numeric_cols:\n",
    "    if col in ref.columns:\n",
    "        ref[[f'{col}_min', f'{col}_max']] = ref[col].apply(lambda x: pd.Series(parse_range(x)))\n",
    "        ref[f'{col}_mid'] = ref[[f'{col}_min', f'{col}_max']].mean(axis=1)"
   ]
  },
  {
   "cell_type": "markdown",
   "id": "6f2c1ed1-170d-4539-bd63-83901b9818c8",
   "metadata": {},
   "source": [
    "### Join RFQs with reference"
   ]
  },
  {
   "cell_type": "code",
   "execution_count": 17,
   "id": "59657cba-b1a4-4be3-a302-5da7a1a2d94c",
   "metadata": {},
   "outputs": [],
   "source": [
    "# Merge RFQs with reference properties\n",
    "rfq_ref = rfq.merge(ref, on='grade_norm', how='left')\n",
    "\n",
    "# Flag missing reference grades\n",
    "rfq_ref['missing_ref'] = rfq_ref['grade_norm'].isnull() | rfq_ref['grade_norm'].isin(ref['grade_norm'].isnull())"
   ]
  },
  {
   "cell_type": "markdown",
   "id": "7011faa5-d32e-40ba-8d90-9f65d8061ba1",
   "metadata": {},
   "source": [
    "## Task B.2 — Feature engineering\n",
    "In this step, I prepared the features for similarity calculation:\n",
    "\n",
    "For numeric dimensions, I made sure we have min and max columns, and if max is missing I filled it with the min.\n",
    "\n",
    "I defined the categorical columns that we want to compare.\n",
    "\n",
    "I also created midpoints for numeric grades so that they can be used in similarity calculations."
   ]
  },
  {
   "cell_type": "code",
   "execution_count": 18,
   "id": "93e78ec6-5d32-49e0-bb55-7c59866df15b",
   "metadata": {},
   "outputs": [],
   "source": [
    "# Dimensions as intervals\n",
    "dimensions = ['thickness','width','length','height','weight',\n",
    "              'inner_diameter','outer_diameter',\n",
    "              'yield_strength','tensile_strength']\n",
    "\n",
    "for dim in dimensions:\n",
    "    min_col = f'{dim}_min'\n",
    "    max_col = f'{dim}_max'\n",
    "\n",
    "    # Create the columns if they don't exist\n",
    "    if min_col not in rfq_ref.columns:\n",
    "        rfq_ref[min_col] = np.nan\n",
    "    if max_col not in rfq_ref.columns:\n",
    "        rfq_ref[max_col] = np.nan\n",
    "\n",
    "    # Fill missing max with min (singleton case)\n",
    "    rfq_ref[max_col] = rfq_ref[max_col].fillna(rfq_ref[min_col])"
   ]
  },
  {
   "cell_type": "code",
   "execution_count": 19,
   "id": "c9af69f8-697b-4ad4-9e54-8b68a25ba8c6",
   "metadata": {},
   "outputs": [],
   "source": [
    "# Define categorical similarity\n",
    "categorical_cols = ['coating','finish','form','surface_type']"
   ]
  },
  {
   "cell_type": "code",
   "execution_count": 20,
   "id": "316f3cb5-368b-4408-a367-dd7e315c71a2",
   "metadata": {},
   "outputs": [],
   "source": [
    "# Grade midpoints\n",
    "grade_numeric_cols = [f'{col}_mid' for col in numeric_cols if f'{col}_mid' in rfq_ref.columns]"
   ]
  },
  {
   "cell_type": "markdown",
   "id": "386793ac-cdb1-4f17-a175-0c2957c6aa04",
   "metadata": {},
   "source": [
    "## Task B.3 — Similarity calculation\n",
    "\n",
    "I created functions to compute similarity between two RFQs:\n",
    "\n",
    "Dimension similarity: I used an interval-based IoU, which looks at how much two numeric ranges overlap.\n",
    "\n",
    "Categorical similarity: I checked if the categorical properties are the same.\n",
    "\n",
    "Grade similarity: For numeric grade properties, I compared the values using a simple ratio of smaller to larger.\n",
    "\n",
    "Then I combined all three types of similarity into an overall score using weights (dimension 0.5, categorical 0.2, grade 0.3)."
   ]
  },
  {
   "cell_type": "code",
   "execution_count": 21,
   "id": "da8d6e8e-778e-4301-9670-cc014c4f9acd",
   "metadata": {},
   "outputs": [],
   "source": [
    "# Interval IoU\n",
    "def interval_iou(a_min, a_max, b_min, b_max):\n",
    "    \"\"\"Compute IoU (intersection over union) for numeric intervals.\"\"\"\n",
    "    if np.isnan(a_min) or np.isnan(a_max) or np.isnan(b_min) or np.isnan(b_max):\n",
    "        return np.nan\n",
    "    inter = max(0, min(a_max, b_max) - max(a_min, b_min))\n",
    "    union = max(a_max, b_max) - min(a_min, b_min)\n",
    "    return inter / union if union > 0 else 0"
   ]
  },
  {
   "cell_type": "code",
   "execution_count": 22,
   "id": "a4069480-f801-4a38-b21b-819f73f385f3",
   "metadata": {},
   "outputs": [],
   "source": [
    "# RFQ similarity function\n",
    "def rfq_similarity(a, b, dimension_list, categorical_list, grade_numeric_cols):\n",
    "    \"\"\"Compute overall similarity between two RFQs.\"\"\"\n",
    "    \n",
    "    #Dimension similarity\n",
    "    dim_sims = []\n",
    "    for dim in dimension_list:\n",
    "        min_col = f'{dim}_min'\n",
    "        max_col = f'{dim}_max'\n",
    "\n",
    "        # Only compute if both RFQs have the dimension\n",
    "        if all(col in a.index for col in [min_col, max_col]) and all(col in b.index for col in [min_col, max_col]):\n",
    "            sim = interval_iou(a[min_col], a[max_col], b[min_col], b[max_col])\n",
    "            if sim is not None and not np.isnan(sim):\n",
    "                dim_sims.append(sim)\n",
    "\n",
    "    dim_score = np.mean(dim_sims) if dim_sims else 0\n",
    "\n",
    "    #Categorical similarity\n",
    "    cat_sims = []\n",
    "    for cat in categorical_list:\n",
    "        if cat in a.index and cat in b.index:\n",
    "            val_a, val_b = a[cat], b[cat]\n",
    "            if pd.isna(val_a) or pd.isna(val_b):\n",
    "                continue\n",
    "            cat_sims.append(1 if val_a == val_b else 0)\n",
    "\n",
    "    cat_score = np.mean(cat_sims) if cat_sims else 0\n",
    "\n",
    "    #Grade numeric properties similarity\n",
    "    grade_sims = []\n",
    "    for col in grade_numeric_cols:\n",
    "        if col in a.index and col in b.index:\n",
    "            val_a, val_b = a[col], b[col]\n",
    "            if pd.isna(val_a) or pd.isna(val_b):\n",
    "                continue\n",
    "            # Simple similarity: ratio of smaller/larger\n",
    "            grade_sims.append(min(val_a, val_b) / max(val_a, val_b) if max(val_a, val_b) != 0 else 0)\n",
    "\n",
    "    grade_score = np.mean(grade_sims) if grade_sims else 0\n",
    "\n",
    "    # Aggregate similarity\n",
    "    # Example: weighted average \n",
    "    weights = {\n",
    "        'dimension': 0.5,\n",
    "        'categorical': 0.2,\n",
    "        'grade': 0.3\n",
    "    }\n",
    "\n",
    "    overall_score = (\n",
    "        dim_score * weights['dimension'] +\n",
    "        cat_score * weights['categorical'] +\n",
    "        grade_score * weights['grade']\n",
    "    )\n",
    "\n",
    "    return overall_score"
   ]
  },
  {
   "cell_type": "markdown",
   "id": "c00aa8bf-3fe1-461b-8eb7-fc5186bf4d7c",
   "metadata": {},
   "source": [
    "## Compute top-3 most similar RFQs\n",
    "\n",
    "I looped through all RFQs and compared each one with every other RFQ using the similarity function. For each RFQ, I picked the top 3 most similar ones and saved them into a DataFrame. This gave me an easy way to see which RFQs are closest to any given RFQ.\n",
    "\n",
    "Finally, I saved the results to a CSV."
   ]
  },
  {
   "cell_type": "code",
   "execution_count": 23,
   "id": "90c3f34d-36f5-4739-9ce4-e9475a35e9ef",
   "metadata": {},
   "outputs": [
    {
     "name": "stderr",
     "output_type": "stream",
     "text": [
      "Processing RFQs: 100%|█████████████████████████████████████████████████████████████| 1005/1005 [13:12<00:00,  1.27it/s]\n"
     ]
    },
    {
     "data": {
      "text/html": [
       "<div>\n",
       "<style scoped>\n",
       "    .dataframe tbody tr th:only-of-type {\n",
       "        vertical-align: middle;\n",
       "    }\n",
       "\n",
       "    .dataframe tbody tr th {\n",
       "        vertical-align: top;\n",
       "    }\n",
       "\n",
       "    .dataframe thead th {\n",
       "        text-align: right;\n",
       "    }\n",
       "</style>\n",
       "<table border=\"1\" class=\"dataframe\">\n",
       "  <thead>\n",
       "    <tr style=\"text-align: right;\">\n",
       "      <th></th>\n",
       "      <th>rfq_id</th>\n",
       "      <th>match_id</th>\n",
       "      <th>similarity_score</th>\n",
       "    </tr>\n",
       "  </thead>\n",
       "  <tbody>\n",
       "    <tr>\n",
       "      <th>0</th>\n",
       "      <td>8aff426d-b8c0-43aa-ad26-835ef4de6129</td>\n",
       "      <td>2e56f82b-a80d-4704-83a5-14a52a117b65</td>\n",
       "      <td>0.600000</td>\n",
       "    </tr>\n",
       "    <tr>\n",
       "      <th>1</th>\n",
       "      <td>8aff426d-b8c0-43aa-ad26-835ef4de6129</td>\n",
       "      <td>7d1ab305-7fc6-4ab0-bc2a-9ae1e038e67e</td>\n",
       "      <td>0.544795</td>\n",
       "    </tr>\n",
       "    <tr>\n",
       "      <th>2</th>\n",
       "      <td>8aff426d-b8c0-43aa-ad26-835ef4de6129</td>\n",
       "      <td>9195d6ad-120f-4ae2-8e69-462ca56c3fc0</td>\n",
       "      <td>0.475000</td>\n",
       "    </tr>\n",
       "    <tr>\n",
       "      <th>3</th>\n",
       "      <td>37e624be-b125-464f-85b6-1838530193ef</td>\n",
       "      <td>56d8f8e0-7e07-42f7-9503-360aed60100a</td>\n",
       "      <td>0.200000</td>\n",
       "    </tr>\n",
       "    <tr>\n",
       "      <th>4</th>\n",
       "      <td>37e624be-b125-464f-85b6-1838530193ef</td>\n",
       "      <td>74fcfbc9-2569-46c8-ad3f-a9ea8b9f5a45</td>\n",
       "      <td>0.200000</td>\n",
       "    </tr>\n",
       "  </tbody>\n",
       "</table>\n",
       "</div>"
      ],
      "text/plain": [
       "                                 rfq_id                              match_id  \\\n",
       "0  8aff426d-b8c0-43aa-ad26-835ef4de6129  2e56f82b-a80d-4704-83a5-14a52a117b65   \n",
       "1  8aff426d-b8c0-43aa-ad26-835ef4de6129  7d1ab305-7fc6-4ab0-bc2a-9ae1e038e67e   \n",
       "2  8aff426d-b8c0-43aa-ad26-835ef4de6129  9195d6ad-120f-4ae2-8e69-462ca56c3fc0   \n",
       "3  37e624be-b125-464f-85b6-1838530193ef  56d8f8e0-7e07-42f7-9503-360aed60100a   \n",
       "4  37e624be-b125-464f-85b6-1838530193ef  74fcfbc9-2569-46c8-ad3f-a9ea8b9f5a45   \n",
       "\n",
       "   similarity_score  \n",
       "0          0.600000  \n",
       "1          0.544795  \n",
       "2          0.475000  \n",
       "3          0.200000  \n",
       "4          0.200000  "
      ]
     },
     "metadata": {},
     "output_type": "display_data"
    }
   ],
   "source": [
    "from tqdm import tqdm  # optional, shows progress bar\n",
    "\n",
    "# Define the columns to use (replace with your dataset columns)\n",
    "dimension_list = [\n",
    "    'thickness', 'width', 'length', 'height',\n",
    "    'weight', 'inner_diameter', 'outer_diameter',\n",
    "    'yield_strength', 'tensile_strength'\n",
    "]\n",
    "categorical_list = ['coating', 'finish', 'form', 'surface_type']\n",
    "grade_numeric_cols = [\n",
    "    'C', 'Mn', 'Si', 'S', 'P', 'Cr', 'Ni', 'Mo', 'V', 'W', 'Co', 'Cu', 'Al', 'Ti', 'Nb', 'B', 'N', \n",
    "    'tensile_strength_mid', 'yield_strength_mid'\n",
    "]\n",
    "\n",
    "top3_list = []\n",
    "\n",
    "# Use tqdm to monitor progress if dataset is large\n",
    "for idx_a, row_a in tqdm(rfq_ref.iterrows(), total=len(rfq_ref), desc=\"Processing RFQs\"):\n",
    "    sims = []\n",
    "    for idx_b, row_b in rfq_ref.iterrows():\n",
    "        if row_a['id'] == row_b['id']:\n",
    "            continue\n",
    "        score = rfq_similarity(row_a, row_b, dimension_list, categorical_list, grade_numeric_cols)\n",
    "        sims.append((row_b['id'], score))\n",
    "    \n",
    "    # Get top 3 matches\n",
    "    top3 = sorted(sims, key=lambda x: x[1], reverse=True)[:3]\n",
    "    for match_id, score in top3:\n",
    "        top3_list.append({\n",
    "            'rfq_id': row_a['id'],\n",
    "            'match_id': match_id,\n",
    "            'similarity_score': score\n",
    "        })\n",
    "\n",
    "# Convert to DataFrame and save\n",
    "top3_df = pd.DataFrame(top3_list)\n",
    "top3_df.to_csv(\"../outputs/top3.csv\", index=False, encoding='utf-8-sig')\n",
    "display(top3_df.head())"
   ]
  },
  {
   "cell_type": "code",
   "execution_count": null,
   "id": "f2d52199-6f63-4e89-95d3-1d04620356b9",
   "metadata": {},
   "outputs": [],
   "source": []
  }
 ],
 "metadata": {
  "kernelspec": {
   "display_name": "Python 3 (ipykernel)",
   "language": "python",
   "name": "python3"
  },
  "language_info": {
   "codemirror_mode": {
    "name": "ipython",
    "version": 3
   },
   "file_extension": ".py",
   "mimetype": "text/x-python",
   "name": "python",
   "nbconvert_exporter": "python",
   "pygments_lexer": "ipython3",
   "version": "3.13.3"
  }
 },
 "nbformat": 4,
 "nbformat_minor": 5
}
