{
 "cells": [
  {
   "cell_type": "markdown",
   "id": "63b4767d-c6f0-444c-8c78-3b6aea0b36b6",
   "metadata": {},
   "source": [
    "# Task B: RFQ Similarity\n",
    "\n",
    "In this task, I’m calculating how similar different RFQs are to each other based on their properties, both numeric and categorical, so that we can find the top matches for any given RFQ. Here’s a breakdown of what I did in each step:"
   ]
  },
  {
   "cell_type": "markdown",
   "id": "87168aac-abc2-4cfb-bef0-b3bbbce75f97",
   "metadata": {},
   "source": [
    "## Load Datasets\n",
    "\n",
    "I load the RFQs and the reference properties files. This is just to get all the data ready so I can work with it. I also checked the columns to make sure the names are what I expect."
   ]
  },
  {
   "cell_type": "code",
   "execution_count": 1,
   "id": "02443a26-9cd3-406f-ad2c-259008d5c3d9",
   "metadata": {
    "execution": {
     "iopub.execute_input": "2025-09-10T20:00:12.480412Z",
     "iopub.status.busy": "2025-09-10T20:00:12.479597Z",
     "iopub.status.idle": "2025-09-10T20:00:20.479931Z",
     "shell.execute_reply": "2025-09-10T20:00:20.478929Z"
    }
   },
   "outputs": [
    {
     "name": "stdout",
     "output_type": "stream",
     "text": [
      "Index(['id', 'grade', 'grade_suffix', 'coating', 'finish', 'surface_type',\n",
      "       'surface_protection', 'form', 'thickness_min', 'thickness_max',\n",
      "       'width_min', 'width_max', 'length_min', 'height_min', 'height_max',\n",
      "       'weight_min', 'weight_max', 'inner_diameter_min', 'inner_diameter_max',\n",
      "       'outer_diameter_min', 'outer_diameter_max', 'yield_strength_min',\n",
      "       'yield_strength_max', 'tensile_strength_min', 'tensile_strength_max'],\n",
      "      dtype='object')\n",
      "Index(['Grade/Material', 'UNS_No', 'Steel_No', 'Standards', 'Carbon (C)',\n",
      "       'Manganese (Mn)', 'Silicon (Si)', 'Sulfur (S)', 'Phosphorus (P)',\n",
      "       'Chromium (Cr)', 'Nickel (Ni)', 'Molybdenum (Mo)', 'Vanadium (V)',\n",
      "       'Tungsten (W)', 'Cobalt (Co)', 'Copper (Cu)', 'Aluminum (Al)',\n",
      "       'Titanium (Ti)', 'Niobium (Nb)', 'Boron (B)', 'Nitrogen (N)',\n",
      "       'Tensile strength (Rm)', 'Yield strength (Re or Rp0.2)',\n",
      "       'Elongation (A%)', 'Reduction of area (Z%)', 'Hardness (HB, HV, HRC)',\n",
      "       'Impact toughness (Charpy V-notch)', 'Fatigue limit',\n",
      "       'Creep resistance', 'Source_Pages', 'Application', 'Category',\n",
      "       'Nb + V + Ti (Others)', 'Coating'],\n",
      "      dtype='object')\n"
     ]
    }
   ],
   "source": [
    "import pandas as pd\n",
    "import numpy as np\n",
    "\n",
    "\n",
    "# Load datasets\n",
    "rfq = pd.read_csv(\"../data/rfq.csv\")              # RFQs\n",
    "ref = pd.read_csv(\"../data/reference_properties.tsv\", sep='\\t')  # Reference grade\n",
    "\n",
    "# Inspect columns to confirm names\n",
    "print(rfq.columns)\n",
    "print(ref.columns)"
   ]
  },
  {
   "cell_type": "markdown",
   "id": "b797c242-2c68-4a08-8097-250459a31e8e",
   "metadata": {},
   "source": [
    "## Task B.1 — Reference join & missing values\n",
    "\n",
    "Here, I normalized the grade names in both datasets so that they match (lowercase, stripped of spaces). Then I parsed numeric ranges in the reference properties (like “2.5–3.0” or “≤5”) into min, max, and mid values. Finally, I joined the RFQs with the reference properties based on the normalized grades and flaged any missing references."
   ]
  },
  {
   "cell_type": "code",
   "execution_count": 2,
   "id": "ed82fb89-b9c0-4a93-87d9-ae737a0b8d64",
   "metadata": {
    "execution": {
     "iopub.execute_input": "2025-09-10T20:00:20.486483Z",
     "iopub.status.busy": "2025-09-10T20:00:20.485381Z",
     "iopub.status.idle": "2025-09-10T20:00:20.505910Z",
     "shell.execute_reply": "2025-09-10T20:00:20.504096Z"
    }
   },
   "outputs": [],
   "source": [
    "# Normalize RFQ grades\n",
    "rfq['grade_norm'] = rfq['grade'].str.lower().str.strip()\n",
    "\n",
    "# Normalize reference grades\n",
    "# Adjust 'Grade/Material' based on actual column\n",
    "ref['grade_norm'] = ref['Grade/Material'].str.lower().str.strip()"
   ]
  },
  {
   "cell_type": "code",
   "execution_count": 3,
   "id": "149e4fb4-33e0-4055-95cf-d11daea91fa8",
   "metadata": {
    "execution": {
     "iopub.execute_input": "2025-09-10T20:00:20.513423Z",
     "iopub.status.busy": "2025-09-10T20:00:20.512269Z",
     "iopub.status.idle": "2025-09-10T20:00:20.878425Z",
     "shell.execute_reply": "2025-09-10T20:00:20.877195Z"
    }
   },
   "outputs": [],
   "source": [
    "import re\n",
    "def parse_range(s):\n",
    "    if pd.isna(s):\n",
    "        return (np.nan, np.nan)\n",
    "    s = str(s).replace('≤','').replace('≥','').replace('MPa','').strip()\n",
    "    # Split by - or en dash\n",
    "    parts = re.split(r'[-–]', s)\n",
    "    try:\n",
    "        a = float(parts[0].replace(',', '.')) if parts[0] else np.nan\n",
    "        b = float(parts[1].replace(',', '.')) if len(parts)>1 and parts[1] else a\n",
    "        return (min(a,b), max(a,b))\n",
    "    except:\n",
    "        return (np.nan, np.nan)\n",
    "\n",
    "# Example numeric columns to parse\n",
    "numeric_cols = [\n",
    "    'Carbon (C)','Manganese (Mn)','Silicon (Si)','Sulfur (S)','Phosphorus (P)',\n",
    "    'Tensile strength (Rm)','Yield strength (Re or Rp0.2)'\n",
    "]\n",
    "\n",
    "for col in numeric_cols:\n",
    "    if col in ref.columns:\n",
    "        ref[[f'{col}_min', f'{col}_max']] = ref[col].apply(lambda x: pd.Series(parse_range(x)))\n",
    "        ref[f'{col}_mid'] = ref[[f'{col}_min', f'{col}_max']].mean(axis=1)"
   ]
  },
  {
   "cell_type": "markdown",
   "id": "6f2c1ed1-170d-4539-bd63-83901b9818c8",
   "metadata": {},
   "source": [
    "### Join RFQs with reference"
   ]
  },
  {
   "cell_type": "code",
   "execution_count": 4,
   "id": "59657cba-b1a4-4be3-a302-5da7a1a2d94c",
   "metadata": {
    "execution": {
     "iopub.execute_input": "2025-09-10T20:00:20.884464Z",
     "iopub.status.busy": "2025-09-10T20:00:20.883587Z",
     "iopub.status.idle": "2025-09-10T20:00:20.920289Z",
     "shell.execute_reply": "2025-09-10T20:00:20.918698Z"
    }
   },
   "outputs": [],
   "source": [
    "# Merge RFQs with reference properties\n",
    "rfq_ref = rfq.merge(ref, on='grade_norm', how='left')\n",
    "\n",
    "# Flag missing reference grades\n",
    "rfq_ref['missing_ref'] = rfq_ref['grade_norm'].isnull() | rfq_ref['grade_norm'].isin(ref['grade_norm'].isnull())"
   ]
  },
  {
   "cell_type": "markdown",
   "id": "7011faa5-d32e-40ba-8d90-9f65d8061ba1",
   "metadata": {},
   "source": [
    "## Task B.2 — Feature engineering\n",
    "In this step, I prepared the features for similarity calculation:\n",
    "\n",
    "For numeric dimensions, I made sure we have min and max columns, and if max is missing I filled it with the min.\n",
    "\n",
    "I defined the categorical columns that we want to compare.\n",
    "\n",
    "I also created midpoints for numeric grades so that they can be used in similarity calculations."
   ]
  },
  {
   "cell_type": "code",
   "execution_count": 5,
   "id": "93e78ec6-5d32-49e0-bb55-7c59866df15b",
   "metadata": {
    "execution": {
     "iopub.execute_input": "2025-09-10T20:00:20.928290Z",
     "iopub.status.busy": "2025-09-10T20:00:20.927526Z",
     "iopub.status.idle": "2025-09-10T20:00:20.948599Z",
     "shell.execute_reply": "2025-09-10T20:00:20.946887Z"
    }
   },
   "outputs": [],
   "source": [
    "# Dimensions as intervals\n",
    "dimensions = ['thickness','width','length','height','weight',\n",
    "              'inner_diameter','outer_diameter',\n",
    "              'yield_strength','tensile_strength']\n",
    "\n",
    "for dim in dimensions:\n",
    "    min_col = f'{dim}_min'\n",
    "    max_col = f'{dim}_max'\n",
    "\n",
    "    # Create the columns if they don't exist\n",
    "    if min_col not in rfq_ref.columns:\n",
    "        rfq_ref[min_col] = np.nan\n",
    "    if max_col not in rfq_ref.columns:\n",
    "        rfq_ref[max_col] = np.nan\n",
    "\n",
    "    # Fill missing max with min (singleton case)\n",
    "    rfq_ref[max_col] = rfq_ref[max_col].fillna(rfq_ref[min_col])"
   ]
  },
  {
   "cell_type": "code",
   "execution_count": 6,
   "id": "c9af69f8-697b-4ad4-9e54-8b68a25ba8c6",
   "metadata": {
    "execution": {
     "iopub.execute_input": "2025-09-10T20:00:20.954925Z",
     "iopub.status.busy": "2025-09-10T20:00:20.953852Z",
     "iopub.status.idle": "2025-09-10T20:00:20.961959Z",
     "shell.execute_reply": "2025-09-10T20:00:20.960848Z"
    }
   },
   "outputs": [],
   "source": [
    "# Define categorical similarity\n",
    "categorical_cols = ['coating','finish','form','surface_type']"
   ]
  },
  {
   "cell_type": "code",
   "execution_count": 7,
   "id": "316f3cb5-368b-4408-a367-dd7e315c71a2",
   "metadata": {
    "execution": {
     "iopub.execute_input": "2025-09-10T20:00:20.967528Z",
     "iopub.status.busy": "2025-09-10T20:00:20.966798Z",
     "iopub.status.idle": "2025-09-10T20:00:20.975361Z",
     "shell.execute_reply": "2025-09-10T20:00:20.973100Z"
    }
   },
   "outputs": [],
   "source": [
    "# Grade midpoints\n",
    "grade_numeric_cols = [f'{col}_mid' for col in numeric_cols if f'{col}_mid' in rfq_ref.columns]"
   ]
  },
  {
   "cell_type": "markdown",
   "id": "386793ac-cdb1-4f17-a175-0c2957c6aa04",
   "metadata": {},
   "source": [
    "## Task B.3 — Similarity calculation\n",
    "\n",
    "I created functions to compute similarity between two RFQs:\n",
    "\n",
    "Dimension similarity: I used an interval-based IoU, which looks at how much two numeric ranges overlap.\n",
    "\n",
    "Categorical similarity: I checked if the categorical properties are the same.\n",
    "\n",
    "Grade similarity: For numeric grade properties, I compared the values using a simple ratio of smaller to larger.\n",
    "\n",
    "Then I combined all three types of similarity into an overall score using weights (dimension 0.5, categorical 0.2, grade 0.3)."
   ]
  },
  {
   "cell_type": "code",
   "execution_count": 8,
   "id": "da8d6e8e-778e-4301-9670-cc014c4f9acd",
   "metadata": {
    "execution": {
     "iopub.execute_input": "2025-09-10T20:00:20.981613Z",
     "iopub.status.busy": "2025-09-10T20:00:20.980796Z",
     "iopub.status.idle": "2025-09-10T20:00:20.991111Z",
     "shell.execute_reply": "2025-09-10T20:00:20.988615Z"
    }
   },
   "outputs": [],
   "source": [
    "# Interval IoU\n",
    "def interval_iou(a_min, a_max, b_min, b_max):\n",
    "    \"\"\"Compute IoU (intersection over union) for numeric intervals.\"\"\"\n",
    "    if np.isnan(a_min) or np.isnan(a_max) or np.isnan(b_min) or np.isnan(b_max):\n",
    "        return np.nan\n",
    "    inter = max(0, min(a_max, b_max) - max(a_min, b_min))\n",
    "    union = max(a_max, b_max) - min(a_min, b_min)\n",
    "    return inter / union if union > 0 else 0"
   ]
  },
  {
   "cell_type": "code",
   "execution_count": 9,
   "id": "a4069480-f801-4a38-b21b-819f73f385f3",
   "metadata": {
    "execution": {
     "iopub.execute_input": "2025-09-10T20:00:20.998246Z",
     "iopub.status.busy": "2025-09-10T20:00:20.997581Z",
     "iopub.status.idle": "2025-09-10T20:00:21.015894Z",
     "shell.execute_reply": "2025-09-10T20:00:21.014595Z"
    }
   },
   "outputs": [],
   "source": [
    "# RFQ similarity function\n",
    "def rfq_similarity(a, b, dimension_list, categorical_list, grade_numeric_cols):\n",
    "    \"\"\"Compute overall similarity between two RFQs.\"\"\"\n",
    "    \n",
    "    #Dimension similarity\n",
    "    dim_sims = []\n",
    "    for dim in dimension_list:\n",
    "        min_col = f'{dim}_min'\n",
    "        max_col = f'{dim}_max'\n",
    "\n",
    "        # Only compute if both RFQs have the dimension\n",
    "        if all(col in a.index for col in [min_col, max_col]) and all(col in b.index for col in [min_col, max_col]):\n",
    "            sim = interval_iou(a[min_col], a[max_col], b[min_col], b[max_col])\n",
    "            if sim is not None and not np.isnan(sim):\n",
    "                dim_sims.append(sim)\n",
    "\n",
    "    dim_score = np.mean(dim_sims) if dim_sims else 0\n",
    "\n",
    "    #Categorical similarity\n",
    "    cat_sims = []\n",
    "    for cat in categorical_list:\n",
    "        if cat in a.index and cat in b.index:\n",
    "            val_a, val_b = a[cat], b[cat]\n",
    "            if pd.isna(val_a) or pd.isna(val_b):\n",
    "                continue\n",
    "            cat_sims.append(1 if val_a == val_b else 0)\n",
    "\n",
    "    cat_score = np.mean(cat_sims) if cat_sims else 0\n",
    "\n",
    "    #Grade numeric properties similarity\n",
    "    grade_sims = []\n",
    "    for col in grade_numeric_cols:\n",
    "        if col in a.index and col in b.index:\n",
    "            val_a, val_b = a[col], b[col]\n",
    "            if pd.isna(val_a) or pd.isna(val_b):\n",
    "                continue\n",
    "            # Simple similarity: ratio of smaller/larger\n",
    "            grade_sims.append(min(val_a, val_b) / max(val_a, val_b) if max(val_a, val_b) != 0 else 0)\n",
    "\n",
    "    grade_score = np.mean(grade_sims) if grade_sims else 0\n",
    "\n",
    "    # Aggregate similarity\n",
    "    # Example: weighted average \n",
    "    weights = {\n",
    "        'dimension': 0.5,\n",
    "        'categorical': 0.2,\n",
    "        'grade': 0.3\n",
    "    }\n",
    "\n",
    "    overall_score = (\n",
    "        dim_score * weights['dimension'] +\n",
    "        cat_score * weights['categorical'] +\n",
    "        grade_score * weights['grade']\n",
    "    )\n",
    "\n",
    "    return overall_score"
   ]
  },
  {
   "cell_type": "markdown",
   "id": "c00aa8bf-3fe1-461b-8eb7-fc5186bf4d7c",
   "metadata": {},
   "source": [
    "## Compute top-3 most similar RFQs\n",
    "\n",
    "I looped through all RFQs and compared each one with every other RFQ using the similarity function. For each RFQ, I picked the top 3 most similar ones and saved them into a DataFrame. This gave me an easy way to see which RFQs are closest to any given RFQ.\n",
    "\n",
    "Finally, I saved the results to a CSV."
   ]
  },
  {
   "cell_type": "code",
   "execution_count": 10,
   "id": "90c3f34d-36f5-4739-9ce4-e9475a35e9ef",
   "metadata": {
    "execution": {
     "iopub.execute_input": "2025-09-10T20:00:21.023718Z",
     "iopub.status.busy": "2025-09-10T20:00:21.022545Z",
     "iopub.status.idle": "2025-09-10T20:15:31.175571Z",
     "shell.execute_reply": "2025-09-10T20:15:31.169052Z"
    }
   },
   "outputs": [
    {
     "name": "stderr",
     "output_type": "stream",
     "text": [
      "\r",
      "Processing RFQs:   0%|                                                                        | 0/1005 [00:00<?, ?it/s]"
     ]
    },
    {
     "name": "stderr",
     "output_type": "stream",
     "text": [
      "\r",
      "Processing RFQs:   0%|                                                                | 1/1005 [00:01<22:43,  1.36s/it]"
     ]
    },
    {
     "name": "stderr",
     "output_type": "stream",
     "text": [
      "\r",
      "Processing RFQs:   0%|▏                                                               | 2/1005 [00:02<19:26,  1.16s/it]"
     ]
    },
    {
     "name": "stderr",
     "output_type": "stream",
     "text": [
      "\r",
      "Processing RFQs:   0%|▏                                                               | 3/1005 [00:03<17:13,  1.03s/it]"
     ]
    },
    {
     "name": "stderr",
     "output_type": "stream",
     "text": [
      "\r",
      "Processing RFQs:   0%|▎                                                               | 4/1005 [00:03<15:03,  1.11it/s]"
     ]
    },
    {
     "name": "stderr",
     "output_type": "stream",
     "text": [
      "\r",
      "Processing RFQs:   0%|▎                                                               | 5/1005 [00:04<13:45,  1.21it/s]"
     ]
    },
    {
     "name": "stderr",
     "output_type": "stream",
     "text": [
      "\r",
      "Processing RFQs:   1%|▍                                                               | 6/1005 [00:05<13:08,  1.27it/s]"
     ]
    },
    {
     "name": "stderr",
     "output_type": "stream",
     "text": [
      "\r",
      "Processing RFQs:   1%|▍                                                               | 7/1005 [00:06<13:57,  1.19it/s]"
     ]
    },
    {
     "name": "stderr",
     "output_type": "stream",
     "text": [
      "\r",
      "Processing RFQs:   1%|▌                                                               | 8/1005 [00:07<14:26,  1.15it/s]"
     ]
    },
    {
     "name": "stderr",
     "output_type": "stream",
     "text": [
      "\r",
      "Processing RFQs:   1%|▌                                                               | 9/1005 [00:08<14:40,  1.13it/s]"
     ]
    },
    {
     "name": "stderr",
     "output_type": "stream",
     "text": [
      "\r",
      "Processing RFQs:   1%|▋                                                              | 10/1005 [00:09<15:14,  1.09it/s]"
     ]
    },
    {
     "name": "stderr",
     "output_type": "stream",
     "text": [
      "\r",
      "Processing RFQs:   1%|▋                                                              | 11/1005 [00:10<14:58,  1.11it/s]"
     ]
    },
    {
     "name": "stderr",
     "output_type": "stream",
     "text": [
      "\r",
      "Processing RFQs:   1%|▊                                                              | 12/1005 [00:10<14:56,  1.11it/s]"
     ]
    },
    {
     "name": "stderr",
     "output_type": "stream",
     "text": [
      "\r",
      "Processing RFQs:   1%|▊                                                              | 13/1005 [00:11<15:14,  1.08it/s]"
     ]
    },
    {
     "name": "stderr",
     "output_type": "stream",
     "text": [
      "\r",
      "Processing RFQs:   1%|▉                                                              | 14/1005 [00:12<15:06,  1.09it/s]"
     ]
    },
    {
     "name": "stderr",
     "output_type": "stream",
     "text": [
      "\r",
      "Processing RFQs:   1%|▉                                                              | 15/1005 [00:13<14:28,  1.14it/s]"
     ]
    },
    {
     "name": "stderr",
     "output_type": "stream",
     "text": [
      "\r",
      "Processing RFQs:   2%|█                                                              | 16/1005 [00:14<13:29,  1.22it/s]"
     ]
    },
    {
     "name": "stderr",
     "output_type": "stream",
     "text": [
      "\r",
      "Processing RFQs:   2%|█                                                              | 17/1005 [00:14<12:45,  1.29it/s]"
     ]
    },
    {
     "name": "stderr",
     "output_type": "stream",
     "text": [
      "\r",
      "Processing RFQs:   2%|█▏                                                             | 18/1005 [00:15<12:53,  1.28it/s]"
     ]
    },
    {
     "name": "stderr",
     "output_type": "stream",
     "text": [
      "\r",
      "Processing RFQs:   2%|█▏                                                             | 19/1005 [00:16<13:25,  1.22it/s]"
     ]
    },
    {
     "name": "stderr",
     "output_type": "stream",
     "text": [
      "\r",
      "Processing RFQs:   2%|█▎                                                             | 20/1005 [00:17<13:59,  1.17it/s]"
     ]
    },
    {
     "name": "stderr",
     "output_type": "stream",
     "text": [
      "\r",
      "Processing RFQs:   2%|█▎                                                             | 21/1005 [00:18<14:17,  1.15it/s]"
     ]
    },
    {
     "name": "stderr",
     "output_type": "stream",
     "text": [
      "\r",
      "Processing RFQs:   2%|█▍                                                             | 22/1005 [00:19<14:44,  1.11it/s]"
     ]
    },
    {
     "name": "stderr",
     "output_type": "stream",
     "text": [
      "\r",
      "Processing RFQs:   2%|█▍                                                             | 23/1005 [00:20<14:53,  1.10it/s]"
     ]
    },
    {
     "name": "stderr",
     "output_type": "stream",
     "text": [
      "\r",
      "Processing RFQs:   2%|█▌                                                             | 24/1005 [00:21<15:30,  1.05it/s]"
     ]
    },
    {
     "name": "stderr",
     "output_type": "stream",
     "text": [
      "\r",
      "Processing RFQs:   2%|█▌                                                             | 25/1005 [00:22<17:48,  1.09s/it]"
     ]
    },
    {
     "name": "stderr",
     "output_type": "stream",
     "text": [
      "\r",
      "Processing RFQs:   3%|█▋                                                             | 26/1005 [00:24<18:32,  1.14s/it]"
     ]
    },
    {
     "name": "stderr",
     "output_type": "stream",
     "text": [
      "\r",
      "Processing RFQs:   3%|█▋                                                             | 27/1005 [00:25<19:11,  1.18s/it]"
     ]
    },
    {
     "name": "stderr",
     "output_type": "stream",
     "text": [
      "\r",
      "Processing RFQs:   3%|█▊                                                             | 28/1005 [00:26<18:11,  1.12s/it]"
     ]
    },
    {
     "name": "stderr",
     "output_type": "stream",
     "text": [
      "\r",
      "Processing RFQs:   3%|█▊                                                             | 29/1005 [00:27<17:07,  1.05s/it]"
     ]
    },
    {
     "name": "stderr",
     "output_type": "stream",
     "text": [
      "\r",
      "Processing RFQs:   3%|█▉                                                             | 30/1005 [00:28<16:24,  1.01s/it]"
     ]
    },
    {
     "name": "stderr",
     "output_type": "stream",
     "text": [
      "\r",
      "Processing RFQs:   3%|█▉                                                             | 31/1005 [00:29<15:51,  1.02it/s]"
     ]
    },
    {
     "name": "stderr",
     "output_type": "stream",
     "text": [
      "\r",
      "Processing RFQs:   3%|██                                                             | 32/1005 [00:30<15:52,  1.02it/s]"
     ]
    },
    {
     "name": "stderr",
     "output_type": "stream",
     "text": [
      "\r",
      "Processing RFQs:   3%|██                                                             | 33/1005 [00:30<15:31,  1.04it/s]"
     ]
    },
    {
     "name": "stderr",
     "output_type": "stream",
     "text": [
      "\r",
      "Processing RFQs:   3%|██▏                                                            | 34/1005 [00:31<15:17,  1.06it/s]"
     ]
    },
    {
     "name": "stderr",
     "output_type": "stream",
     "text": [
      "\r",
      "Processing RFQs:   3%|██▏                                                            | 35/1005 [00:32<15:01,  1.08it/s]"
     ]
    },
    {
     "name": "stderr",
     "output_type": "stream",
     "text": [
      "\r",
      "Processing RFQs:   4%|██▎                                                            | 36/1005 [00:33<14:16,  1.13it/s]"
     ]
    },
    {
     "name": "stderr",
     "output_type": "stream",
     "text": [
      "\r",
      "Processing RFQs:   4%|██▎                                                            | 37/1005 [00:34<14:09,  1.14it/s]"
     ]
    },
    {
     "name": "stderr",
     "output_type": "stream",
     "text": [
      "\r",
      "Processing RFQs:   4%|██▍                                                            | 38/1005 [00:35<13:33,  1.19it/s]"
     ]
    },
    {
     "name": "stderr",
     "output_type": "stream",
     "text": [
      "\r",
      "Processing RFQs:   4%|██▍                                                            | 39/1005 [00:36<13:40,  1.18it/s]"
     ]
    },
    {
     "name": "stderr",
     "output_type": "stream",
     "text": [
      "\r",
      "Processing RFQs:   4%|██▌                                                            | 40/1005 [00:36<13:52,  1.16it/s]"
     ]
    },
    {
     "name": "stderr",
     "output_type": "stream",
     "text": [
      "\r",
      "Processing RFQs:   4%|██▌                                                            | 41/1005 [00:37<14:10,  1.13it/s]"
     ]
    },
    {
     "name": "stderr",
     "output_type": "stream",
     "text": [
      "\r",
      "Processing RFQs:   4%|██▋                                                            | 42/1005 [00:38<14:20,  1.12it/s]"
     ]
    },
    {
     "name": "stderr",
     "output_type": "stream",
     "text": [
      "\r",
      "Processing RFQs:   4%|██▋                                                            | 43/1005 [00:39<14:59,  1.07it/s]"
     ]
    },
    {
     "name": "stderr",
     "output_type": "stream",
     "text": [
      "\r",
      "Processing RFQs:   4%|██▊                                                            | 44/1005 [00:40<15:01,  1.07it/s]"
     ]
    },
    {
     "name": "stderr",
     "output_type": "stream",
     "text": [
      "\r",
      "Processing RFQs:   4%|██▊                                                            | 45/1005 [00:41<14:56,  1.07it/s]"
     ]
    },
    {
     "name": "stderr",
     "output_type": "stream",
     "text": [
      "\r",
      "Processing RFQs:   5%|██▉                                                            | 46/1005 [00:42<14:41,  1.09it/s]"
     ]
    },
    {
     "name": "stderr",
     "output_type": "stream",
     "text": [
      "\r",
      "Processing RFQs:   5%|██▉                                                            | 47/1005 [00:43<14:00,  1.14it/s]"
     ]
    },
    {
     "name": "stderr",
     "output_type": "stream",
     "text": [
      "\r",
      "Processing RFQs:   5%|███                                                            | 48/1005 [00:44<13:21,  1.19it/s]"
     ]
    },
    {
     "name": "stderr",
     "output_type": "stream",
     "text": [
      "\r",
      "Processing RFQs:   5%|███                                                            | 49/1005 [00:44<12:31,  1.27it/s]"
     ]
    },
    {
     "name": "stderr",
     "output_type": "stream",
     "text": [
      "\r",
      "Processing RFQs:   5%|███▏                                                           | 50/1005 [00:45<12:07,  1.31it/s]"
     ]
    },
    {
     "name": "stderr",
     "output_type": "stream",
     "text": [
      "\r",
      "Processing RFQs:   5%|███▏                                                           | 51/1005 [00:46<12:52,  1.23it/s]"
     ]
    },
    {
     "name": "stderr",
     "output_type": "stream",
     "text": [
      "\r",
      "Processing RFQs:   5%|███▎                                                           | 52/1005 [00:47<15:07,  1.05it/s]"
     ]
    },
    {
     "name": "stderr",
     "output_type": "stream",
     "text": [
      "\r",
      "Processing RFQs:   5%|███▎                                                           | 53/1005 [00:49<20:23,  1.29s/it]"
     ]
    },
    {
     "name": "stderr",
     "output_type": "stream",
     "text": [
      "\r",
      "Processing RFQs:   5%|███▍                                                           | 54/1005 [00:51<21:36,  1.36s/it]"
     ]
    },
    {
     "name": "stderr",
     "output_type": "stream",
     "text": [
      "\r",
      "Processing RFQs:   5%|███▍                                                           | 55/1005 [00:52<20:06,  1.27s/it]"
     ]
    },
    {
     "name": "stderr",
     "output_type": "stream",
     "text": [
      "\r",
      "Processing RFQs:   6%|███▌                                                           | 56/1005 [00:53<18:14,  1.15s/it]"
     ]
    },
    {
     "name": "stderr",
     "output_type": "stream",
     "text": [
      "\r",
      "Processing RFQs:   6%|███▌                                                           | 57/1005 [00:53<16:09,  1.02s/it]"
     ]
    },
    {
     "name": "stderr",
     "output_type": "stream",
     "text": [
      "\r",
      "Processing RFQs:   6%|███▋                                                           | 58/1005 [00:54<14:25,  1.09it/s]"
     ]
    },
    {
     "name": "stderr",
     "output_type": "stream",
     "text": [
      "\r",
      "Processing RFQs:   6%|███▋                                                           | 59/1005 [00:55<13:14,  1.19it/s]"
     ]
    },
    {
     "name": "stderr",
     "output_type": "stream",
     "text": [
      "\r",
      "Processing RFQs:   6%|███▊                                                           | 60/1005 [00:56<13:20,  1.18it/s]"
     ]
    },
    {
     "name": "stderr",
     "output_type": "stream",
     "text": [
      "\r",
      "Processing RFQs:   6%|███▊                                                           | 61/1005 [00:57<13:37,  1.15it/s]"
     ]
    },
    {
     "name": "stderr",
     "output_type": "stream",
     "text": [
      "\r",
      "Processing RFQs:   6%|███▉                                                           | 62/1005 [00:57<14:01,  1.12it/s]"
     ]
    },
    {
     "name": "stderr",
     "output_type": "stream",
     "text": [
      "\r",
      "Processing RFQs:   6%|███▉                                                           | 63/1005 [00:58<14:17,  1.10it/s]"
     ]
    },
    {
     "name": "stderr",
     "output_type": "stream",
     "text": [
      "\r",
      "Processing RFQs:   6%|████                                                           | 64/1005 [00:59<14:39,  1.07it/s]"
     ]
    },
    {
     "name": "stderr",
     "output_type": "stream",
     "text": [
      "\r",
      "Processing RFQs:   6%|████                                                           | 65/1005 [01:00<14:49,  1.06it/s]"
     ]
    },
    {
     "name": "stderr",
     "output_type": "stream",
     "text": [
      "\r",
      "Processing RFQs:   7%|████▏                                                          | 66/1005 [01:01<14:35,  1.07it/s]"
     ]
    },
    {
     "name": "stderr",
     "output_type": "stream",
     "text": [
      "\r",
      "Processing RFQs:   7%|████▏                                                          | 67/1005 [01:02<14:32,  1.08it/s]"
     ]
    },
    {
     "name": "stderr",
     "output_type": "stream",
     "text": [
      "\r",
      "Processing RFQs:   7%|████▎                                                          | 68/1005 [01:03<13:39,  1.14it/s]"
     ]
    },
    {
     "name": "stderr",
     "output_type": "stream",
     "text": [
      "\r",
      "Processing RFQs:   7%|████▎                                                          | 69/1005 [01:04<13:05,  1.19it/s]"
     ]
    },
    {
     "name": "stderr",
     "output_type": "stream",
     "text": [
      "\r",
      "Processing RFQs:   7%|████▍                                                          | 70/1005 [01:04<12:21,  1.26it/s]"
     ]
    },
    {
     "name": "stderr",
     "output_type": "stream",
     "text": [
      "\r",
      "Processing RFQs:   7%|████▍                                                          | 71/1005 [01:05<12:17,  1.27it/s]"
     ]
    },
    {
     "name": "stderr",
     "output_type": "stream",
     "text": [
      "\r",
      "Processing RFQs:   7%|████▌                                                          | 72/1005 [01:06<12:54,  1.20it/s]"
     ]
    },
    {
     "name": "stderr",
     "output_type": "stream",
     "text": [
      "\r",
      "Processing RFQs:   7%|████▌                                                          | 73/1005 [01:07<13:12,  1.18it/s]"
     ]
    },
    {
     "name": "stderr",
     "output_type": "stream",
     "text": [
      "\r",
      "Processing RFQs:   7%|████▋                                                          | 74/1005 [01:08<13:46,  1.13it/s]"
     ]
    },
    {
     "name": "stderr",
     "output_type": "stream",
     "text": [
      "\r",
      "Processing RFQs:   7%|████▋                                                          | 75/1005 [01:09<13:58,  1.11it/s]"
     ]
    },
    {
     "name": "stderr",
     "output_type": "stream",
     "text": [
      "\r",
      "Processing RFQs:   8%|████▊                                                          | 76/1005 [01:10<14:20,  1.08it/s]"
     ]
    },
    {
     "name": "stderr",
     "output_type": "stream",
     "text": [
      "\r",
      "Processing RFQs:   8%|████▊                                                          | 77/1005 [01:11<14:19,  1.08it/s]"
     ]
    },
    {
     "name": "stderr",
     "output_type": "stream",
     "text": [
      "\r",
      "Processing RFQs:   8%|████▉                                                          | 78/1005 [01:12<14:19,  1.08it/s]"
     ]
    },
    {
     "name": "stderr",
     "output_type": "stream",
     "text": [
      "\r",
      "Processing RFQs:   8%|████▉                                                          | 79/1005 [01:13<13:55,  1.11it/s]"
     ]
    },
    {
     "name": "stderr",
     "output_type": "stream",
     "text": [
      "\r",
      "Processing RFQs:   8%|█████                                                          | 80/1005 [01:13<13:04,  1.18it/s]"
     ]
    },
    {
     "name": "stderr",
     "output_type": "stream",
     "text": [
      "\r",
      "Processing RFQs:   8%|█████                                                          | 81/1005 [01:14<12:23,  1.24it/s]"
     ]
    },
    {
     "name": "stderr",
     "output_type": "stream",
     "text": [
      "\r",
      "Processing RFQs:   8%|█████▏                                                         | 82/1005 [01:15<12:18,  1.25it/s]"
     ]
    },
    {
     "name": "stderr",
     "output_type": "stream",
     "text": [
      "\r",
      "Processing RFQs:   8%|█████▏                                                         | 83/1005 [01:16<13:04,  1.18it/s]"
     ]
    },
    {
     "name": "stderr",
     "output_type": "stream",
     "text": [
      "\r",
      "Processing RFQs:   8%|█████▎                                                         | 84/1005 [01:17<13:13,  1.16it/s]"
     ]
    },
    {
     "name": "stderr",
     "output_type": "stream",
     "text": [
      "\r",
      "Processing RFQs:   8%|█████▎                                                         | 85/1005 [01:18<13:21,  1.15it/s]"
     ]
    },
    {
     "name": "stderr",
     "output_type": "stream",
     "text": [
      "\r",
      "Processing RFQs:   9%|█████▍                                                         | 86/1005 [01:18<13:25,  1.14it/s]"
     ]
    },
    {
     "name": "stderr",
     "output_type": "stream",
     "text": [
      "\r",
      "Processing RFQs:   9%|█████▍                                                         | 87/1005 [01:19<13:47,  1.11it/s]"
     ]
    },
    {
     "name": "stderr",
     "output_type": "stream",
     "text": [
      "\r",
      "Processing RFQs:   9%|█████▌                                                         | 88/1005 [01:20<14:13,  1.07it/s]"
     ]
    },
    {
     "name": "stderr",
     "output_type": "stream",
     "text": [
      "\r",
      "Processing RFQs:   9%|█████▌                                                         | 89/1005 [01:21<14:07,  1.08it/s]"
     ]
    },
    {
     "name": "stderr",
     "output_type": "stream",
     "text": [
      "\r",
      "Processing RFQs:   9%|█████▋                                                         | 90/1005 [01:22<14:05,  1.08it/s]"
     ]
    },
    {
     "name": "stderr",
     "output_type": "stream",
     "text": [
      "\r",
      "Processing RFQs:   9%|█████▋                                                         | 91/1005 [01:23<13:02,  1.17it/s]"
     ]
    },
    {
     "name": "stderr",
     "output_type": "stream",
     "text": [
      "\r",
      "Processing RFQs:   9%|█████▊                                                         | 92/1005 [01:24<12:27,  1.22it/s]"
     ]
    },
    {
     "name": "stderr",
     "output_type": "stream",
     "text": [
      "\r",
      "Processing RFQs:   9%|█████▊                                                         | 93/1005 [01:24<11:52,  1.28it/s]"
     ]
    },
    {
     "name": "stderr",
     "output_type": "stream",
     "text": [
      "\r",
      "Processing RFQs:   9%|█████▉                                                         | 94/1005 [01:25<11:33,  1.31it/s]"
     ]
    },
    {
     "name": "stderr",
     "output_type": "stream",
     "text": [
      "\r",
      "Processing RFQs:   9%|█████▉                                                         | 95/1005 [01:26<12:08,  1.25it/s]"
     ]
    },
    {
     "name": "stderr",
     "output_type": "stream",
     "text": [
      "\r",
      "Processing RFQs:  10%|██████                                                         | 96/1005 [01:27<12:33,  1.21it/s]"
     ]
    },
    {
     "name": "stderr",
     "output_type": "stream",
     "text": [
      "\r",
      "Processing RFQs:  10%|██████                                                         | 97/1005 [01:28<12:57,  1.17it/s]"
     ]
    },
    {
     "name": "stderr",
     "output_type": "stream",
     "text": [
      "\r",
      "Processing RFQs:  10%|██████▏                                                        | 98/1005 [01:29<13:18,  1.14it/s]"
     ]
    },
    {
     "name": "stderr",
     "output_type": "stream",
     "text": [
      "\r",
      "Processing RFQs:  10%|██████▏                                                        | 99/1005 [01:30<13:53,  1.09it/s]"
     ]
    },
    {
     "name": "stderr",
     "output_type": "stream",
     "text": [
      "\r",
      "Processing RFQs:  10%|██████▏                                                       | 100/1005 [01:31<14:04,  1.07it/s]"
     ]
    },
    {
     "name": "stderr",
     "output_type": "stream",
     "text": [
      "\r",
      "Processing RFQs:  10%|██████▏                                                       | 101/1005 [01:32<14:04,  1.07it/s]"
     ]
    },
    {
     "name": "stderr",
     "output_type": "stream",
     "text": [
      "\r",
      "Processing RFQs:  10%|██████▎                                                       | 102/1005 [01:33<13:54,  1.08it/s]"
     ]
    },
    {
     "name": "stderr",
     "output_type": "stream",
     "text": [
      "\r",
      "Processing RFQs:  10%|██████▎                                                       | 103/1005 [01:33<12:49,  1.17it/s]"
     ]
    },
    {
     "name": "stderr",
     "output_type": "stream",
     "text": [
      "\r",
      "Processing RFQs:  10%|██████▍                                                       | 104/1005 [01:34<12:21,  1.21it/s]"
     ]
    },
    {
     "name": "stderr",
     "output_type": "stream",
     "text": [
      "\r",
      "Processing RFQs:  10%|██████▍                                                       | 105/1005 [01:35<11:44,  1.28it/s]"
     ]
    },
    {
     "name": "stderr",
     "output_type": "stream",
     "text": [
      "\r",
      "Processing RFQs:  11%|██████▌                                                       | 106/1005 [01:35<11:55,  1.26it/s]"
     ]
    },
    {
     "name": "stderr",
     "output_type": "stream",
     "text": [
      "\r",
      "Processing RFQs:  11%|██████▌                                                       | 107/1005 [01:36<12:32,  1.19it/s]"
     ]
    },
    {
     "name": "stderr",
     "output_type": "stream",
     "text": [
      "\r",
      "Processing RFQs:  11%|██████▋                                                       | 108/1005 [01:37<12:55,  1.16it/s]"
     ]
    },
    {
     "name": "stderr",
     "output_type": "stream",
     "text": [
      "\r",
      "Processing RFQs:  11%|██████▋                                                       | 109/1005 [01:38<13:26,  1.11it/s]"
     ]
    },
    {
     "name": "stderr",
     "output_type": "stream",
     "text": [
      "\r",
      "Processing RFQs:  11%|██████▊                                                       | 110/1005 [01:39<13:31,  1.10it/s]"
     ]
    },
    {
     "name": "stderr",
     "output_type": "stream",
     "text": [
      "\r",
      "Processing RFQs:  11%|██████▊                                                       | 111/1005 [01:40<14:10,  1.05it/s]"
     ]
    },
    {
     "name": "stderr",
     "output_type": "stream",
     "text": [
      "\r",
      "Processing RFQs:  11%|██████▉                                                       | 112/1005 [01:41<14:01,  1.06it/s]"
     ]
    },
    {
     "name": "stderr",
     "output_type": "stream",
     "text": [
      "\r",
      "Processing RFQs:  11%|██████▉                                                       | 113/1005 [01:42<15:19,  1.03s/it]"
     ]
    },
    {
     "name": "stderr",
     "output_type": "stream",
     "text": [
      "\r",
      "Processing RFQs:  11%|███████                                                       | 114/1005 [01:43<13:50,  1.07it/s]"
     ]
    },
    {
     "name": "stderr",
     "output_type": "stream",
     "text": [
      "\r",
      "Processing RFQs:  11%|███████                                                       | 115/1005 [01:44<13:16,  1.12it/s]"
     ]
    },
    {
     "name": "stderr",
     "output_type": "stream",
     "text": [
      "\r",
      "Processing RFQs:  12%|███████▏                                                      | 116/1005 [01:45<12:31,  1.18it/s]"
     ]
    },
    {
     "name": "stderr",
     "output_type": "stream",
     "text": [
      "\r",
      "Processing RFQs:  12%|███████▏                                                      | 117/1005 [01:46<12:36,  1.17it/s]"
     ]
    },
    {
     "name": "stderr",
     "output_type": "stream",
     "text": [
      "\r",
      "Processing RFQs:  12%|███████▎                                                      | 118/1005 [01:47<12:55,  1.14it/s]"
     ]
    },
    {
     "name": "stderr",
     "output_type": "stream",
     "text": [
      "\r",
      "Processing RFQs:  12%|███████▎                                                      | 119/1005 [01:48<15:05,  1.02s/it]"
     ]
    },
    {
     "name": "stderr",
     "output_type": "stream",
     "text": [
      "\r",
      "Processing RFQs:  12%|███████▍                                                      | 120/1005 [01:49<14:45,  1.00s/it]"
     ]
    },
    {
     "name": "stderr",
     "output_type": "stream",
     "text": [
      "\r",
      "Processing RFQs:  12%|███████▍                                                      | 121/1005 [01:50<14:49,  1.01s/it]"
     ]
    },
    {
     "name": "stderr",
     "output_type": "stream",
     "text": [
      "\r",
      "Processing RFQs:  12%|███████▌                                                      | 122/1005 [01:51<16:00,  1.09s/it]"
     ]
    },
    {
     "name": "stderr",
     "output_type": "stream",
     "text": [
      "\r",
      "Processing RFQs:  12%|███████▌                                                      | 123/1005 [01:52<15:22,  1.05s/it]"
     ]
    },
    {
     "name": "stderr",
     "output_type": "stream",
     "text": [
      "\r",
      "Processing RFQs:  12%|███████▋                                                      | 124/1005 [01:53<14:19,  1.03it/s]"
     ]
    },
    {
     "name": "stderr",
     "output_type": "stream",
     "text": [
      "\r",
      "Processing RFQs:  12%|███████▋                                                      | 125/1005 [01:54<13:11,  1.11it/s]"
     ]
    },
    {
     "name": "stderr",
     "output_type": "stream",
     "text": [
      "\r",
      "Processing RFQs:  13%|███████▊                                                      | 126/1005 [01:54<12:32,  1.17it/s]"
     ]
    },
    {
     "name": "stderr",
     "output_type": "stream",
     "text": [
      "\r",
      "Processing RFQs:  13%|███████▊                                                      | 127/1005 [01:55<12:00,  1.22it/s]"
     ]
    },
    {
     "name": "stderr",
     "output_type": "stream",
     "text": [
      "\r",
      "Processing RFQs:  13%|███████▉                                                      | 128/1005 [01:56<12:23,  1.18it/s]"
     ]
    },
    {
     "name": "stderr",
     "output_type": "stream",
     "text": [
      "\r",
      "Processing RFQs:  13%|███████▉                                                      | 129/1005 [01:57<12:23,  1.18it/s]"
     ]
    },
    {
     "name": "stderr",
     "output_type": "stream",
     "text": [
      "\r",
      "Processing RFQs:  13%|████████                                                      | 130/1005 [01:58<12:28,  1.17it/s]"
     ]
    },
    {
     "name": "stderr",
     "output_type": "stream",
     "text": [
      "\r",
      "Processing RFQs:  13%|████████                                                      | 131/1005 [01:59<12:51,  1.13it/s]"
     ]
    },
    {
     "name": "stderr",
     "output_type": "stream",
     "text": [
      "\r",
      "Processing RFQs:  13%|████████▏                                                     | 132/1005 [02:00<13:02,  1.12it/s]"
     ]
    },
    {
     "name": "stderr",
     "output_type": "stream",
     "text": [
      "\r",
      "Processing RFQs:  13%|████████▏                                                     | 133/1005 [02:01<13:29,  1.08it/s]"
     ]
    },
    {
     "name": "stderr",
     "output_type": "stream",
     "text": [
      "\r",
      "Processing RFQs:  13%|████████▎                                                     | 134/1005 [02:01<13:20,  1.09it/s]"
     ]
    },
    {
     "name": "stderr",
     "output_type": "stream",
     "text": [
      "\r",
      "Processing RFQs:  13%|████████▎                                                     | 135/1005 [02:02<13:14,  1.10it/s]"
     ]
    },
    {
     "name": "stderr",
     "output_type": "stream",
     "text": [
      "\r",
      "Processing RFQs:  14%|████████▍                                                     | 136/1005 [02:03<12:14,  1.18it/s]"
     ]
    },
    {
     "name": "stderr",
     "output_type": "stream",
     "text": [
      "\r",
      "Processing RFQs:  14%|████████▍                                                     | 137/1005 [02:04<11:38,  1.24it/s]"
     ]
    },
    {
     "name": "stderr",
     "output_type": "stream",
     "text": [
      "\r",
      "Processing RFQs:  14%|████████▌                                                     | 138/1005 [02:05<11:14,  1.29it/s]"
     ]
    },
    {
     "name": "stderr",
     "output_type": "stream",
     "text": [
      "\r",
      "Processing RFQs:  14%|████████▌                                                     | 139/1005 [02:05<11:15,  1.28it/s]"
     ]
    },
    {
     "name": "stderr",
     "output_type": "stream",
     "text": [
      "\r",
      "Processing RFQs:  14%|████████▋                                                     | 140/1005 [02:06<11:55,  1.21it/s]"
     ]
    },
    {
     "name": "stderr",
     "output_type": "stream",
     "text": [
      "\r",
      "Processing RFQs:  14%|████████▋                                                     | 141/1005 [02:07<12:15,  1.17it/s]"
     ]
    },
    {
     "name": "stderr",
     "output_type": "stream",
     "text": [
      "\r",
      "Processing RFQs:  14%|████████▊                                                     | 142/1005 [02:08<12:33,  1.15it/s]"
     ]
    },
    {
     "name": "stderr",
     "output_type": "stream",
     "text": [
      "\r",
      "Processing RFQs:  14%|████████▊                                                     | 143/1005 [02:09<12:49,  1.12it/s]"
     ]
    },
    {
     "name": "stderr",
     "output_type": "stream",
     "text": [
      "\r",
      "Processing RFQs:  14%|████████▉                                                     | 144/1005 [02:10<12:54,  1.11it/s]"
     ]
    },
    {
     "name": "stderr",
     "output_type": "stream",
     "text": [
      "\r",
      "Processing RFQs:  14%|████████▉                                                     | 145/1005 [02:11<13:20,  1.07it/s]"
     ]
    },
    {
     "name": "stderr",
     "output_type": "stream",
     "text": [
      "\r",
      "Processing RFQs:  15%|█████████                                                     | 146/1005 [02:12<14:03,  1.02it/s]"
     ]
    },
    {
     "name": "stderr",
     "output_type": "stream",
     "text": [
      "\r",
      "Processing RFQs:  15%|█████████                                                     | 147/1005 [02:13<15:42,  1.10s/it]"
     ]
    },
    {
     "name": "stderr",
     "output_type": "stream",
     "text": [
      "\r",
      "Processing RFQs:  15%|█████████▏                                                    | 148/1005 [02:14<14:36,  1.02s/it]"
     ]
    },
    {
     "name": "stderr",
     "output_type": "stream",
     "text": [
      "\r",
      "Processing RFQs:  15%|█████████▏                                                    | 149/1005 [02:15<13:24,  1.06it/s]"
     ]
    },
    {
     "name": "stderr",
     "output_type": "stream",
     "text": [
      "\r",
      "Processing RFQs:  15%|█████████▎                                                    | 150/1005 [02:16<13:15,  1.07it/s]"
     ]
    },
    {
     "name": "stderr",
     "output_type": "stream",
     "text": [
      "\r",
      "Processing RFQs:  15%|█████████▎                                                    | 151/1005 [02:17<13:30,  1.05it/s]"
     ]
    },
    {
     "name": "stderr",
     "output_type": "stream",
     "text": [
      "\r",
      "Processing RFQs:  15%|█████████▍                                                    | 152/1005 [02:18<13:24,  1.06it/s]"
     ]
    },
    {
     "name": "stderr",
     "output_type": "stream",
     "text": [
      "\r",
      "Processing RFQs:  15%|█████████▍                                                    | 153/1005 [02:19<13:30,  1.05it/s]"
     ]
    },
    {
     "name": "stderr",
     "output_type": "stream",
     "text": [
      "\r",
      "Processing RFQs:  15%|█████████▌                                                    | 154/1005 [02:20<13:16,  1.07it/s]"
     ]
    },
    {
     "name": "stderr",
     "output_type": "stream",
     "text": [
      "\r",
      "Processing RFQs:  15%|█████████▌                                                    | 155/1005 [02:21<13:42,  1.03it/s]"
     ]
    },
    {
     "name": "stderr",
     "output_type": "stream",
     "text": [
      "\r",
      "Processing RFQs:  16%|█████████▌                                                    | 156/1005 [02:22<13:46,  1.03it/s]"
     ]
    },
    {
     "name": "stderr",
     "output_type": "stream",
     "text": [
      "\r",
      "Processing RFQs:  16%|█████████▋                                                    | 157/1005 [02:23<13:38,  1.04it/s]"
     ]
    },
    {
     "name": "stderr",
     "output_type": "stream",
     "text": [
      "\r",
      "Processing RFQs:  16%|█████████▋                                                    | 158/1005 [02:23<12:13,  1.16it/s]"
     ]
    },
    {
     "name": "stderr",
     "output_type": "stream",
     "text": [
      "\r",
      "Processing RFQs:  16%|█████████▊                                                    | 159/1005 [02:24<11:28,  1.23it/s]"
     ]
    },
    {
     "name": "stderr",
     "output_type": "stream",
     "text": [
      "\r",
      "Processing RFQs:  16%|█████████▊                                                    | 160/1005 [02:25<11:16,  1.25it/s]"
     ]
    },
    {
     "name": "stderr",
     "output_type": "stream",
     "text": [
      "\r",
      "Processing RFQs:  16%|█████████▉                                                    | 161/1005 [02:26<11:29,  1.22it/s]"
     ]
    },
    {
     "name": "stderr",
     "output_type": "stream",
     "text": [
      "\r",
      "Processing RFQs:  16%|█████████▉                                                    | 162/1005 [02:27<12:03,  1.16it/s]"
     ]
    },
    {
     "name": "stderr",
     "output_type": "stream",
     "text": [
      "\r",
      "Processing RFQs:  16%|██████████                                                    | 163/1005 [02:27<12:13,  1.15it/s]"
     ]
    },
    {
     "name": "stderr",
     "output_type": "stream",
     "text": [
      "\r",
      "Processing RFQs:  16%|██████████                                                    | 164/1005 [02:28<12:34,  1.11it/s]"
     ]
    },
    {
     "name": "stderr",
     "output_type": "stream",
     "text": [
      "\r",
      "Processing RFQs:  16%|██████████▏                                                   | 165/1005 [02:29<12:33,  1.12it/s]"
     ]
    },
    {
     "name": "stderr",
     "output_type": "stream",
     "text": [
      "\r",
      "Processing RFQs:  17%|██████████▏                                                   | 166/1005 [02:30<12:54,  1.08it/s]"
     ]
    },
    {
     "name": "stderr",
     "output_type": "stream",
     "text": [
      "\r",
      "Processing RFQs:  17%|██████████▎                                                   | 167/1005 [02:31<12:55,  1.08it/s]"
     ]
    },
    {
     "name": "stderr",
     "output_type": "stream",
     "text": [
      "\r",
      "Processing RFQs:  17%|██████████▎                                                   | 168/1005 [02:32<12:52,  1.08it/s]"
     ]
    },
    {
     "name": "stderr",
     "output_type": "stream",
     "text": [
      "\r",
      "Processing RFQs:  17%|██████████▍                                                   | 169/1005 [02:33<12:17,  1.13it/s]"
     ]
    },
    {
     "name": "stderr",
     "output_type": "stream",
     "text": [
      "\r",
      "Processing RFQs:  17%|██████████▍                                                   | 170/1005 [02:34<11:31,  1.21it/s]"
     ]
    },
    {
     "name": "stderr",
     "output_type": "stream",
     "text": [
      "\r",
      "Processing RFQs:  17%|██████████▌                                                   | 171/1005 [02:34<11:17,  1.23it/s]"
     ]
    },
    {
     "name": "stderr",
     "output_type": "stream",
     "text": [
      "\r",
      "Processing RFQs:  17%|██████████▌                                                   | 172/1005 [02:35<11:05,  1.25it/s]"
     ]
    },
    {
     "name": "stderr",
     "output_type": "stream",
     "text": [
      "\r",
      "Processing RFQs:  17%|██████████▋                                                   | 173/1005 [02:36<11:31,  1.20it/s]"
     ]
    },
    {
     "name": "stderr",
     "output_type": "stream",
     "text": [
      "\r",
      "Processing RFQs:  17%|██████████▋                                                   | 174/1005 [02:37<12:00,  1.15it/s]"
     ]
    },
    {
     "name": "stderr",
     "output_type": "stream",
     "text": [
      "\r",
      "Processing RFQs:  17%|██████████▊                                                   | 175/1005 [02:38<12:14,  1.13it/s]"
     ]
    },
    {
     "name": "stderr",
     "output_type": "stream",
     "text": [
      "\r",
      "Processing RFQs:  18%|██████████▊                                                   | 176/1005 [02:39<12:48,  1.08it/s]"
     ]
    },
    {
     "name": "stderr",
     "output_type": "stream",
     "text": [
      "\r",
      "Processing RFQs:  18%|██████████▉                                                   | 177/1005 [02:40<12:43,  1.08it/s]"
     ]
    },
    {
     "name": "stderr",
     "output_type": "stream",
     "text": [
      "\r",
      "Processing RFQs:  18%|██████████▉                                                   | 178/1005 [02:41<13:05,  1.05it/s]"
     ]
    },
    {
     "name": "stderr",
     "output_type": "stream",
     "text": [
      "\r",
      "Processing RFQs:  18%|███████████                                                   | 179/1005 [02:42<15:26,  1.12s/it]"
     ]
    },
    {
     "name": "stderr",
     "output_type": "stream",
     "text": [
      "\r",
      "Processing RFQs:  18%|███████████                                                   | 180/1005 [02:44<17:02,  1.24s/it]"
     ]
    },
    {
     "name": "stderr",
     "output_type": "stream",
     "text": [
      "\r",
      "Processing RFQs:  18%|███████████▏                                                  | 181/1005 [02:46<18:38,  1.36s/it]"
     ]
    },
    {
     "name": "stderr",
     "output_type": "stream",
     "text": [
      "\r",
      "Processing RFQs:  18%|███████████▏                                                  | 182/1005 [02:47<20:09,  1.47s/it]"
     ]
    },
    {
     "name": "stderr",
     "output_type": "stream",
     "text": [
      "\r",
      "Processing RFQs:  18%|███████████▎                                                  | 183/1005 [02:49<19:19,  1.41s/it]"
     ]
    },
    {
     "name": "stderr",
     "output_type": "stream",
     "text": [
      "\r",
      "Processing RFQs:  18%|███████████▎                                                  | 184/1005 [02:50<18:13,  1.33s/it]"
     ]
    },
    {
     "name": "stderr",
     "output_type": "stream",
     "text": [
      "\r",
      "Processing RFQs:  18%|███████████▍                                                  | 185/1005 [02:51<16:52,  1.23s/it]"
     ]
    },
    {
     "name": "stderr",
     "output_type": "stream",
     "text": [
      "\r",
      "Processing RFQs:  19%|███████████▍                                                  | 186/1005 [02:52<15:29,  1.13s/it]"
     ]
    },
    {
     "name": "stderr",
     "output_type": "stream",
     "text": [
      "\r",
      "Processing RFQs:  19%|███████████▌                                                  | 187/1005 [02:53<14:26,  1.06s/it]"
     ]
    },
    {
     "name": "stderr",
     "output_type": "stream",
     "text": [
      "\r",
      "Processing RFQs:  19%|███████████▌                                                  | 188/1005 [02:53<13:14,  1.03it/s]"
     ]
    },
    {
     "name": "stderr",
     "output_type": "stream",
     "text": [
      "\r",
      "Processing RFQs:  19%|███████████▋                                                  | 189/1005 [02:54<12:10,  1.12it/s]"
     ]
    },
    {
     "name": "stderr",
     "output_type": "stream",
     "text": [
      "\r",
      "Processing RFQs:  19%|███████████▋                                                  | 190/1005 [02:55<11:44,  1.16it/s]"
     ]
    },
    {
     "name": "stderr",
     "output_type": "stream",
     "text": [
      "\r",
      "Processing RFQs:  19%|███████████▊                                                  | 191/1005 [02:56<11:46,  1.15it/s]"
     ]
    },
    {
     "name": "stderr",
     "output_type": "stream",
     "text": [
      "\r",
      "Processing RFQs:  19%|███████████▊                                                  | 192/1005 [02:57<11:58,  1.13it/s]"
     ]
    },
    {
     "name": "stderr",
     "output_type": "stream",
     "text": [
      "\r",
      "Processing RFQs:  19%|███████████▉                                                  | 193/1005 [02:58<12:04,  1.12it/s]"
     ]
    },
    {
     "name": "stderr",
     "output_type": "stream",
     "text": [
      "\r",
      "Processing RFQs:  19%|███████████▉                                                  | 194/1005 [02:58<12:17,  1.10it/s]"
     ]
    },
    {
     "name": "stderr",
     "output_type": "stream",
     "text": [
      "\r",
      "Processing RFQs:  19%|████████████                                                  | 195/1005 [02:59<12:08,  1.11it/s]"
     ]
    },
    {
     "name": "stderr",
     "output_type": "stream",
     "text": [
      "\r",
      "Processing RFQs:  20%|████████████                                                  | 196/1005 [03:00<12:14,  1.10it/s]"
     ]
    },
    {
     "name": "stderr",
     "output_type": "stream",
     "text": [
      "\r",
      "Processing RFQs:  20%|████████████▏                                                 | 197/1005 [03:01<12:36,  1.07it/s]"
     ]
    },
    {
     "name": "stderr",
     "output_type": "stream",
     "text": [
      "\r",
      "Processing RFQs:  20%|████████████▏                                                 | 198/1005 [03:02<12:26,  1.08it/s]"
     ]
    },
    {
     "name": "stderr",
     "output_type": "stream",
     "text": [
      "\r",
      "Processing RFQs:  20%|████████████▎                                                 | 199/1005 [03:03<11:53,  1.13it/s]"
     ]
    },
    {
     "name": "stderr",
     "output_type": "stream",
     "text": [
      "\r",
      "Processing RFQs:  20%|████████████▎                                                 | 200/1005 [03:04<11:07,  1.21it/s]"
     ]
    },
    {
     "name": "stderr",
     "output_type": "stream",
     "text": [
      "\r",
      "Processing RFQs:  20%|████████████▍                                                 | 201/1005 [03:04<10:29,  1.28it/s]"
     ]
    },
    {
     "name": "stderr",
     "output_type": "stream",
     "text": [
      "\r",
      "Processing RFQs:  20%|████████████▍                                                 | 202/1005 [03:05<10:36,  1.26it/s]"
     ]
    },
    {
     "name": "stderr",
     "output_type": "stream",
     "text": [
      "\r",
      "Processing RFQs:  20%|████████████▌                                                 | 203/1005 [03:06<11:05,  1.21it/s]"
     ]
    },
    {
     "name": "stderr",
     "output_type": "stream",
     "text": [
      "\r",
      "Processing RFQs:  20%|████████████▌                                                 | 204/1005 [03:07<11:32,  1.16it/s]"
     ]
    },
    {
     "name": "stderr",
     "output_type": "stream",
     "text": [
      "\r",
      "Processing RFQs:  20%|████████████▋                                                 | 205/1005 [03:08<11:44,  1.14it/s]"
     ]
    },
    {
     "name": "stderr",
     "output_type": "stream",
     "text": [
      "\r",
      "Processing RFQs:  20%|████████████▋                                                 | 206/1005 [03:09<12:01,  1.11it/s]"
     ]
    },
    {
     "name": "stderr",
     "output_type": "stream",
     "text": [
      "\r",
      "Processing RFQs:  21%|████████████▊                                                 | 207/1005 [03:10<11:58,  1.11it/s]"
     ]
    },
    {
     "name": "stderr",
     "output_type": "stream",
     "text": [
      "\r",
      "Processing RFQs:  21%|████████████▊                                                 | 208/1005 [03:11<12:18,  1.08it/s]"
     ]
    },
    {
     "name": "stderr",
     "output_type": "stream",
     "text": [
      "\r",
      "Processing RFQs:  21%|████████████▉                                                 | 209/1005 [03:12<12:15,  1.08it/s]"
     ]
    },
    {
     "name": "stderr",
     "output_type": "stream",
     "text": [
      "\r",
      "Processing RFQs:  21%|████████████▉                                                 | 210/1005 [03:13<12:00,  1.10it/s]"
     ]
    },
    {
     "name": "stderr",
     "output_type": "stream",
     "text": [
      "\r",
      "Processing RFQs:  21%|█████████████                                                 | 211/1005 [03:13<11:18,  1.17it/s]"
     ]
    },
    {
     "name": "stderr",
     "output_type": "stream",
     "text": [
      "\r",
      "Processing RFQs:  21%|█████████████                                                 | 212/1005 [03:14<10:36,  1.25it/s]"
     ]
    },
    {
     "name": "stderr",
     "output_type": "stream",
     "text": [
      "\r",
      "Processing RFQs:  21%|█████████████▏                                                | 213/1005 [03:15<10:17,  1.28it/s]"
     ]
    },
    {
     "name": "stderr",
     "output_type": "stream",
     "text": [
      "\r",
      "Processing RFQs:  21%|█████████████▏                                                | 214/1005 [03:16<11:37,  1.13it/s]"
     ]
    },
    {
     "name": "stderr",
     "output_type": "stream",
     "text": [
      "\r",
      "Processing RFQs:  21%|█████████████▎                                                | 215/1005 [03:17<12:04,  1.09it/s]"
     ]
    },
    {
     "name": "stderr",
     "output_type": "stream",
     "text": [
      "\r",
      "Processing RFQs:  21%|█████████████▎                                                | 216/1005 [03:18<12:20,  1.07it/s]"
     ]
    },
    {
     "name": "stderr",
     "output_type": "stream",
     "text": [
      "\r",
      "Processing RFQs:  22%|█████████████▍                                                | 217/1005 [03:19<13:51,  1.05s/it]"
     ]
    },
    {
     "name": "stderr",
     "output_type": "stream",
     "text": [
      "\r",
      "Processing RFQs:  22%|█████████████▍                                                | 218/1005 [03:20<13:24,  1.02s/it]"
     ]
    },
    {
     "name": "stderr",
     "output_type": "stream",
     "text": [
      "\r",
      "Processing RFQs:  22%|█████████████▌                                                | 219/1005 [03:21<13:38,  1.04s/it]"
     ]
    },
    {
     "name": "stderr",
     "output_type": "stream",
     "text": [
      "\r",
      "Processing RFQs:  22%|█████████████▌                                                | 220/1005 [03:22<12:50,  1.02it/s]"
     ]
    },
    {
     "name": "stderr",
     "output_type": "stream",
     "text": [
      "\r",
      "Processing RFQs:  22%|█████████████▋                                                | 221/1005 [03:23<12:11,  1.07it/s]"
     ]
    },
    {
     "name": "stderr",
     "output_type": "stream",
     "text": [
      "\r",
      "Processing RFQs:  22%|█████████████▋                                                | 222/1005 [03:24<11:21,  1.15it/s]"
     ]
    },
    {
     "name": "stderr",
     "output_type": "stream",
     "text": [
      "\r",
      "Processing RFQs:  22%|█████████████▊                                                | 223/1005 [03:24<10:48,  1.21it/s]"
     ]
    },
    {
     "name": "stderr",
     "output_type": "stream",
     "text": [
      "\r",
      "Processing RFQs:  22%|█████████████▊                                                | 224/1005 [03:25<10:42,  1.22it/s]"
     ]
    },
    {
     "name": "stderr",
     "output_type": "stream",
     "text": [
      "\r",
      "Processing RFQs:  22%|█████████████▉                                                | 225/1005 [03:26<11:16,  1.15it/s]"
     ]
    },
    {
     "name": "stderr",
     "output_type": "stream",
     "text": [
      "\r",
      "Processing RFQs:  22%|█████████████▉                                                | 226/1005 [03:27<11:35,  1.12it/s]"
     ]
    },
    {
     "name": "stderr",
     "output_type": "stream",
     "text": [
      "\r",
      "Processing RFQs:  23%|██████████████                                                | 227/1005 [03:28<11:36,  1.12it/s]"
     ]
    },
    {
     "name": "stderr",
     "output_type": "stream",
     "text": [
      "\r",
      "Processing RFQs:  23%|██████████████                                                | 228/1005 [03:29<11:45,  1.10it/s]"
     ]
    },
    {
     "name": "stderr",
     "output_type": "stream",
     "text": [
      "\r",
      "Processing RFQs:  23%|██████████████▏                                               | 229/1005 [03:30<11:50,  1.09it/s]"
     ]
    },
    {
     "name": "stderr",
     "output_type": "stream",
     "text": [
      "\r",
      "Processing RFQs:  23%|██████████████▏                                               | 230/1005 [03:31<12:00,  1.08it/s]"
     ]
    },
    {
     "name": "stderr",
     "output_type": "stream",
     "text": [
      "\r",
      "Processing RFQs:  23%|██████████████▎                                               | 231/1005 [03:32<12:15,  1.05it/s]"
     ]
    },
    {
     "name": "stderr",
     "output_type": "stream",
     "text": [
      "\r",
      "Processing RFQs:  23%|██████████████▎                                               | 232/1005 [03:33<11:57,  1.08it/s]"
     ]
    },
    {
     "name": "stderr",
     "output_type": "stream",
     "text": [
      "\r",
      "Processing RFQs:  23%|██████████████▎                                               | 233/1005 [03:33<11:10,  1.15it/s]"
     ]
    },
    {
     "name": "stderr",
     "output_type": "stream",
     "text": [
      "\r",
      "Processing RFQs:  23%|██████████████▍                                               | 234/1005 [03:34<10:29,  1.22it/s]"
     ]
    },
    {
     "name": "stderr",
     "output_type": "stream",
     "text": [
      "\r",
      "Processing RFQs:  23%|██████████████▍                                               | 235/1005 [03:35<12:27,  1.03it/s]"
     ]
    },
    {
     "name": "stderr",
     "output_type": "stream",
     "text": [
      "\r",
      "Processing RFQs:  23%|██████████████▌                                               | 236/1005 [03:37<16:21,  1.28s/it]"
     ]
    },
    {
     "name": "stderr",
     "output_type": "stream",
     "text": [
      "\r",
      "Processing RFQs:  24%|██████████████▌                                               | 237/1005 [03:39<17:09,  1.34s/it]"
     ]
    },
    {
     "name": "stderr",
     "output_type": "stream",
     "text": [
      "\r",
      "Processing RFQs:  24%|██████████████▋                                               | 238/1005 [03:40<16:37,  1.30s/it]"
     ]
    },
    {
     "name": "stderr",
     "output_type": "stream",
     "text": [
      "\r",
      "Processing RFQs:  24%|██████████████▋                                               | 239/1005 [03:41<16:25,  1.29s/it]"
     ]
    },
    {
     "name": "stderr",
     "output_type": "stream",
     "text": [
      "\r",
      "Processing RFQs:  24%|██████████████▊                                               | 240/1005 [03:42<15:10,  1.19s/it]"
     ]
    },
    {
     "name": "stderr",
     "output_type": "stream",
     "text": [
      "\r",
      "Processing RFQs:  24%|██████████████▊                                               | 241/1005 [03:43<13:32,  1.06s/it]"
     ]
    },
    {
     "name": "stderr",
     "output_type": "stream",
     "text": [
      "\r",
      "Processing RFQs:  24%|██████████████▉                                               | 242/1005 [03:44<12:06,  1.05it/s]"
     ]
    },
    {
     "name": "stderr",
     "output_type": "stream",
     "text": [
      "\r",
      "Processing RFQs:  24%|██████████████▉                                               | 243/1005 [03:44<11:01,  1.15it/s]"
     ]
    },
    {
     "name": "stderr",
     "output_type": "stream",
     "text": [
      "\r",
      "Processing RFQs:  24%|███████████████                                               | 244/1005 [03:45<10:59,  1.15it/s]"
     ]
    },
    {
     "name": "stderr",
     "output_type": "stream",
     "text": [
      "\r",
      "Processing RFQs:  24%|███████████████                                               | 245/1005 [03:46<11:04,  1.14it/s]"
     ]
    },
    {
     "name": "stderr",
     "output_type": "stream",
     "text": [
      "\r",
      "Processing RFQs:  24%|███████████████▏                                              | 246/1005 [03:47<12:44,  1.01s/it]"
     ]
    },
    {
     "name": "stderr",
     "output_type": "stream",
     "text": [
      "\r",
      "Processing RFQs:  25%|███████████████▏                                              | 247/1005 [03:48<12:34,  1.00it/s]"
     ]
    },
    {
     "name": "stderr",
     "output_type": "stream",
     "text": [
      "\r",
      "Processing RFQs:  25%|███████████████▎                                              | 248/1005 [03:49<12:21,  1.02it/s]"
     ]
    },
    {
     "name": "stderr",
     "output_type": "stream",
     "text": [
      "\r",
      "Processing RFQs:  25%|███████████████▎                                              | 249/1005 [03:50<12:07,  1.04it/s]"
     ]
    },
    {
     "name": "stderr",
     "output_type": "stream",
     "text": [
      "\r",
      "Processing RFQs:  25%|███████████████▍                                              | 250/1005 [03:51<12:21,  1.02it/s]"
     ]
    },
    {
     "name": "stderr",
     "output_type": "stream",
     "text": [
      "\r",
      "Processing RFQs:  25%|███████████████▍                                              | 251/1005 [03:52<12:00,  1.05it/s]"
     ]
    },
    {
     "name": "stderr",
     "output_type": "stream",
     "text": [
      "\r",
      "Processing RFQs:  25%|███████████████▌                                              | 252/1005 [03:53<11:19,  1.11it/s]"
     ]
    },
    {
     "name": "stderr",
     "output_type": "stream",
     "text": [
      "\r",
      "Processing RFQs:  25%|███████████████▌                                              | 253/1005 [03:54<10:26,  1.20it/s]"
     ]
    },
    {
     "name": "stderr",
     "output_type": "stream",
     "text": [
      "\r",
      "Processing RFQs:  25%|███████████████▋                                              | 254/1005 [03:54<09:45,  1.28it/s]"
     ]
    },
    {
     "name": "stderr",
     "output_type": "stream",
     "text": [
      "\r",
      "Processing RFQs:  25%|███████████████▋                                              | 255/1005 [03:55<09:40,  1.29it/s]"
     ]
    },
    {
     "name": "stderr",
     "output_type": "stream",
     "text": [
      "\r",
      "Processing RFQs:  25%|███████████████▊                                              | 256/1005 [03:56<10:04,  1.24it/s]"
     ]
    },
    {
     "name": "stderr",
     "output_type": "stream",
     "text": [
      "\r",
      "Processing RFQs:  26%|███████████████▊                                              | 257/1005 [03:57<10:17,  1.21it/s]"
     ]
    },
    {
     "name": "stderr",
     "output_type": "stream",
     "text": [
      "\r",
      "Processing RFQs:  26%|███████████████▉                                              | 258/1005 [03:58<10:36,  1.17it/s]"
     ]
    },
    {
     "name": "stderr",
     "output_type": "stream",
     "text": [
      "\r",
      "Processing RFQs:  26%|███████████████▉                                              | 259/1005 [03:59<10:55,  1.14it/s]"
     ]
    },
    {
     "name": "stderr",
     "output_type": "stream",
     "text": [
      "\r",
      "Processing RFQs:  26%|████████████████                                              | 260/1005 [04:00<11:10,  1.11it/s]"
     ]
    },
    {
     "name": "stderr",
     "output_type": "stream",
     "text": [
      "\r",
      "Processing RFQs:  26%|████████████████                                              | 261/1005 [04:01<12:51,  1.04s/it]"
     ]
    },
    {
     "name": "stderr",
     "output_type": "stream",
     "text": [
      "\r",
      "Processing RFQs:  26%|████████████████▏                                             | 262/1005 [04:02<13:08,  1.06s/it]"
     ]
    },
    {
     "name": "stderr",
     "output_type": "stream",
     "text": [
      "\r",
      "Processing RFQs:  26%|████████████████▏                                             | 263/1005 [04:03<12:04,  1.02it/s]"
     ]
    },
    {
     "name": "stderr",
     "output_type": "stream",
     "text": [
      "\r",
      "Processing RFQs:  26%|████████████████▎                                             | 264/1005 [04:04<11:08,  1.11it/s]"
     ]
    },
    {
     "name": "stderr",
     "output_type": "stream",
     "text": [
      "\r",
      "Processing RFQs:  26%|████████████████▎                                             | 265/1005 [04:04<10:19,  1.19it/s]"
     ]
    },
    {
     "name": "stderr",
     "output_type": "stream",
     "text": [
      "\r",
      "Processing RFQs:  26%|████████████████▍                                             | 266/1005 [04:05<09:53,  1.25it/s]"
     ]
    },
    {
     "name": "stderr",
     "output_type": "stream",
     "text": [
      "\r",
      "Processing RFQs:  27%|████████████████▍                                             | 267/1005 [04:06<10:23,  1.18it/s]"
     ]
    },
    {
     "name": "stderr",
     "output_type": "stream",
     "text": [
      "\r",
      "Processing RFQs:  27%|████████████████▌                                             | 268/1005 [04:07<10:32,  1.16it/s]"
     ]
    },
    {
     "name": "stderr",
     "output_type": "stream",
     "text": [
      "\r",
      "Processing RFQs:  27%|████████████████▌                                             | 269/1005 [04:08<10:54,  1.13it/s]"
     ]
    },
    {
     "name": "stderr",
     "output_type": "stream",
     "text": [
      "\r",
      "Processing RFQs:  27%|████████████████▋                                             | 270/1005 [04:09<11:02,  1.11it/s]"
     ]
    },
    {
     "name": "stderr",
     "output_type": "stream",
     "text": [
      "\r",
      "Processing RFQs:  27%|████████████████▋                                             | 271/1005 [04:10<11:01,  1.11it/s]"
     ]
    },
    {
     "name": "stderr",
     "output_type": "stream",
     "text": [
      "\r",
      "Processing RFQs:  27%|████████████████▊                                             | 272/1005 [04:11<11:01,  1.11it/s]"
     ]
    },
    {
     "name": "stderr",
     "output_type": "stream",
     "text": [
      "\r",
      "Processing RFQs:  27%|████████████████▊                                             | 273/1005 [04:12<11:05,  1.10it/s]"
     ]
    },
    {
     "name": "stderr",
     "output_type": "stream",
     "text": [
      "\r",
      "Processing RFQs:  27%|████████████████▉                                             | 274/1005 [04:12<10:58,  1.11it/s]"
     ]
    },
    {
     "name": "stderr",
     "output_type": "stream",
     "text": [
      "\r",
      "Processing RFQs:  27%|████████████████▉                                             | 275/1005 [04:13<10:12,  1.19it/s]"
     ]
    },
    {
     "name": "stderr",
     "output_type": "stream",
     "text": [
      "\r",
      "Processing RFQs:  27%|█████████████████                                             | 276/1005 [04:14<09:45,  1.25it/s]"
     ]
    },
    {
     "name": "stderr",
     "output_type": "stream",
     "text": [
      "\r",
      "Processing RFQs:  28%|█████████████████                                             | 277/1005 [04:14<09:12,  1.32it/s]"
     ]
    },
    {
     "name": "stderr",
     "output_type": "stream",
     "text": [
      "\r",
      "Processing RFQs:  28%|█████████████████▏                                            | 278/1005 [04:15<08:52,  1.36it/s]"
     ]
    },
    {
     "name": "stderr",
     "output_type": "stream",
     "text": [
      "\r",
      "Processing RFQs:  28%|█████████████████▏                                            | 279/1005 [04:16<09:50,  1.23it/s]"
     ]
    },
    {
     "name": "stderr",
     "output_type": "stream",
     "text": [
      "\r",
      "Processing RFQs:  28%|█████████████████▎                                            | 280/1005 [04:17<10:13,  1.18it/s]"
     ]
    },
    {
     "name": "stderr",
     "output_type": "stream",
     "text": [
      "\r",
      "Processing RFQs:  28%|█████████████████▎                                            | 281/1005 [04:18<10:44,  1.12it/s]"
     ]
    },
    {
     "name": "stderr",
     "output_type": "stream",
     "text": [
      "\r",
      "Processing RFQs:  28%|█████████████████▍                                            | 282/1005 [04:19<11:22,  1.06it/s]"
     ]
    },
    {
     "name": "stderr",
     "output_type": "stream",
     "text": [
      "\r",
      "Processing RFQs:  28%|█████████████████▍                                            | 283/1005 [04:20<11:39,  1.03it/s]"
     ]
    },
    {
     "name": "stderr",
     "output_type": "stream",
     "text": [
      "\r",
      "Processing RFQs:  28%|█████████████████▌                                            | 284/1005 [04:21<11:51,  1.01it/s]"
     ]
    },
    {
     "name": "stderr",
     "output_type": "stream",
     "text": [
      "\r",
      "Processing RFQs:  28%|█████████████████▌                                            | 285/1005 [04:22<12:10,  1.01s/it]"
     ]
    },
    {
     "name": "stderr",
     "output_type": "stream",
     "text": [
      "\r",
      "Processing RFQs:  28%|█████████████████▋                                            | 286/1005 [04:23<11:12,  1.07it/s]"
     ]
    },
    {
     "name": "stderr",
     "output_type": "stream",
     "text": [
      "\r",
      "Processing RFQs:  29%|█████████████████▋                                            | 287/1005 [04:24<10:24,  1.15it/s]"
     ]
    },
    {
     "name": "stderr",
     "output_type": "stream",
     "text": [
      "\r",
      "Processing RFQs:  29%|█████████████████▊                                            | 288/1005 [04:24<09:46,  1.22it/s]"
     ]
    },
    {
     "name": "stderr",
     "output_type": "stream",
     "text": [
      "\r",
      "Processing RFQs:  29%|█████████████████▊                                            | 289/1005 [04:25<09:28,  1.26it/s]"
     ]
    },
    {
     "name": "stderr",
     "output_type": "stream",
     "text": [
      "\r",
      "Processing RFQs:  29%|█████████████████▉                                            | 290/1005 [04:26<10:13,  1.17it/s]"
     ]
    },
    {
     "name": "stderr",
     "output_type": "stream",
     "text": [
      "\r",
      "Processing RFQs:  29%|█████████████████▉                                            | 291/1005 [04:27<10:22,  1.15it/s]"
     ]
    },
    {
     "name": "stderr",
     "output_type": "stream",
     "text": [
      "\r",
      "Processing RFQs:  29%|██████████████████                                            | 292/1005 [04:28<10:35,  1.12it/s]"
     ]
    },
    {
     "name": "stderr",
     "output_type": "stream",
     "text": [
      "\r",
      "Processing RFQs:  29%|██████████████████                                            | 293/1005 [04:29<10:30,  1.13it/s]"
     ]
    },
    {
     "name": "stderr",
     "output_type": "stream",
     "text": [
      "\r",
      "Processing RFQs:  29%|██████████████████▏                                           | 294/1005 [04:31<13:36,  1.15s/it]"
     ]
    },
    {
     "name": "stderr",
     "output_type": "stream",
     "text": [
      "\r",
      "Processing RFQs:  29%|██████████████████▏                                           | 295/1005 [04:34<20:59,  1.77s/it]"
     ]
    },
    {
     "name": "stderr",
     "output_type": "stream",
     "text": [
      "\r",
      "Processing RFQs:  29%|██████████████████▎                                           | 296/1005 [04:36<21:15,  1.80s/it]"
     ]
    },
    {
     "name": "stderr",
     "output_type": "stream",
     "text": [
      "\r",
      "Processing RFQs:  30%|██████████████████▎                                           | 297/1005 [04:37<19:14,  1.63s/it]"
     ]
    },
    {
     "name": "stderr",
     "output_type": "stream",
     "text": [
      "\r",
      "Processing RFQs:  30%|██████████████████▍                                           | 298/1005 [04:38<17:50,  1.51s/it]"
     ]
    },
    {
     "name": "stderr",
     "output_type": "stream",
     "text": [
      "\r",
      "Processing RFQs:  30%|██████████████████▍                                           | 299/1005 [04:39<16:32,  1.41s/it]"
     ]
    },
    {
     "name": "stderr",
     "output_type": "stream",
     "text": [
      "\r",
      "Processing RFQs:  30%|██████████████████▌                                           | 300/1005 [04:40<14:58,  1.27s/it]"
     ]
    },
    {
     "name": "stderr",
     "output_type": "stream",
     "text": [
      "\r",
      "Processing RFQs:  30%|██████████████████▌                                           | 301/1005 [04:41<13:52,  1.18s/it]"
     ]
    },
    {
     "name": "stderr",
     "output_type": "stream",
     "text": [
      "\r",
      "Processing RFQs:  30%|██████████████████▋                                           | 302/1005 [04:42<13:18,  1.14s/it]"
     ]
    },
    {
     "name": "stderr",
     "output_type": "stream",
     "text": [
      "\r",
      "Processing RFQs:  30%|██████████████████▋                                           | 303/1005 [04:43<11:52,  1.02s/it]"
     ]
    },
    {
     "name": "stderr",
     "output_type": "stream",
     "text": [
      "\r",
      "Processing RFQs:  30%|██████████████████▊                                           | 304/1005 [04:44<11:07,  1.05it/s]"
     ]
    },
    {
     "name": "stderr",
     "output_type": "stream",
     "text": [
      "\r",
      "Processing RFQs:  30%|██████████████████▊                                           | 305/1005 [04:45<10:16,  1.14it/s]"
     ]
    },
    {
     "name": "stderr",
     "output_type": "stream",
     "text": [
      "\r",
      "Processing RFQs:  30%|██████████████████▉                                           | 306/1005 [04:45<10:01,  1.16it/s]"
     ]
    },
    {
     "name": "stderr",
     "output_type": "stream",
     "text": [
      "\r",
      "Processing RFQs:  31%|██████████████████▉                                           | 307/1005 [04:46<10:29,  1.11it/s]"
     ]
    },
    {
     "name": "stderr",
     "output_type": "stream",
     "text": [
      "\r",
      "Processing RFQs:  31%|███████████████████                                           | 308/1005 [04:48<11:13,  1.04it/s]"
     ]
    },
    {
     "name": "stderr",
     "output_type": "stream",
     "text": [
      "\r",
      "Processing RFQs:  31%|███████████████████                                           | 309/1005 [04:49<11:23,  1.02it/s]"
     ]
    },
    {
     "name": "stderr",
     "output_type": "stream",
     "text": [
      "\r",
      "Processing RFQs:  31%|███████████████████                                           | 310/1005 [04:50<11:22,  1.02it/s]"
     ]
    },
    {
     "name": "stderr",
     "output_type": "stream",
     "text": [
      "\r",
      "Processing RFQs:  31%|███████████████████▏                                          | 311/1005 [04:50<11:14,  1.03it/s]"
     ]
    },
    {
     "name": "stderr",
     "output_type": "stream",
     "text": [
      "\r",
      "Processing RFQs:  31%|███████████████████▏                                          | 312/1005 [04:51<11:05,  1.04it/s]"
     ]
    },
    {
     "name": "stderr",
     "output_type": "stream",
     "text": [
      "\r",
      "Processing RFQs:  31%|███████████████████▎                                          | 313/1005 [04:52<11:10,  1.03it/s]"
     ]
    },
    {
     "name": "stderr",
     "output_type": "stream",
     "text": [
      "\r",
      "Processing RFQs:  31%|███████████████████▎                                          | 314/1005 [04:53<10:20,  1.11it/s]"
     ]
    },
    {
     "name": "stderr",
     "output_type": "stream",
     "text": [
      "\r",
      "Processing RFQs:  31%|███████████████████▍                                          | 315/1005 [04:54<09:40,  1.19it/s]"
     ]
    },
    {
     "name": "stderr",
     "output_type": "stream",
     "text": [
      "\r",
      "Processing RFQs:  31%|███████████████████▍                                          | 316/1005 [04:55<09:11,  1.25it/s]"
     ]
    },
    {
     "name": "stderr",
     "output_type": "stream",
     "text": [
      "\r",
      "Processing RFQs:  32%|███████████████████▌                                          | 317/1005 [04:55<09:09,  1.25it/s]"
     ]
    },
    {
     "name": "stderr",
     "output_type": "stream",
     "text": [
      "\r",
      "Processing RFQs:  32%|███████████████████▌                                          | 318/1005 [04:56<09:48,  1.17it/s]"
     ]
    },
    {
     "name": "stderr",
     "output_type": "stream",
     "text": [
      "\r",
      "Processing RFQs:  32%|███████████████████▋                                          | 319/1005 [04:57<09:58,  1.15it/s]"
     ]
    },
    {
     "name": "stderr",
     "output_type": "stream",
     "text": [
      "\r",
      "Processing RFQs:  32%|███████████████████▋                                          | 320/1005 [04:58<10:13,  1.12it/s]"
     ]
    },
    {
     "name": "stderr",
     "output_type": "stream",
     "text": [
      "\r",
      "Processing RFQs:  32%|███████████████████▊                                          | 321/1005 [04:59<10:20,  1.10it/s]"
     ]
    },
    {
     "name": "stderr",
     "output_type": "stream",
     "text": [
      "\r",
      "Processing RFQs:  32%|███████████████████▊                                          | 322/1005 [05:00<10:25,  1.09it/s]"
     ]
    },
    {
     "name": "stderr",
     "output_type": "stream",
     "text": [
      "\r",
      "Processing RFQs:  32%|███████████████████▉                                          | 323/1005 [05:01<10:32,  1.08it/s]"
     ]
    },
    {
     "name": "stderr",
     "output_type": "stream",
     "text": [
      "\r",
      "Processing RFQs:  32%|███████████████████▉                                          | 324/1005 [05:02<10:37,  1.07it/s]"
     ]
    },
    {
     "name": "stderr",
     "output_type": "stream",
     "text": [
      "\r",
      "Processing RFQs:  32%|████████████████████                                          | 325/1005 [05:03<10:23,  1.09it/s]"
     ]
    },
    {
     "name": "stderr",
     "output_type": "stream",
     "text": [
      "\r",
      "Processing RFQs:  32%|████████████████████                                          | 326/1005 [05:04<09:37,  1.18it/s]"
     ]
    },
    {
     "name": "stderr",
     "output_type": "stream",
     "text": [
      "\r",
      "Processing RFQs:  33%|████████████████████▏                                         | 327/1005 [05:04<09:11,  1.23it/s]"
     ]
    },
    {
     "name": "stderr",
     "output_type": "stream",
     "text": [
      "\r",
      "Processing RFQs:  33%|████████████████████▏                                         | 328/1005 [05:05<08:37,  1.31it/s]"
     ]
    },
    {
     "name": "stderr",
     "output_type": "stream",
     "text": [
      "\r",
      "Processing RFQs:  33%|████████████████████▎                                         | 329/1005 [05:06<09:10,  1.23it/s]"
     ]
    },
    {
     "name": "stderr",
     "output_type": "stream",
     "text": [
      "\r",
      "Processing RFQs:  33%|████████████████████▎                                         | 330/1005 [05:07<09:27,  1.19it/s]"
     ]
    },
    {
     "name": "stderr",
     "output_type": "stream",
     "text": [
      "\r",
      "Processing RFQs:  33%|████████████████████▍                                         | 331/1005 [05:08<09:49,  1.14it/s]"
     ]
    },
    {
     "name": "stderr",
     "output_type": "stream",
     "text": [
      "\r",
      "Processing RFQs:  33%|████████████████████▍                                         | 332/1005 [05:09<10:08,  1.11it/s]"
     ]
    },
    {
     "name": "stderr",
     "output_type": "stream",
     "text": [
      "\r",
      "Processing RFQs:  33%|████████████████████▌                                         | 333/1005 [05:10<09:56,  1.13it/s]"
     ]
    },
    {
     "name": "stderr",
     "output_type": "stream",
     "text": [
      "\r",
      "Processing RFQs:  33%|████████████████████▌                                         | 334/1005 [05:11<10:31,  1.06it/s]"
     ]
    },
    {
     "name": "stderr",
     "output_type": "stream",
     "text": [
      "\r",
      "Processing RFQs:  33%|████████████████████▋                                         | 335/1005 [05:11<10:24,  1.07it/s]"
     ]
    },
    {
     "name": "stderr",
     "output_type": "stream",
     "text": [
      "\r",
      "Processing RFQs:  33%|████████████████████▋                                         | 336/1005 [05:12<10:32,  1.06it/s]"
     ]
    },
    {
     "name": "stderr",
     "output_type": "stream",
     "text": [
      "\r",
      "Processing RFQs:  34%|████████████████████▊                                         | 337/1005 [05:13<09:41,  1.15it/s]"
     ]
    },
    {
     "name": "stderr",
     "output_type": "stream",
     "text": [
      "\r",
      "Processing RFQs:  34%|████████████████████▊                                         | 338/1005 [05:14<09:06,  1.22it/s]"
     ]
    },
    {
     "name": "stderr",
     "output_type": "stream",
     "text": [
      "\r",
      "Processing RFQs:  34%|████████████████████▉                                         | 339/1005 [05:15<08:34,  1.29it/s]"
     ]
    },
    {
     "name": "stderr",
     "output_type": "stream",
     "text": [
      "\r",
      "Processing RFQs:  34%|████████████████████▉                                         | 340/1005 [05:15<08:32,  1.30it/s]"
     ]
    },
    {
     "name": "stderr",
     "output_type": "stream",
     "text": [
      "\r",
      "Processing RFQs:  34%|█████████████████████                                         | 341/1005 [05:16<09:14,  1.20it/s]"
     ]
    },
    {
     "name": "stderr",
     "output_type": "stream",
     "text": [
      "\r",
      "Processing RFQs:  34%|█████████████████████                                         | 342/1005 [05:17<09:45,  1.13it/s]"
     ]
    },
    {
     "name": "stderr",
     "output_type": "stream",
     "text": [
      "\r",
      "Processing RFQs:  34%|█████████████████████▏                                        | 343/1005 [05:18<09:56,  1.11it/s]"
     ]
    },
    {
     "name": "stderr",
     "output_type": "stream",
     "text": [
      "\r",
      "Processing RFQs:  34%|█████████████████████▏                                        | 344/1005 [05:19<09:59,  1.10it/s]"
     ]
    },
    {
     "name": "stderr",
     "output_type": "stream",
     "text": [
      "\r",
      "Processing RFQs:  34%|█████████████████████▎                                        | 345/1005 [05:20<10:08,  1.08it/s]"
     ]
    },
    {
     "name": "stderr",
     "output_type": "stream",
     "text": [
      "\r",
      "Processing RFQs:  34%|█████████████████████▎                                        | 346/1005 [05:21<10:09,  1.08it/s]"
     ]
    },
    {
     "name": "stderr",
     "output_type": "stream",
     "text": [
      "\r",
      "Processing RFQs:  35%|█████████████████████▍                                        | 347/1005 [05:22<10:42,  1.02it/s]"
     ]
    },
    {
     "name": "stderr",
     "output_type": "stream",
     "text": [
      "\r",
      "Processing RFQs:  35%|█████████████████████▍                                        | 348/1005 [05:23<11:23,  1.04s/it]"
     ]
    },
    {
     "name": "stderr",
     "output_type": "stream",
     "text": [
      "\r",
      "Processing RFQs:  35%|█████████████████████▌                                        | 349/1005 [05:25<11:54,  1.09s/it]"
     ]
    },
    {
     "name": "stderr",
     "output_type": "stream",
     "text": [
      "\r",
      "Processing RFQs:  35%|█████████████████████▌                                        | 350/1005 [05:25<10:56,  1.00s/it]"
     ]
    },
    {
     "name": "stderr",
     "output_type": "stream",
     "text": [
      "\r",
      "Processing RFQs:  35%|█████████████████████▋                                        | 351/1005 [05:26<11:01,  1.01s/it]"
     ]
    },
    {
     "name": "stderr",
     "output_type": "stream",
     "text": [
      "\r",
      "Processing RFQs:  35%|█████████████████████▋                                        | 352/1005 [05:27<10:48,  1.01it/s]"
     ]
    },
    {
     "name": "stderr",
     "output_type": "stream",
     "text": [
      "\r",
      "Processing RFQs:  35%|█████████████████████▊                                        | 353/1005 [05:28<11:04,  1.02s/it]"
     ]
    },
    {
     "name": "stderr",
     "output_type": "stream",
     "text": [
      "\r",
      "Processing RFQs:  35%|█████████████████████▊                                        | 354/1005 [05:29<10:50,  1.00it/s]"
     ]
    },
    {
     "name": "stderr",
     "output_type": "stream",
     "text": [
      "\r",
      "Processing RFQs:  35%|█████████████████████▉                                        | 355/1005 [05:30<10:41,  1.01it/s]"
     ]
    },
    {
     "name": "stderr",
     "output_type": "stream",
     "text": [
      "\r",
      "Processing RFQs:  35%|█████████████████████▉                                        | 356/1005 [05:31<10:32,  1.03it/s]"
     ]
    },
    {
     "name": "stderr",
     "output_type": "stream",
     "text": [
      "\r",
      "Processing RFQs:  36%|██████████████████████                                        | 357/1005 [05:32<10:22,  1.04it/s]"
     ]
    },
    {
     "name": "stderr",
     "output_type": "stream",
     "text": [
      "\r",
      "Processing RFQs:  36%|██████████████████████                                        | 358/1005 [05:33<10:05,  1.07it/s]"
     ]
    },
    {
     "name": "stderr",
     "output_type": "stream",
     "text": [
      "\r",
      "Processing RFQs:  36%|██████████████████████▏                                       | 359/1005 [05:34<09:23,  1.15it/s]"
     ]
    },
    {
     "name": "stderr",
     "output_type": "stream",
     "text": [
      "\r",
      "Processing RFQs:  36%|██████████████████████▏                                       | 360/1005 [05:35<08:58,  1.20it/s]"
     ]
    },
    {
     "name": "stderr",
     "output_type": "stream",
     "text": [
      "\r",
      "Processing RFQs:  36%|██████████████████████▎                                       | 361/1005 [05:35<08:47,  1.22it/s]"
     ]
    },
    {
     "name": "stderr",
     "output_type": "stream",
     "text": [
      "\r",
      "Processing RFQs:  36%|██████████████████████▎                                       | 362/1005 [05:36<09:25,  1.14it/s]"
     ]
    },
    {
     "name": "stderr",
     "output_type": "stream",
     "text": [
      "\r",
      "Processing RFQs:  36%|██████████████████████▍                                       | 363/1005 [05:37<09:34,  1.12it/s]"
     ]
    },
    {
     "name": "stderr",
     "output_type": "stream",
     "text": [
      "\r",
      "Processing RFQs:  36%|██████████████████████▍                                       | 364/1005 [05:38<09:44,  1.10it/s]"
     ]
    },
    {
     "name": "stderr",
     "output_type": "stream",
     "text": [
      "\r",
      "Processing RFQs:  36%|██████████████████████▌                                       | 365/1005 [05:39<09:57,  1.07it/s]"
     ]
    },
    {
     "name": "stderr",
     "output_type": "stream",
     "text": [
      "\r",
      "Processing RFQs:  36%|██████████████████████▌                                       | 366/1005 [05:40<09:53,  1.08it/s]"
     ]
    },
    {
     "name": "stderr",
     "output_type": "stream",
     "text": [
      "\r",
      "Processing RFQs:  37%|██████████████████████▋                                       | 367/1005 [05:41<09:59,  1.06it/s]"
     ]
    },
    {
     "name": "stderr",
     "output_type": "stream",
     "text": [
      "\r",
      "Processing RFQs:  37%|██████████████████████▋                                       | 368/1005 [05:42<09:52,  1.08it/s]"
     ]
    },
    {
     "name": "stderr",
     "output_type": "stream",
     "text": [
      "\r",
      "Processing RFQs:  37%|██████████████████████▊                                       | 369/1005 [05:43<10:15,  1.03it/s]"
     ]
    },
    {
     "name": "stderr",
     "output_type": "stream",
     "text": [
      "\r",
      "Processing RFQs:  37%|██████████████████████▊                                       | 370/1005 [05:44<09:23,  1.13it/s]"
     ]
    },
    {
     "name": "stderr",
     "output_type": "stream",
     "text": [
      "\r",
      "Processing RFQs:  37%|██████████████████████▉                                       | 371/1005 [05:44<08:53,  1.19it/s]"
     ]
    },
    {
     "name": "stderr",
     "output_type": "stream",
     "text": [
      "\r",
      "Processing RFQs:  37%|██████████████████████▉                                       | 372/1005 [05:45<08:25,  1.25it/s]"
     ]
    },
    {
     "name": "stderr",
     "output_type": "stream",
     "text": [
      "\r",
      "Processing RFQs:  37%|███████████████████████                                       | 373/1005 [05:46<08:52,  1.19it/s]"
     ]
    },
    {
     "name": "stderr",
     "output_type": "stream",
     "text": [
      "\r",
      "Processing RFQs:  37%|███████████████████████                                       | 374/1005 [05:48<11:01,  1.05s/it]"
     ]
    },
    {
     "name": "stderr",
     "output_type": "stream",
     "text": [
      "\r",
      "Processing RFQs:  37%|███████████████████████▏                                      | 375/1005 [05:49<11:07,  1.06s/it]"
     ]
    },
    {
     "name": "stderr",
     "output_type": "stream",
     "text": [
      "\r",
      "Processing RFQs:  37%|███████████████████████▏                                      | 376/1005 [05:50<10:42,  1.02s/it]"
     ]
    },
    {
     "name": "stderr",
     "output_type": "stream",
     "text": [
      "\r",
      "Processing RFQs:  38%|███████████████████████▎                                      | 377/1005 [05:51<10:43,  1.03s/it]"
     ]
    },
    {
     "name": "stderr",
     "output_type": "stream",
     "text": [
      "\r",
      "Processing RFQs:  38%|███████████████████████▎                                      | 378/1005 [05:52<10:26,  1.00it/s]"
     ]
    },
    {
     "name": "stderr",
     "output_type": "stream",
     "text": [
      "\r",
      "Processing RFQs:  38%|███████████████████████▍                                      | 379/1005 [05:53<10:26,  1.00s/it]"
     ]
    },
    {
     "name": "stderr",
     "output_type": "stream",
     "text": [
      "\r",
      "Processing RFQs:  38%|███████████████████████▍                                      | 380/1005 [05:53<09:45,  1.07it/s]"
     ]
    },
    {
     "name": "stderr",
     "output_type": "stream",
     "text": [
      "\r",
      "Processing RFQs:  38%|███████████████████████▌                                      | 381/1005 [05:54<09:01,  1.15it/s]"
     ]
    },
    {
     "name": "stderr",
     "output_type": "stream",
     "text": [
      "\r",
      "Processing RFQs:  38%|███████████████████████▌                                      | 382/1005 [05:55<08:32,  1.22it/s]"
     ]
    },
    {
     "name": "stderr",
     "output_type": "stream",
     "text": [
      "\r",
      "Processing RFQs:  38%|███████████████████████▋                                      | 383/1005 [05:56<08:43,  1.19it/s]"
     ]
    },
    {
     "name": "stderr",
     "output_type": "stream",
     "text": [
      "\r",
      "Processing RFQs:  38%|███████████████████████▋                                      | 384/1005 [05:57<09:05,  1.14it/s]"
     ]
    },
    {
     "name": "stderr",
     "output_type": "stream",
     "text": [
      "\r",
      "Processing RFQs:  38%|███████████████████████▊                                      | 385/1005 [05:58<08:59,  1.15it/s]"
     ]
    },
    {
     "name": "stderr",
     "output_type": "stream",
     "text": [
      "\r",
      "Processing RFQs:  38%|███████████████████████▊                                      | 386/1005 [05:59<09:17,  1.11it/s]"
     ]
    },
    {
     "name": "stderr",
     "output_type": "stream",
     "text": [
      "\r",
      "Processing RFQs:  39%|███████████████████████▊                                      | 387/1005 [06:01<12:46,  1.24s/it]"
     ]
    },
    {
     "name": "stderr",
     "output_type": "stream",
     "text": [
      "\r",
      "Processing RFQs:  39%|███████████████████████▉                                      | 388/1005 [06:01<11:48,  1.15s/it]"
     ]
    },
    {
     "name": "stderr",
     "output_type": "stream",
     "text": [
      "\r",
      "Processing RFQs:  39%|███████████████████████▉                                      | 389/1005 [06:02<11:04,  1.08s/it]"
     ]
    },
    {
     "name": "stderr",
     "output_type": "stream",
     "text": [
      "\r",
      "Processing RFQs:  39%|████████████████████████                                      | 390/1005 [06:03<09:57,  1.03it/s]"
     ]
    },
    {
     "name": "stderr",
     "output_type": "stream",
     "text": [
      "\r",
      "Processing RFQs:  39%|████████████████████████                                      | 391/1005 [06:04<08:59,  1.14it/s]"
     ]
    },
    {
     "name": "stderr",
     "output_type": "stream",
     "text": [
      "\r",
      "Processing RFQs:  39%|████████████████████████▏                                     | 392/1005 [06:04<08:16,  1.23it/s]"
     ]
    },
    {
     "name": "stderr",
     "output_type": "stream",
     "text": [
      "\r",
      "Processing RFQs:  39%|████████████████████████▏                                     | 393/1005 [06:05<08:06,  1.26it/s]"
     ]
    },
    {
     "name": "stderr",
     "output_type": "stream",
     "text": [
      "\r",
      "Processing RFQs:  39%|████████████████████████▎                                     | 394/1005 [06:06<08:23,  1.21it/s]"
     ]
    },
    {
     "name": "stderr",
     "output_type": "stream",
     "text": [
      "\r",
      "Processing RFQs:  39%|████████████████████████▎                                     | 395/1005 [06:07<08:50,  1.15it/s]"
     ]
    },
    {
     "name": "stderr",
     "output_type": "stream",
     "text": [
      "\r",
      "Processing RFQs:  39%|████████████████████████▍                                     | 396/1005 [06:08<08:57,  1.13it/s]"
     ]
    },
    {
     "name": "stderr",
     "output_type": "stream",
     "text": [
      "\r",
      "Processing RFQs:  40%|████████████████████████▍                                     | 397/1005 [06:09<09:15,  1.10it/s]"
     ]
    },
    {
     "name": "stderr",
     "output_type": "stream",
     "text": [
      "\r",
      "Processing RFQs:  40%|████████████████████████▌                                     | 398/1005 [06:10<09:15,  1.09it/s]"
     ]
    },
    {
     "name": "stderr",
     "output_type": "stream",
     "text": [
      "\r",
      "Processing RFQs:  40%|████████████████████████▌                                     | 399/1005 [06:11<09:12,  1.10it/s]"
     ]
    },
    {
     "name": "stderr",
     "output_type": "stream",
     "text": [
      "\r",
      "Processing RFQs:  40%|████████████████████████▋                                     | 400/1005 [06:12<09:12,  1.09it/s]"
     ]
    },
    {
     "name": "stderr",
     "output_type": "stream",
     "text": [
      "\r",
      "Processing RFQs:  40%|████████████████████████▋                                     | 401/1005 [06:13<09:10,  1.10it/s]"
     ]
    },
    {
     "name": "stderr",
     "output_type": "stream",
     "text": [
      "\r",
      "Processing RFQs:  40%|████████████████████████▊                                     | 402/1005 [06:13<08:37,  1.16it/s]"
     ]
    },
    {
     "name": "stderr",
     "output_type": "stream",
     "text": [
      "\r",
      "Processing RFQs:  40%|████████████████████████▊                                     | 403/1005 [06:14<08:07,  1.24it/s]"
     ]
    },
    {
     "name": "stderr",
     "output_type": "stream",
     "text": [
      "\r",
      "Processing RFQs:  40%|████████████████████████▉                                     | 404/1005 [06:15<07:50,  1.28it/s]"
     ]
    },
    {
     "name": "stderr",
     "output_type": "stream",
     "text": [
      "\r",
      "Processing RFQs:  40%|████████████████████████▉                                     | 405/1005 [06:16<08:04,  1.24it/s]"
     ]
    },
    {
     "name": "stderr",
     "output_type": "stream",
     "text": [
      "\r",
      "Processing RFQs:  40%|█████████████████████████                                     | 406/1005 [06:17<08:20,  1.20it/s]"
     ]
    },
    {
     "name": "stderr",
     "output_type": "stream",
     "text": [
      "\r",
      "Processing RFQs:  40%|█████████████████████████                                     | 407/1005 [06:18<08:49,  1.13it/s]"
     ]
    },
    {
     "name": "stderr",
     "output_type": "stream",
     "text": [
      "\r",
      "Processing RFQs:  41%|█████████████████████████▏                                    | 408/1005 [06:18<08:56,  1.11it/s]"
     ]
    },
    {
     "name": "stderr",
     "output_type": "stream",
     "text": [
      "\r",
      "Processing RFQs:  41%|█████████████████████████▏                                    | 409/1005 [06:19<09:02,  1.10it/s]"
     ]
    },
    {
     "name": "stderr",
     "output_type": "stream",
     "text": [
      "\r",
      "Processing RFQs:  41%|█████████████████████████▎                                    | 410/1005 [06:20<08:58,  1.11it/s]"
     ]
    },
    {
     "name": "stderr",
     "output_type": "stream",
     "text": [
      "\r",
      "Processing RFQs:  41%|█████████████████████████▎                                    | 411/1005 [06:21<09:06,  1.09it/s]"
     ]
    },
    {
     "name": "stderr",
     "output_type": "stream",
     "text": [
      "\r",
      "Processing RFQs:  41%|█████████████████████████▍                                    | 412/1005 [06:22<09:05,  1.09it/s]"
     ]
    },
    {
     "name": "stderr",
     "output_type": "stream",
     "text": [
      "\r",
      "Processing RFQs:  41%|█████████████████████████▍                                    | 413/1005 [06:23<08:39,  1.14it/s]"
     ]
    },
    {
     "name": "stderr",
     "output_type": "stream",
     "text": [
      "\r",
      "Processing RFQs:  41%|█████████████████████████▌                                    | 414/1005 [06:24<08:10,  1.20it/s]"
     ]
    },
    {
     "name": "stderr",
     "output_type": "stream",
     "text": [
      "\r",
      "Processing RFQs:  41%|█████████████████████████▌                                    | 415/1005 [06:24<07:46,  1.26it/s]"
     ]
    },
    {
     "name": "stderr",
     "output_type": "stream",
     "text": [
      "\r",
      "Processing RFQs:  41%|█████████████████████████▋                                    | 416/1005 [06:25<07:40,  1.28it/s]"
     ]
    },
    {
     "name": "stderr",
     "output_type": "stream",
     "text": [
      "\r",
      "Processing RFQs:  41%|█████████████████████████▋                                    | 417/1005 [06:26<07:59,  1.23it/s]"
     ]
    },
    {
     "name": "stderr",
     "output_type": "stream",
     "text": [
      "\r",
      "Processing RFQs:  42%|█████████████████████████▊                                    | 418/1005 [06:27<08:28,  1.15it/s]"
     ]
    },
    {
     "name": "stderr",
     "output_type": "stream",
     "text": [
      "\r",
      "Processing RFQs:  42%|█████████████████████████▊                                    | 419/1005 [06:28<08:37,  1.13it/s]"
     ]
    },
    {
     "name": "stderr",
     "output_type": "stream",
     "text": [
      "\r",
      "Processing RFQs:  42%|█████████████████████████▉                                    | 420/1005 [06:29<08:50,  1.10it/s]"
     ]
    },
    {
     "name": "stderr",
     "output_type": "stream",
     "text": [
      "\r",
      "Processing RFQs:  42%|█████████████████████████▉                                    | 421/1005 [06:30<08:39,  1.13it/s]"
     ]
    },
    {
     "name": "stderr",
     "output_type": "stream",
     "text": [
      "\r",
      "Processing RFQs:  42%|██████████████████████████                                    | 422/1005 [06:31<08:49,  1.10it/s]"
     ]
    },
    {
     "name": "stderr",
     "output_type": "stream",
     "text": [
      "\r",
      "Processing RFQs:  42%|██████████████████████████                                    | 423/1005 [06:32<08:54,  1.09it/s]"
     ]
    },
    {
     "name": "stderr",
     "output_type": "stream",
     "text": [
      "\r",
      "Processing RFQs:  42%|██████████████████████████▏                                   | 424/1005 [06:32<08:47,  1.10it/s]"
     ]
    },
    {
     "name": "stderr",
     "output_type": "stream",
     "text": [
      "\r",
      "Processing RFQs:  42%|██████████████████████████▏                                   | 425/1005 [06:33<08:21,  1.16it/s]"
     ]
    },
    {
     "name": "stderr",
     "output_type": "stream",
     "text": [
      "\r",
      "Processing RFQs:  42%|██████████████████████████▎                                   | 426/1005 [06:34<07:44,  1.25it/s]"
     ]
    },
    {
     "name": "stderr",
     "output_type": "stream",
     "text": [
      "\r",
      "Processing RFQs:  42%|██████████████████████████▎                                   | 427/1005 [06:35<07:29,  1.29it/s]"
     ]
    },
    {
     "name": "stderr",
     "output_type": "stream",
     "text": [
      "\r",
      "Processing RFQs:  43%|██████████████████████████▍                                   | 428/1005 [06:36<07:48,  1.23it/s]"
     ]
    },
    {
     "name": "stderr",
     "output_type": "stream",
     "text": [
      "\r",
      "Processing RFQs:  43%|██████████████████████████▍                                   | 429/1005 [06:36<08:05,  1.19it/s]"
     ]
    },
    {
     "name": "stderr",
     "output_type": "stream",
     "text": [
      "\r",
      "Processing RFQs:  43%|██████████████████████████▌                                   | 430/1005 [06:37<08:33,  1.12it/s]"
     ]
    },
    {
     "name": "stderr",
     "output_type": "stream",
     "text": [
      "\r",
      "Processing RFQs:  43%|██████████████████████████▌                                   | 431/1005 [06:38<08:36,  1.11it/s]"
     ]
    },
    {
     "name": "stderr",
     "output_type": "stream",
     "text": [
      "\r",
      "Processing RFQs:  43%|██████████████████████████▋                                   | 432/1005 [06:39<08:49,  1.08it/s]"
     ]
    },
    {
     "name": "stderr",
     "output_type": "stream",
     "text": [
      "\r",
      "Processing RFQs:  43%|██████████████████████████▋                                   | 433/1005 [06:40<08:49,  1.08it/s]"
     ]
    },
    {
     "name": "stderr",
     "output_type": "stream",
     "text": [
      "\r",
      "Processing RFQs:  43%|██████████████████████████▊                                   | 434/1005 [06:41<08:58,  1.06it/s]"
     ]
    },
    {
     "name": "stderr",
     "output_type": "stream",
     "text": [
      "\r",
      "Processing RFQs:  43%|██████████████████████████▊                                   | 435/1005 [06:42<08:54,  1.07it/s]"
     ]
    },
    {
     "name": "stderr",
     "output_type": "stream",
     "text": [
      "\r",
      "Processing RFQs:  43%|██████████████████████████▉                                   | 436/1005 [06:43<08:24,  1.13it/s]"
     ]
    },
    {
     "name": "stderr",
     "output_type": "stream",
     "text": [
      "\r",
      "Processing RFQs:  43%|██████████████████████████▉                                   | 437/1005 [06:44<07:59,  1.18it/s]"
     ]
    },
    {
     "name": "stderr",
     "output_type": "stream",
     "text": [
      "\r",
      "Processing RFQs:  44%|███████████████████████████                                   | 438/1005 [06:44<07:33,  1.25it/s]"
     ]
    },
    {
     "name": "stderr",
     "output_type": "stream",
     "text": [
      "\r",
      "Processing RFQs:  44%|███████████████████████████                                   | 439/1005 [06:45<07:27,  1.26it/s]"
     ]
    },
    {
     "name": "stderr",
     "output_type": "stream",
     "text": [
      "\r",
      "Processing RFQs:  44%|███████████████████████████▏                                  | 440/1005 [06:46<07:45,  1.21it/s]"
     ]
    },
    {
     "name": "stderr",
     "output_type": "stream",
     "text": [
      "\r",
      "Processing RFQs:  44%|███████████████████████████▏                                  | 441/1005 [06:47<08:27,  1.11it/s]"
     ]
    },
    {
     "name": "stderr",
     "output_type": "stream",
     "text": [
      "\r",
      "Processing RFQs:  44%|███████████████████████████▎                                  | 442/1005 [06:48<09:27,  1.01s/it]"
     ]
    },
    {
     "name": "stderr",
     "output_type": "stream",
     "text": [
      "\r",
      "Processing RFQs:  44%|███████████████████████████▎                                  | 443/1005 [06:49<09:26,  1.01s/it]"
     ]
    },
    {
     "name": "stderr",
     "output_type": "stream",
     "text": [
      "\r",
      "Processing RFQs:  44%|███████████████████████████▍                                  | 444/1005 [06:50<09:08,  1.02it/s]"
     ]
    },
    {
     "name": "stderr",
     "output_type": "stream",
     "text": [
      "\r",
      "Processing RFQs:  44%|███████████████████████████▍                                  | 445/1005 [06:51<09:10,  1.02it/s]"
     ]
    },
    {
     "name": "stderr",
     "output_type": "stream",
     "text": [
      "\r",
      "Processing RFQs:  44%|███████████████████████████▌                                  | 446/1005 [06:52<08:58,  1.04it/s]"
     ]
    },
    {
     "name": "stderr",
     "output_type": "stream",
     "text": [
      "\r",
      "Processing RFQs:  44%|███████████████████████████▌                                  | 447/1005 [06:53<08:28,  1.10it/s]"
     ]
    },
    {
     "name": "stderr",
     "output_type": "stream",
     "text": [
      "\r",
      "Processing RFQs:  45%|███████████████████████████▋                                  | 448/1005 [06:54<07:57,  1.17it/s]"
     ]
    },
    {
     "name": "stderr",
     "output_type": "stream",
     "text": [
      "\r",
      "Processing RFQs:  45%|███████████████████████████▋                                  | 449/1005 [06:54<07:26,  1.25it/s]"
     ]
    },
    {
     "name": "stderr",
     "output_type": "stream",
     "text": [
      "\r",
      "Processing RFQs:  45%|███████████████████████████▊                                  | 450/1005 [06:55<07:21,  1.26it/s]"
     ]
    },
    {
     "name": "stderr",
     "output_type": "stream",
     "text": [
      "\r",
      "Processing RFQs:  45%|███████████████████████████▊                                  | 451/1005 [06:56<07:40,  1.20it/s]"
     ]
    },
    {
     "name": "stderr",
     "output_type": "stream",
     "text": [
      "\r",
      "Processing RFQs:  45%|███████████████████████████▉                                  | 452/1005 [06:57<07:57,  1.16it/s]"
     ]
    },
    {
     "name": "stderr",
     "output_type": "stream",
     "text": [
      "\r",
      "Processing RFQs:  45%|███████████████████████████▉                                  | 453/1005 [06:58<08:14,  1.12it/s]"
     ]
    },
    {
     "name": "stderr",
     "output_type": "stream",
     "text": [
      "\r",
      "Processing RFQs:  45%|████████████████████████████                                  | 454/1005 [06:59<08:09,  1.13it/s]"
     ]
    },
    {
     "name": "stderr",
     "output_type": "stream",
     "text": [
      "\r",
      "Processing RFQs:  45%|████████████████████████████                                  | 455/1005 [07:00<08:10,  1.12it/s]"
     ]
    },
    {
     "name": "stderr",
     "output_type": "stream",
     "text": [
      "\r",
      "Processing RFQs:  45%|████████████████████████████▏                                 | 456/1005 [07:01<08:13,  1.11it/s]"
     ]
    },
    {
     "name": "stderr",
     "output_type": "stream",
     "text": [
      "\r",
      "Processing RFQs:  45%|████████████████████████████▏                                 | 457/1005 [07:02<08:11,  1.11it/s]"
     ]
    },
    {
     "name": "stderr",
     "output_type": "stream",
     "text": [
      "\r",
      "Processing RFQs:  46%|████████████████████████████▎                                 | 458/1005 [07:02<08:09,  1.12it/s]"
     ]
    },
    {
     "name": "stderr",
     "output_type": "stream",
     "text": [
      "\r",
      "Processing RFQs:  46%|████████████████████████████▎                                 | 459/1005 [07:03<07:40,  1.19it/s]"
     ]
    },
    {
     "name": "stderr",
     "output_type": "stream",
     "text": [
      "\r",
      "Processing RFQs:  46%|████████████████████████████▍                                 | 460/1005 [07:04<07:20,  1.24it/s]"
     ]
    },
    {
     "name": "stderr",
     "output_type": "stream",
     "text": [
      "\r",
      "Processing RFQs:  46%|████████████████████████████▍                                 | 461/1005 [07:05<06:59,  1.30it/s]"
     ]
    },
    {
     "name": "stderr",
     "output_type": "stream",
     "text": [
      "\r",
      "Processing RFQs:  46%|████████████████████████████▌                                 | 462/1005 [07:05<07:09,  1.26it/s]"
     ]
    },
    {
     "name": "stderr",
     "output_type": "stream",
     "text": [
      "\r",
      "Processing RFQs:  46%|████████████████████████████▌                                 | 463/1005 [07:06<07:27,  1.21it/s]"
     ]
    },
    {
     "name": "stderr",
     "output_type": "stream",
     "text": [
      "\r",
      "Processing RFQs:  46%|████████████████████████████▌                                 | 464/1005 [07:07<07:53,  1.14it/s]"
     ]
    },
    {
     "name": "stderr",
     "output_type": "stream",
     "text": [
      "\r",
      "Processing RFQs:  46%|████████████████████████████▋                                 | 465/1005 [07:08<08:01,  1.12it/s]"
     ]
    },
    {
     "name": "stderr",
     "output_type": "stream",
     "text": [
      "\r",
      "Processing RFQs:  46%|████████████████████████████▋                                 | 466/1005 [07:09<08:12,  1.09it/s]"
     ]
    },
    {
     "name": "stderr",
     "output_type": "stream",
     "text": [
      "\r",
      "Processing RFQs:  46%|████████████████████████████▊                                 | 467/1005 [07:10<08:12,  1.09it/s]"
     ]
    },
    {
     "name": "stderr",
     "output_type": "stream",
     "text": [
      "\r",
      "Processing RFQs:  47%|████████████████████████████▊                                 | 468/1005 [07:11<08:14,  1.08it/s]"
     ]
    },
    {
     "name": "stderr",
     "output_type": "stream",
     "text": [
      "\r",
      "Processing RFQs:  47%|████████████████████████████▉                                 | 469/1005 [07:12<08:14,  1.08it/s]"
     ]
    },
    {
     "name": "stderr",
     "output_type": "stream",
     "text": [
      "\r",
      "Processing RFQs:  47%|████████████████████████████▉                                 | 470/1005 [07:13<07:50,  1.14it/s]"
     ]
    },
    {
     "name": "stderr",
     "output_type": "stream",
     "text": [
      "\r",
      "Processing RFQs:  47%|█████████████████████████████                                 | 471/1005 [07:14<07:31,  1.18it/s]"
     ]
    },
    {
     "name": "stderr",
     "output_type": "stream",
     "text": [
      "\r",
      "Processing RFQs:  47%|█████████████████████████████                                 | 472/1005 [07:14<07:04,  1.25it/s]"
     ]
    },
    {
     "name": "stderr",
     "output_type": "stream",
     "text": [
      "\r",
      "Processing RFQs:  47%|█████████████████████████████▏                                | 473/1005 [07:15<06:54,  1.28it/s]"
     ]
    },
    {
     "name": "stderr",
     "output_type": "stream",
     "text": [
      "\r",
      "Processing RFQs:  47%|█████████████████████████████▏                                | 474/1005 [07:16<07:13,  1.23it/s]"
     ]
    },
    {
     "name": "stderr",
     "output_type": "stream",
     "text": [
      "\r",
      "Processing RFQs:  47%|█████████████████████████████▎                                | 475/1005 [07:17<07:23,  1.20it/s]"
     ]
    },
    {
     "name": "stderr",
     "output_type": "stream",
     "text": [
      "\r",
      "Processing RFQs:  47%|█████████████████████████████▎                                | 476/1005 [07:19<09:47,  1.11s/it]"
     ]
    },
    {
     "name": "stderr",
     "output_type": "stream",
     "text": [
      "\r",
      "Processing RFQs:  47%|█████████████████████████████▍                                | 477/1005 [07:20<09:27,  1.08s/it]"
     ]
    },
    {
     "name": "stderr",
     "output_type": "stream",
     "text": [
      "\r",
      "Processing RFQs:  48%|█████████████████████████████▍                                | 478/1005 [07:20<09:02,  1.03s/it]"
     ]
    },
    {
     "name": "stderr",
     "output_type": "stream",
     "text": [
      "\r",
      "Processing RFQs:  48%|█████████████████████████████▌                                | 479/1005 [07:21<08:55,  1.02s/it]"
     ]
    },
    {
     "name": "stderr",
     "output_type": "stream",
     "text": [
      "\r",
      "Processing RFQs:  48%|█████████████████████████████▌                                | 480/1005 [07:22<08:35,  1.02it/s]"
     ]
    },
    {
     "name": "stderr",
     "output_type": "stream",
     "text": [
      "\r",
      "Processing RFQs:  48%|█████████████████████████████▋                                | 481/1005 [07:23<07:53,  1.11it/s]"
     ]
    },
    {
     "name": "stderr",
     "output_type": "stream",
     "text": [
      "\r",
      "Processing RFQs:  48%|█████████████████████████████▋                                | 482/1005 [07:24<07:26,  1.17it/s]"
     ]
    },
    {
     "name": "stderr",
     "output_type": "stream",
     "text": [
      "\r",
      "Processing RFQs:  48%|█████████████████████████████▊                                | 483/1005 [07:24<06:55,  1.26it/s]"
     ]
    },
    {
     "name": "stderr",
     "output_type": "stream",
     "text": [
      "\r",
      "Processing RFQs:  48%|█████████████████████████████▊                                | 484/1005 [07:25<06:46,  1.28it/s]"
     ]
    },
    {
     "name": "stderr",
     "output_type": "stream",
     "text": [
      "\r",
      "Processing RFQs:  48%|█████████████████████████████▉                                | 485/1005 [07:26<06:58,  1.24it/s]"
     ]
    },
    {
     "name": "stderr",
     "output_type": "stream",
     "text": [
      "\r",
      "Processing RFQs:  48%|█████████████████████████████▉                                | 486/1005 [07:27<07:03,  1.23it/s]"
     ]
    },
    {
     "name": "stderr",
     "output_type": "stream",
     "text": [
      "\r",
      "Processing RFQs:  48%|██████████████████████████████                                | 487/1005 [07:28<07:30,  1.15it/s]"
     ]
    },
    {
     "name": "stderr",
     "output_type": "stream",
     "text": [
      "\r",
      "Processing RFQs:  49%|██████████████████████████████                                | 488/1005 [07:29<07:37,  1.13it/s]"
     ]
    },
    {
     "name": "stderr",
     "output_type": "stream",
     "text": [
      "\r",
      "Processing RFQs:  49%|██████████████████████████████▏                               | 489/1005 [07:30<07:44,  1.11it/s]"
     ]
    },
    {
     "name": "stderr",
     "output_type": "stream",
     "text": [
      "\r",
      "Processing RFQs:  49%|██████████████████████████████▏                               | 490/1005 [07:31<07:24,  1.16it/s]"
     ]
    },
    {
     "name": "stderr",
     "output_type": "stream",
     "text": [
      "\r",
      "Processing RFQs:  49%|██████████████████████████████▎                               | 491/1005 [07:32<07:39,  1.12it/s]"
     ]
    },
    {
     "name": "stderr",
     "output_type": "stream",
     "text": [
      "\r",
      "Processing RFQs:  49%|██████████████████████████████▎                               | 492/1005 [07:32<07:32,  1.13it/s]"
     ]
    },
    {
     "name": "stderr",
     "output_type": "stream",
     "text": [
      "\r",
      "Processing RFQs:  49%|██████████████████████████████▍                               | 493/1005 [07:33<06:56,  1.23it/s]"
     ]
    },
    {
     "name": "stderr",
     "output_type": "stream",
     "text": [
      "\r",
      "Processing RFQs:  49%|██████████████████████████████▍                               | 494/1005 [07:34<06:49,  1.25it/s]"
     ]
    },
    {
     "name": "stderr",
     "output_type": "stream",
     "text": [
      "\r",
      "Processing RFQs:  49%|██████████████████████████████▌                               | 495/1005 [07:34<06:29,  1.31it/s]"
     ]
    },
    {
     "name": "stderr",
     "output_type": "stream",
     "text": [
      "\r",
      "Processing RFQs:  49%|██████████████████████████████▌                               | 496/1005 [07:35<06:29,  1.31it/s]"
     ]
    },
    {
     "name": "stderr",
     "output_type": "stream",
     "text": [
      "\r",
      "Processing RFQs:  49%|██████████████████████████████▋                               | 497/1005 [07:36<06:56,  1.22it/s]"
     ]
    },
    {
     "name": "stderr",
     "output_type": "stream",
     "text": [
      "\r",
      "Processing RFQs:  50%|██████████████████████████████▋                               | 498/1005 [07:37<07:07,  1.18it/s]"
     ]
    },
    {
     "name": "stderr",
     "output_type": "stream",
     "text": [
      "\r",
      "Processing RFQs:  50%|██████████████████████████████▊                               | 499/1005 [07:38<07:29,  1.13it/s]"
     ]
    },
    {
     "name": "stderr",
     "output_type": "stream",
     "text": [
      "\r",
      "Processing RFQs:  50%|██████████████████████████████▊                               | 500/1005 [07:39<07:41,  1.09it/s]"
     ]
    },
    {
     "name": "stderr",
     "output_type": "stream",
     "text": [
      "\r",
      "Processing RFQs:  50%|██████████████████████████████▉                               | 501/1005 [07:40<07:43,  1.09it/s]"
     ]
    },
    {
     "name": "stderr",
     "output_type": "stream",
     "text": [
      "\r",
      "Processing RFQs:  50%|██████████████████████████████▉                               | 502/1005 [07:41<07:49,  1.07it/s]"
     ]
    },
    {
     "name": "stderr",
     "output_type": "stream",
     "text": [
      "\r",
      "Processing RFQs:  50%|███████████████████████████████                               | 503/1005 [07:42<07:41,  1.09it/s]"
     ]
    },
    {
     "name": "stderr",
     "output_type": "stream",
     "text": [
      "\r",
      "Processing RFQs:  50%|███████████████████████████████                               | 504/1005 [07:43<07:26,  1.12it/s]"
     ]
    },
    {
     "name": "stderr",
     "output_type": "stream",
     "text": [
      "\r",
      "Processing RFQs:  50%|███████████████████████████████▏                              | 505/1005 [07:43<06:56,  1.20it/s]"
     ]
    },
    {
     "name": "stderr",
     "output_type": "stream",
     "text": [
      "\r",
      "Processing RFQs:  50%|███████████████████████████████▏                              | 506/1005 [07:44<06:45,  1.23it/s]"
     ]
    },
    {
     "name": "stderr",
     "output_type": "stream",
     "text": [
      "\r",
      "Processing RFQs:  50%|███████████████████████████████▎                              | 507/1005 [07:45<06:24,  1.29it/s]"
     ]
    },
    {
     "name": "stderr",
     "output_type": "stream",
     "text": [
      "\r",
      "Processing RFQs:  51%|███████████████████████████████▎                              | 508/1005 [07:46<06:32,  1.27it/s]"
     ]
    },
    {
     "name": "stderr",
     "output_type": "stream",
     "text": [
      "\r",
      "Processing RFQs:  51%|███████████████████████████████▍                              | 509/1005 [07:47<06:48,  1.21it/s]"
     ]
    },
    {
     "name": "stderr",
     "output_type": "stream",
     "text": [
      "\r",
      "Processing RFQs:  51%|███████████████████████████████▍                              | 510/1005 [07:47<07:00,  1.18it/s]"
     ]
    },
    {
     "name": "stderr",
     "output_type": "stream",
     "text": [
      "\r",
      "Processing RFQs:  51%|███████████████████████████████▌                              | 511/1005 [07:48<07:21,  1.12it/s]"
     ]
    },
    {
     "name": "stderr",
     "output_type": "stream",
     "text": [
      "\r",
      "Processing RFQs:  51%|███████████████████████████████▌                              | 512/1005 [07:49<07:08,  1.15it/s]"
     ]
    },
    {
     "name": "stderr",
     "output_type": "stream",
     "text": [
      "\r",
      "Processing RFQs:  51%|███████████████████████████████▋                              | 513/1005 [07:50<06:56,  1.18it/s]"
     ]
    },
    {
     "name": "stderr",
     "output_type": "stream",
     "text": [
      "\r",
      "Processing RFQs:  51%|███████████████████████████████▋                              | 514/1005 [07:51<07:08,  1.15it/s]"
     ]
    },
    {
     "name": "stderr",
     "output_type": "stream",
     "text": [
      "\r",
      "Processing RFQs:  51%|███████████████████████████████▊                              | 515/1005 [07:52<07:13,  1.13it/s]"
     ]
    },
    {
     "name": "stderr",
     "output_type": "stream",
     "text": [
      "\r",
      "Processing RFQs:  51%|███████████████████████████████▊                              | 516/1005 [07:53<06:56,  1.17it/s]"
     ]
    },
    {
     "name": "stderr",
     "output_type": "stream",
     "text": [
      "\r",
      "Processing RFQs:  51%|███████████████████████████████▉                              | 517/1005 [07:53<06:29,  1.25it/s]"
     ]
    },
    {
     "name": "stderr",
     "output_type": "stream",
     "text": [
      "\r",
      "Processing RFQs:  52%|███████████████████████████████▉                              | 518/1005 [07:54<06:16,  1.29it/s]"
     ]
    },
    {
     "name": "stderr",
     "output_type": "stream",
     "text": [
      "\r",
      "Processing RFQs:  52%|████████████████████████████████                              | 519/1005 [07:55<06:01,  1.34it/s]"
     ]
    },
    {
     "name": "stderr",
     "output_type": "stream",
     "text": [
      "\r",
      "Processing RFQs:  52%|████████████████████████████████                              | 520/1005 [07:55<06:00,  1.34it/s]"
     ]
    },
    {
     "name": "stderr",
     "output_type": "stream",
     "text": [
      "\r",
      "Processing RFQs:  52%|████████████████████████████████▏                             | 521/1005 [07:56<06:25,  1.26it/s]"
     ]
    },
    {
     "name": "stderr",
     "output_type": "stream",
     "text": [
      "\r",
      "Processing RFQs:  52%|████████████████████████████████▏                             | 522/1005 [07:57<06:38,  1.21it/s]"
     ]
    },
    {
     "name": "stderr",
     "output_type": "stream",
     "text": [
      "\r",
      "Processing RFQs:  52%|████████████████████████████████▎                             | 523/1005 [07:58<07:01,  1.14it/s]"
     ]
    },
    {
     "name": "stderr",
     "output_type": "stream",
     "text": [
      "\r",
      "Processing RFQs:  52%|████████████████████████████████▎                             | 524/1005 [07:59<07:07,  1.13it/s]"
     ]
    },
    {
     "name": "stderr",
     "output_type": "stream",
     "text": [
      "\r",
      "Processing RFQs:  52%|████████████████████████████████▍                             | 525/1005 [08:00<07:16,  1.10it/s]"
     ]
    },
    {
     "name": "stderr",
     "output_type": "stream",
     "text": [
      "\r",
      "Processing RFQs:  52%|████████████████████████████████▍                             | 526/1005 [08:01<07:15,  1.10it/s]"
     ]
    },
    {
     "name": "stderr",
     "output_type": "stream",
     "text": [
      "\r",
      "Processing RFQs:  52%|████████████████████████████████▌                             | 527/1005 [08:02<07:18,  1.09it/s]"
     ]
    },
    {
     "name": "stderr",
     "output_type": "stream",
     "text": [
      "\r",
      "Processing RFQs:  53%|████████████████████████████████▌                             | 528/1005 [08:03<06:47,  1.17it/s]"
     ]
    },
    {
     "name": "stderr",
     "output_type": "stream",
     "text": [
      "\r",
      "Processing RFQs:  53%|████████████████████████████████▋                             | 529/1005 [08:03<06:14,  1.27it/s]"
     ]
    },
    {
     "name": "stderr",
     "output_type": "stream",
     "text": [
      "\r",
      "Processing RFQs:  53%|████████████████████████████████▋                             | 530/1005 [08:04<06:11,  1.28it/s]"
     ]
    },
    {
     "name": "stderr",
     "output_type": "stream",
     "text": [
      "\r",
      "Processing RFQs:  53%|████████████████████████████████▊                             | 531/1005 [08:05<05:54,  1.34it/s]"
     ]
    },
    {
     "name": "stderr",
     "output_type": "stream",
     "text": [
      "\r",
      "Processing RFQs:  53%|████████████████████████████████▊                             | 532/1005 [08:06<06:13,  1.27it/s]"
     ]
    },
    {
     "name": "stderr",
     "output_type": "stream",
     "text": [
      "\r",
      "Processing RFQs:  53%|████████████████████████████████▉                             | 533/1005 [08:07<06:29,  1.21it/s]"
     ]
    },
    {
     "name": "stderr",
     "output_type": "stream",
     "text": [
      "\r",
      "Processing RFQs:  53%|████████████████████████████████▉                             | 534/1005 [08:07<06:39,  1.18it/s]"
     ]
    },
    {
     "name": "stderr",
     "output_type": "stream",
     "text": [
      "\r",
      "Processing RFQs:  53%|█████████████████████████████████                             | 535/1005 [08:08<06:55,  1.13it/s]"
     ]
    },
    {
     "name": "stderr",
     "output_type": "stream",
     "text": [
      "\r",
      "Processing RFQs:  53%|█████████████████████████████████                             | 536/1005 [08:09<07:01,  1.11it/s]"
     ]
    },
    {
     "name": "stderr",
     "output_type": "stream",
     "text": [
      "\r",
      "Processing RFQs:  53%|█████████████████████████████████▏                            | 537/1005 [08:10<07:07,  1.09it/s]"
     ]
    },
    {
     "name": "stderr",
     "output_type": "stream",
     "text": [
      "\r",
      "Processing RFQs:  54%|█████████████████████████████████▏                            | 538/1005 [08:11<07:12,  1.08it/s]"
     ]
    },
    {
     "name": "stderr",
     "output_type": "stream",
     "text": [
      "\r",
      "Processing RFQs:  54%|█████████████████████████████████▎                            | 539/1005 [08:12<07:15,  1.07it/s]"
     ]
    },
    {
     "name": "stderr",
     "output_type": "stream",
     "text": [
      "\r",
      "Processing RFQs:  54%|█████████████████████████████████▎                            | 540/1005 [08:13<06:47,  1.14it/s]"
     ]
    },
    {
     "name": "stderr",
     "output_type": "stream",
     "text": [
      "\r",
      "Processing RFQs:  54%|█████████████████████████████████▍                            | 541/1005 [08:14<06:19,  1.22it/s]"
     ]
    },
    {
     "name": "stderr",
     "output_type": "stream",
     "text": [
      "\r",
      "Processing RFQs:  54%|█████████████████████████████████▍                            | 542/1005 [08:14<06:06,  1.26it/s]"
     ]
    },
    {
     "name": "stderr",
     "output_type": "stream",
     "text": [
      "\r",
      "Processing RFQs:  54%|█████████████████████████████████▍                            | 543/1005 [08:15<06:23,  1.20it/s]"
     ]
    },
    {
     "name": "stderr",
     "output_type": "stream",
     "text": [
      "\r",
      "Processing RFQs:  54%|█████████████████████████████████▌                            | 544/1005 [08:16<06:49,  1.12it/s]"
     ]
    },
    {
     "name": "stderr",
     "output_type": "stream",
     "text": [
      "\r",
      "Processing RFQs:  54%|█████████████████████████████████▌                            | 545/1005 [08:17<06:56,  1.10it/s]"
     ]
    },
    {
     "name": "stderr",
     "output_type": "stream",
     "text": [
      "\r",
      "Processing RFQs:  54%|█████████████████████████████████▋                            | 546/1005 [08:19<08:14,  1.08s/it]"
     ]
    },
    {
     "name": "stderr",
     "output_type": "stream",
     "text": [
      "\r",
      "Processing RFQs:  54%|█████████████████████████████████▋                            | 547/1005 [08:20<08:01,  1.05s/it]"
     ]
    },
    {
     "name": "stderr",
     "output_type": "stream",
     "text": [
      "\r",
      "Processing RFQs:  55%|█████████████████████████████████▊                            | 548/1005 [08:21<07:43,  1.01s/it]"
     ]
    },
    {
     "name": "stderr",
     "output_type": "stream",
     "text": [
      "\r",
      "Processing RFQs:  55%|█████████████████████████████████▊                            | 549/1005 [08:22<07:32,  1.01it/s]"
     ]
    },
    {
     "name": "stderr",
     "output_type": "stream",
     "text": [
      "\r",
      "Processing RFQs:  55%|█████████████████████████████████▉                            | 550/1005 [08:23<07:18,  1.04it/s]"
     ]
    },
    {
     "name": "stderr",
     "output_type": "stream",
     "text": [
      "\r",
      "Processing RFQs:  55%|█████████████████████████████████▉                            | 551/1005 [08:23<06:41,  1.13it/s]"
     ]
    },
    {
     "name": "stderr",
     "output_type": "stream",
     "text": [
      "\r",
      "Processing RFQs:  55%|██████████████████████████████████                            | 552/1005 [08:24<06:18,  1.20it/s]"
     ]
    },
    {
     "name": "stderr",
     "output_type": "stream",
     "text": [
      "\r",
      "Processing RFQs:  55%|██████████████████████████████████                            | 553/1005 [08:25<06:00,  1.25it/s]"
     ]
    },
    {
     "name": "stderr",
     "output_type": "stream",
     "text": [
      "\r",
      "Processing RFQs:  55%|██████████████████████████████████▏                           | 554/1005 [08:25<05:56,  1.26it/s]"
     ]
    },
    {
     "name": "stderr",
     "output_type": "stream",
     "text": [
      "\r",
      "Processing RFQs:  55%|██████████████████████████████████▏                           | 555/1005 [08:26<06:14,  1.20it/s]"
     ]
    },
    {
     "name": "stderr",
     "output_type": "stream",
     "text": [
      "\r",
      "Processing RFQs:  55%|██████████████████████████████████▎                           | 556/1005 [08:27<06:28,  1.16it/s]"
     ]
    },
    {
     "name": "stderr",
     "output_type": "stream",
     "text": [
      "\r",
      "Processing RFQs:  55%|██████████████████████████████████▎                           | 557/1005 [08:28<06:41,  1.12it/s]"
     ]
    },
    {
     "name": "stderr",
     "output_type": "stream",
     "text": [
      "\r",
      "Processing RFQs:  56%|██████████████████████████████████▍                           | 558/1005 [08:29<06:45,  1.10it/s]"
     ]
    },
    {
     "name": "stderr",
     "output_type": "stream",
     "text": [
      "\r",
      "Processing RFQs:  56%|██████████████████████████████████▍                           | 559/1005 [08:30<06:40,  1.11it/s]"
     ]
    },
    {
     "name": "stderr",
     "output_type": "stream",
     "text": [
      "\r",
      "Processing RFQs:  56%|██████████████████████████████████▌                           | 560/1005 [08:31<06:46,  1.09it/s]"
     ]
    },
    {
     "name": "stderr",
     "output_type": "stream",
     "text": [
      "\r",
      "Processing RFQs:  56%|██████████████████████████████████▌                           | 561/1005 [08:32<06:55,  1.07it/s]"
     ]
    },
    {
     "name": "stderr",
     "output_type": "stream",
     "text": [
      "\r",
      "Processing RFQs:  56%|██████████████████████████████████▋                           | 562/1005 [08:33<06:42,  1.10it/s]"
     ]
    },
    {
     "name": "stderr",
     "output_type": "stream",
     "text": [
      "\r",
      "Processing RFQs:  56%|██████████████████████████████████▋                           | 563/1005 [08:34<06:12,  1.19it/s]"
     ]
    },
    {
     "name": "stderr",
     "output_type": "stream",
     "text": [
      "\r",
      "Processing RFQs:  56%|██████████████████████████████████▊                           | 564/1005 [08:34<06:01,  1.22it/s]"
     ]
    },
    {
     "name": "stderr",
     "output_type": "stream",
     "text": [
      "\r",
      "Processing RFQs:  56%|██████████████████████████████████▊                           | 565/1005 [08:35<05:45,  1.27it/s]"
     ]
    },
    {
     "name": "stderr",
     "output_type": "stream",
     "text": [
      "\r",
      "Processing RFQs:  56%|██████████████████████████████████▉                           | 566/1005 [08:36<06:04,  1.20it/s]"
     ]
    },
    {
     "name": "stderr",
     "output_type": "stream",
     "text": [
      "\r",
      "Processing RFQs:  56%|██████████████████████████████████▉                           | 567/1005 [08:37<06:15,  1.17it/s]"
     ]
    },
    {
     "name": "stderr",
     "output_type": "stream",
     "text": [
      "\r",
      "Processing RFQs:  57%|███████████████████████████████████                           | 568/1005 [08:38<06:25,  1.13it/s]"
     ]
    },
    {
     "name": "stderr",
     "output_type": "stream",
     "text": [
      "\r",
      "Processing RFQs:  57%|███████████████████████████████████                           | 569/1005 [08:39<06:40,  1.09it/s]"
     ]
    },
    {
     "name": "stderr",
     "output_type": "stream",
     "text": [
      "\r",
      "Processing RFQs:  57%|███████████████████████████████████▏                          | 570/1005 [08:40<06:46,  1.07it/s]"
     ]
    },
    {
     "name": "stderr",
     "output_type": "stream",
     "text": [
      "\r",
      "Processing RFQs:  57%|███████████████████████████████████▏                          | 571/1005 [08:41<06:45,  1.07it/s]"
     ]
    },
    {
     "name": "stderr",
     "output_type": "stream",
     "text": [
      "\r",
      "Processing RFQs:  57%|███████████████████████████████████▎                          | 572/1005 [08:42<06:44,  1.07it/s]"
     ]
    },
    {
     "name": "stderr",
     "output_type": "stream",
     "text": [
      "\r",
      "Processing RFQs:  57%|███████████████████████████████████▎                          | 573/1005 [08:43<06:40,  1.08it/s]"
     ]
    },
    {
     "name": "stderr",
     "output_type": "stream",
     "text": [
      "\r",
      "Processing RFQs:  57%|███████████████████████████████████▍                          | 574/1005 [08:43<06:09,  1.17it/s]"
     ]
    },
    {
     "name": "stderr",
     "output_type": "stream",
     "text": [
      "\r",
      "Processing RFQs:  57%|███████████████████████████████████▍                          | 575/1005 [08:44<05:47,  1.24it/s]"
     ]
    },
    {
     "name": "stderr",
     "output_type": "stream",
     "text": [
      "\r",
      "Processing RFQs:  57%|███████████████████████████████████▌                          | 576/1005 [08:45<05:40,  1.26it/s]"
     ]
    },
    {
     "name": "stderr",
     "output_type": "stream",
     "text": [
      "\r",
      "Processing RFQs:  57%|███████████████████████████████████▌                          | 577/1005 [08:46<05:46,  1.23it/s]"
     ]
    },
    {
     "name": "stderr",
     "output_type": "stream",
     "text": [
      "\r",
      "Processing RFQs:  58%|███████████████████████████████████▋                          | 578/1005 [08:46<06:03,  1.18it/s]"
     ]
    },
    {
     "name": "stderr",
     "output_type": "stream",
     "text": [
      "\r",
      "Processing RFQs:  58%|███████████████████████████████████▋                          | 579/1005 [08:47<06:09,  1.15it/s]"
     ]
    },
    {
     "name": "stderr",
     "output_type": "stream",
     "text": [
      "\r",
      "Processing RFQs:  58%|███████████████████████████████████▊                          | 580/1005 [08:48<06:23,  1.11it/s]"
     ]
    },
    {
     "name": "stderr",
     "output_type": "stream",
     "text": [
      "\r",
      "Processing RFQs:  58%|███████████████████████████████████▊                          | 581/1005 [08:49<06:34,  1.08it/s]"
     ]
    },
    {
     "name": "stderr",
     "output_type": "stream",
     "text": [
      "\r",
      "Processing RFQs:  58%|███████████████████████████████████▉                          | 582/1005 [08:50<06:33,  1.08it/s]"
     ]
    },
    {
     "name": "stderr",
     "output_type": "stream",
     "text": [
      "\r",
      "Processing RFQs:  58%|███████████████████████████████████▉                          | 583/1005 [08:51<06:36,  1.06it/s]"
     ]
    },
    {
     "name": "stderr",
     "output_type": "stream",
     "text": [
      "\r",
      "Processing RFQs:  58%|████████████████████████████████████                          | 584/1005 [08:52<06:40,  1.05it/s]"
     ]
    },
    {
     "name": "stderr",
     "output_type": "stream",
     "text": [
      "\r",
      "Processing RFQs:  58%|████████████████████████████████████                          | 585/1005 [08:53<06:20,  1.10it/s]"
     ]
    },
    {
     "name": "stderr",
     "output_type": "stream",
     "text": [
      "\r",
      "Processing RFQs:  58%|████████████████████████████████████▏                         | 586/1005 [08:54<05:52,  1.19it/s]"
     ]
    },
    {
     "name": "stderr",
     "output_type": "stream",
     "text": [
      "\r",
      "Processing RFQs:  58%|████████████████████████████████████▏                         | 587/1005 [08:55<05:44,  1.21it/s]"
     ]
    },
    {
     "name": "stderr",
     "output_type": "stream",
     "text": [
      "\r",
      "Processing RFQs:  59%|████████████████████████████████████▎                         | 588/1005 [08:55<05:33,  1.25it/s]"
     ]
    },
    {
     "name": "stderr",
     "output_type": "stream",
     "text": [
      "\r",
      "Processing RFQs:  59%|████████████████████████████████████▎                         | 589/1005 [08:56<05:41,  1.22it/s]"
     ]
    },
    {
     "name": "stderr",
     "output_type": "stream",
     "text": [
      "\r",
      "Processing RFQs:  59%|████████████████████████████████████▍                         | 590/1005 [08:57<05:59,  1.15it/s]"
     ]
    },
    {
     "name": "stderr",
     "output_type": "stream",
     "text": [
      "\r",
      "Processing RFQs:  59%|████████████████████████████████████▍                         | 591/1005 [08:58<06:08,  1.12it/s]"
     ]
    },
    {
     "name": "stderr",
     "output_type": "stream",
     "text": [
      "\r",
      "Processing RFQs:  59%|████████████████████████████████████▌                         | 592/1005 [08:59<06:28,  1.06it/s]"
     ]
    },
    {
     "name": "stderr",
     "output_type": "stream",
     "text": [
      "\r",
      "Processing RFQs:  59%|████████████████████████████████████▌                         | 593/1005 [09:00<06:28,  1.06it/s]"
     ]
    },
    {
     "name": "stderr",
     "output_type": "stream",
     "text": [
      "\r",
      "Processing RFQs:  59%|████████████████████████████████████▋                         | 594/1005 [09:01<06:29,  1.06it/s]"
     ]
    },
    {
     "name": "stderr",
     "output_type": "stream",
     "text": [
      "\r",
      "Processing RFQs:  59%|████████████████████████████████████▋                         | 595/1005 [09:02<06:29,  1.05it/s]"
     ]
    },
    {
     "name": "stderr",
     "output_type": "stream",
     "text": [
      "\r",
      "Processing RFQs:  59%|████████████████████████████████████▊                         | 596/1005 [09:03<06:17,  1.08it/s]"
     ]
    },
    {
     "name": "stderr",
     "output_type": "stream",
     "text": [
      "\r",
      "Processing RFQs:  59%|████████████████████████████████████▊                         | 597/1005 [09:04<05:51,  1.16it/s]"
     ]
    },
    {
     "name": "stderr",
     "output_type": "stream",
     "text": [
      "\r",
      "Processing RFQs:  60%|████████████████████████████████████▉                         | 598/1005 [09:04<05:26,  1.25it/s]"
     ]
    },
    {
     "name": "stderr",
     "output_type": "stream",
     "text": [
      "\r",
      "Processing RFQs:  60%|████████████████████████████████████▉                         | 599/1005 [09:05<05:16,  1.28it/s]"
     ]
    },
    {
     "name": "stderr",
     "output_type": "stream",
     "text": [
      "\r",
      "Processing RFQs:  60%|█████████████████████████████████████                         | 600/1005 [09:06<05:25,  1.24it/s]"
     ]
    },
    {
     "name": "stderr",
     "output_type": "stream",
     "text": [
      "\r",
      "Processing RFQs:  60%|█████████████████████████████████████                         | 601/1005 [09:07<05:36,  1.20it/s]"
     ]
    },
    {
     "name": "stderr",
     "output_type": "stream",
     "text": [
      "\r",
      "Processing RFQs:  60%|█████████████████████████████████████▏                        | 602/1005 [09:08<05:44,  1.17it/s]"
     ]
    },
    {
     "name": "stderr",
     "output_type": "stream",
     "text": [
      "\r",
      "Processing RFQs:  60%|█████████████████████████████████████▏                        | 603/1005 [09:09<05:55,  1.13it/s]"
     ]
    },
    {
     "name": "stderr",
     "output_type": "stream",
     "text": [
      "\r",
      "Processing RFQs:  60%|█████████████████████████████████████▎                        | 604/1005 [09:10<06:07,  1.09it/s]"
     ]
    },
    {
     "name": "stderr",
     "output_type": "stream",
     "text": [
      "\r",
      "Processing RFQs:  60%|█████████████████████████████████████▎                        | 605/1005 [09:10<06:08,  1.08it/s]"
     ]
    },
    {
     "name": "stderr",
     "output_type": "stream",
     "text": [
      "\r",
      "Processing RFQs:  60%|█████████████████████████████████████▍                        | 606/1005 [09:11<06:01,  1.10it/s]"
     ]
    },
    {
     "name": "stderr",
     "output_type": "stream",
     "text": [
      "\r",
      "Processing RFQs:  60%|█████████████████████████████████████▍                        | 607/1005 [09:12<06:07,  1.08it/s]"
     ]
    },
    {
     "name": "stderr",
     "output_type": "stream",
     "text": [
      "\r",
      "Processing RFQs:  60%|█████████████████████████████████████▌                        | 608/1005 [09:13<05:42,  1.16it/s]"
     ]
    },
    {
     "name": "stderr",
     "output_type": "stream",
     "text": [
      "\r",
      "Processing RFQs:  61%|█████████████████████████████████████▌                        | 609/1005 [09:14<05:18,  1.24it/s]"
     ]
    },
    {
     "name": "stderr",
     "output_type": "stream",
     "text": [
      "\r",
      "Processing RFQs:  61%|█████████████████████████████████████▋                        | 610/1005 [09:14<05:02,  1.30it/s]"
     ]
    },
    {
     "name": "stderr",
     "output_type": "stream",
     "text": [
      "\r",
      "Processing RFQs:  61%|█████████████████████████████████████▋                        | 611/1005 [09:15<05:06,  1.29it/s]"
     ]
    },
    {
     "name": "stderr",
     "output_type": "stream",
     "text": [
      "\r",
      "Processing RFQs:  61%|█████████████████████████████████████▊                        | 612/1005 [09:16<05:25,  1.21it/s]"
     ]
    },
    {
     "name": "stderr",
     "output_type": "stream",
     "text": [
      "\r",
      "Processing RFQs:  61%|█████████████████████████████████████▊                        | 613/1005 [09:17<05:35,  1.17it/s]"
     ]
    },
    {
     "name": "stderr",
     "output_type": "stream",
     "text": [
      "\r",
      "Processing RFQs:  61%|█████████████████████████████████████▉                        | 614/1005 [09:18<05:40,  1.15it/s]"
     ]
    },
    {
     "name": "stderr",
     "output_type": "stream",
     "text": [
      "\r",
      "Processing RFQs:  61%|█████████████████████████████████████▉                        | 615/1005 [09:19<05:59,  1.08it/s]"
     ]
    },
    {
     "name": "stderr",
     "output_type": "stream",
     "text": [
      "\r",
      "Processing RFQs:  61%|██████████████████████████████████████                        | 616/1005 [09:20<06:01,  1.08it/s]"
     ]
    },
    {
     "name": "stderr",
     "output_type": "stream",
     "text": [
      "\r",
      "Processing RFQs:  61%|██████████████████████████████████████                        | 617/1005 [09:21<05:55,  1.09it/s]"
     ]
    },
    {
     "name": "stderr",
     "output_type": "stream",
     "text": [
      "\r",
      "Processing RFQs:  61%|██████████████████████████████████████▏                       | 618/1005 [09:22<05:50,  1.10it/s]"
     ]
    },
    {
     "name": "stderr",
     "output_type": "stream",
     "text": [
      "\r",
      "Processing RFQs:  62%|██████████████████████████████████████▏                       | 619/1005 [09:23<05:42,  1.13it/s]"
     ]
    },
    {
     "name": "stderr",
     "output_type": "stream",
     "text": [
      "\r",
      "Processing RFQs:  62%|██████████████████████████████████████▏                       | 620/1005 [09:23<05:15,  1.22it/s]"
     ]
    },
    {
     "name": "stderr",
     "output_type": "stream",
     "text": [
      "\r",
      "Processing RFQs:  62%|██████████████████████████████████████▎                       | 621/1005 [09:24<05:00,  1.28it/s]"
     ]
    },
    {
     "name": "stderr",
     "output_type": "stream",
     "text": [
      "\r",
      "Processing RFQs:  62%|██████████████████████████████████████▎                       | 622/1005 [09:25<04:53,  1.30it/s]"
     ]
    },
    {
     "name": "stderr",
     "output_type": "stream",
     "text": [
      "\r",
      "Processing RFQs:  62%|██████████████████████████████████████▍                       | 623/1005 [09:25<04:45,  1.34it/s]"
     ]
    },
    {
     "name": "stderr",
     "output_type": "stream",
     "text": [
      "\r",
      "Processing RFQs:  62%|██████████████████████████████████████▍                       | 624/1005 [09:26<05:04,  1.25it/s]"
     ]
    },
    {
     "name": "stderr",
     "output_type": "stream",
     "text": [
      "\r",
      "Processing RFQs:  62%|██████████████████████████████████████▌                       | 625/1005 [09:27<05:22,  1.18it/s]"
     ]
    },
    {
     "name": "stderr",
     "output_type": "stream",
     "text": [
      "\r",
      "Processing RFQs:  62%|██████████████████████████████████████▌                       | 626/1005 [09:28<05:41,  1.11it/s]"
     ]
    },
    {
     "name": "stderr",
     "output_type": "stream",
     "text": [
      "\r",
      "Processing RFQs:  62%|██████████████████████████████████████▋                       | 627/1005 [09:30<06:30,  1.03s/it]"
     ]
    },
    {
     "name": "stderr",
     "output_type": "stream",
     "text": [
      "\r",
      "Processing RFQs:  62%|██████████████████████████████████████▋                       | 628/1005 [09:31<06:35,  1.05s/it]"
     ]
    },
    {
     "name": "stderr",
     "output_type": "stream",
     "text": [
      "\r",
      "Processing RFQs:  63%|██████████████████████████████████████▊                       | 629/1005 [09:32<06:28,  1.03s/it]"
     ]
    },
    {
     "name": "stderr",
     "output_type": "stream",
     "text": [
      "\r",
      "Processing RFQs:  63%|██████████████████████████████████████▊                       | 630/1005 [09:33<06:18,  1.01s/it]"
     ]
    },
    {
     "name": "stderr",
     "output_type": "stream",
     "text": [
      "\r",
      "Processing RFQs:  63%|██████████████████████████████████████▉                       | 631/1005 [09:33<05:42,  1.09it/s]"
     ]
    },
    {
     "name": "stderr",
     "output_type": "stream",
     "text": [
      "\r",
      "Processing RFQs:  63%|██████████████████████████████████████▉                       | 632/1005 [09:34<05:17,  1.17it/s]"
     ]
    },
    {
     "name": "stderr",
     "output_type": "stream",
     "text": [
      "\r",
      "Processing RFQs:  63%|███████████████████████████████████████                       | 633/1005 [09:35<05:08,  1.20it/s]"
     ]
    },
    {
     "name": "stderr",
     "output_type": "stream",
     "text": [
      "\r",
      "Processing RFQs:  63%|███████████████████████████████████████                       | 634/1005 [09:36<05:15,  1.18it/s]"
     ]
    },
    {
     "name": "stderr",
     "output_type": "stream",
     "text": [
      "\r",
      "Processing RFQs:  63%|███████████████████████████████████████▏                      | 635/1005 [09:37<05:25,  1.14it/s]"
     ]
    },
    {
     "name": "stderr",
     "output_type": "stream",
     "text": [
      "\r",
      "Processing RFQs:  63%|███████████████████████████████████████▏                      | 636/1005 [09:38<05:29,  1.12it/s]"
     ]
    },
    {
     "name": "stderr",
     "output_type": "stream",
     "text": [
      "\r",
      "Processing RFQs:  63%|███████████████████████████████████████▎                      | 637/1005 [09:39<05:42,  1.07it/s]"
     ]
    },
    {
     "name": "stderr",
     "output_type": "stream",
     "text": [
      "\r",
      "Processing RFQs:  63%|███████████████████████████████████████▎                      | 638/1005 [09:40<05:50,  1.05it/s]"
     ]
    },
    {
     "name": "stderr",
     "output_type": "stream",
     "text": [
      "\r",
      "Processing RFQs:  64%|███████████████████████████████████████▍                      | 639/1005 [09:41<05:49,  1.05it/s]"
     ]
    },
    {
     "name": "stderr",
     "output_type": "stream",
     "text": [
      "\r",
      "Processing RFQs:  64%|███████████████████████████████████████▍                      | 640/1005 [09:42<05:47,  1.05it/s]"
     ]
    },
    {
     "name": "stderr",
     "output_type": "stream",
     "text": [
      "\r",
      "Processing RFQs:  64%|███████████████████████████████████████▌                      | 641/1005 [09:42<05:37,  1.08it/s]"
     ]
    },
    {
     "name": "stderr",
     "output_type": "stream",
     "text": [
      "\r",
      "Processing RFQs:  64%|███████████████████████████████████████▌                      | 642/1005 [09:43<05:15,  1.15it/s]"
     ]
    },
    {
     "name": "stderr",
     "output_type": "stream",
     "text": [
      "\r",
      "Processing RFQs:  64%|███████████████████████████████████████▋                      | 643/1005 [09:44<04:57,  1.22it/s]"
     ]
    },
    {
     "name": "stderr",
     "output_type": "stream",
     "text": [
      "\r",
      "Processing RFQs:  64%|███████████████████████████████████████▋                      | 644/1005 [09:45<04:45,  1.26it/s]"
     ]
    },
    {
     "name": "stderr",
     "output_type": "stream",
     "text": [
      "\r",
      "Processing RFQs:  64%|███████████████████████████████████████▊                      | 645/1005 [09:45<04:53,  1.23it/s]"
     ]
    },
    {
     "name": "stderr",
     "output_type": "stream",
     "text": [
      "\r",
      "Processing RFQs:  64%|███████████████████████████████████████▊                      | 646/1005 [09:46<05:04,  1.18it/s]"
     ]
    },
    {
     "name": "stderr",
     "output_type": "stream",
     "text": [
      "\r",
      "Processing RFQs:  64%|███████████████████████████████████████▉                      | 647/1005 [09:47<05:11,  1.15it/s]"
     ]
    },
    {
     "name": "stderr",
     "output_type": "stream",
     "text": [
      "\r",
      "Processing RFQs:  64%|███████████████████████████████████████▉                      | 648/1005 [09:48<05:14,  1.14it/s]"
     ]
    },
    {
     "name": "stderr",
     "output_type": "stream",
     "text": [
      "\r",
      "Processing RFQs:  65%|████████████████████████████████████████                      | 649/1005 [09:49<05:24,  1.10it/s]"
     ]
    },
    {
     "name": "stderr",
     "output_type": "stream",
     "text": [
      "\r",
      "Processing RFQs:  65%|████████████████████████████████████████                      | 650/1005 [09:50<05:32,  1.07it/s]"
     ]
    },
    {
     "name": "stderr",
     "output_type": "stream",
     "text": [
      "\r",
      "Processing RFQs:  65%|████████████████████████████████████████▏                     | 651/1005 [09:51<05:29,  1.07it/s]"
     ]
    },
    {
     "name": "stderr",
     "output_type": "stream",
     "text": [
      "\r",
      "Processing RFQs:  65%|████████████████████████████████████████▏                     | 652/1005 [09:52<05:29,  1.07it/s]"
     ]
    },
    {
     "name": "stderr",
     "output_type": "stream",
     "text": [
      "\r",
      "Processing RFQs:  65%|████████████████████████████████████████▎                     | 653/1005 [09:53<05:15,  1.12it/s]"
     ]
    },
    {
     "name": "stderr",
     "output_type": "stream",
     "text": [
      "\r",
      "Processing RFQs:  65%|████████████████████████████████████████▎                     | 654/1005 [09:54<04:53,  1.20it/s]"
     ]
    },
    {
     "name": "stderr",
     "output_type": "stream",
     "text": [
      "\r",
      "Processing RFQs:  65%|████████████████████████████████████████▍                     | 655/1005 [09:54<04:36,  1.26it/s]"
     ]
    },
    {
     "name": "stderr",
     "output_type": "stream",
     "text": [
      "\r",
      "Processing RFQs:  65%|████████████████████████████████████████▍                     | 656/1005 [09:55<04:35,  1.27it/s]"
     ]
    },
    {
     "name": "stderr",
     "output_type": "stream",
     "text": [
      "\r",
      "Processing RFQs:  65%|████████████████████████████████████████▌                     | 657/1005 [09:56<04:49,  1.20it/s]"
     ]
    },
    {
     "name": "stderr",
     "output_type": "stream",
     "text": [
      "\r",
      "Processing RFQs:  65%|████████████████████████████████████████▌                     | 658/1005 [09:57<05:02,  1.15it/s]"
     ]
    },
    {
     "name": "stderr",
     "output_type": "stream",
     "text": [
      "\r",
      "Processing RFQs:  66%|████████████████████████████████████████▋                     | 659/1005 [09:58<05:04,  1.14it/s]"
     ]
    },
    {
     "name": "stderr",
     "output_type": "stream",
     "text": [
      "\r",
      "Processing RFQs:  66%|████████████████████████████████████████▋                     | 660/1005 [09:59<05:08,  1.12it/s]"
     ]
    },
    {
     "name": "stderr",
     "output_type": "stream",
     "text": [
      "\r",
      "Processing RFQs:  66%|████████████████████████████████████████▊                     | 661/1005 [10:00<05:16,  1.09it/s]"
     ]
    },
    {
     "name": "stderr",
     "output_type": "stream",
     "text": [
      "\r",
      "Processing RFQs:  66%|████████████████████████████████████████▊                     | 662/1005 [10:01<05:15,  1.09it/s]"
     ]
    },
    {
     "name": "stderr",
     "output_type": "stream",
     "text": [
      "\r",
      "Processing RFQs:  66%|████████████████████████████████████████▉                     | 663/1005 [10:02<05:15,  1.08it/s]"
     ]
    },
    {
     "name": "stderr",
     "output_type": "stream",
     "text": [
      "\r",
      "Processing RFQs:  66%|████████████████████████████████████████▉                     | 664/1005 [10:02<05:11,  1.10it/s]"
     ]
    },
    {
     "name": "stderr",
     "output_type": "stream",
     "text": [
      "\r",
      "Processing RFQs:  66%|█████████████████████████████████████████                     | 665/1005 [10:03<04:51,  1.17it/s]"
     ]
    },
    {
     "name": "stderr",
     "output_type": "stream",
     "text": [
      "\r",
      "Processing RFQs:  66%|█████████████████████████████████████████                     | 666/1005 [10:04<04:32,  1.24it/s]"
     ]
    },
    {
     "name": "stderr",
     "output_type": "stream",
     "text": [
      "\r",
      "Processing RFQs:  66%|█████████████████████████████████████████▏                    | 667/1005 [10:05<04:20,  1.30it/s]"
     ]
    },
    {
     "name": "stderr",
     "output_type": "stream",
     "text": [
      "\r",
      "Processing RFQs:  66%|█████████████████████████████████████████▏                    | 668/1005 [10:05<04:32,  1.24it/s]"
     ]
    },
    {
     "name": "stderr",
     "output_type": "stream",
     "text": [
      "\r",
      "Processing RFQs:  67%|█████████████████████████████████████████▎                    | 669/1005 [10:06<04:43,  1.19it/s]"
     ]
    },
    {
     "name": "stderr",
     "output_type": "stream",
     "text": [
      "\r",
      "Processing RFQs:  67%|█████████████████████████████████████████▎                    | 670/1005 [10:07<04:52,  1.15it/s]"
     ]
    },
    {
     "name": "stderr",
     "output_type": "stream",
     "text": [
      "\r",
      "Processing RFQs:  67%|█████████████████████████████████████████▍                    | 671/1005 [10:08<04:55,  1.13it/s]"
     ]
    },
    {
     "name": "stderr",
     "output_type": "stream",
     "text": [
      "\r",
      "Processing RFQs:  67%|█████████████████████████████████████████▍                    | 672/1005 [10:09<05:00,  1.11it/s]"
     ]
    },
    {
     "name": "stderr",
     "output_type": "stream",
     "text": [
      "\r",
      "Processing RFQs:  67%|█████████████████████████████████████████▌                    | 673/1005 [10:10<05:05,  1.09it/s]"
     ]
    },
    {
     "name": "stderr",
     "output_type": "stream",
     "text": [
      "\r",
      "Processing RFQs:  67%|█████████████████████████████████████████▌                    | 674/1005 [10:11<05:10,  1.06it/s]"
     ]
    },
    {
     "name": "stderr",
     "output_type": "stream",
     "text": [
      "\r",
      "Processing RFQs:  67%|█████████████████████████████████████████▋                    | 675/1005 [10:12<05:07,  1.07it/s]"
     ]
    },
    {
     "name": "stderr",
     "output_type": "stream",
     "text": [
      "\r",
      "Processing RFQs:  67%|█████████████████████████████████████████▋                    | 676/1005 [10:13<04:53,  1.12it/s]"
     ]
    },
    {
     "name": "stderr",
     "output_type": "stream",
     "text": [
      "\r",
      "Processing RFQs:  67%|█████████████████████████████████████████▊                    | 677/1005 [10:14<04:34,  1.20it/s]"
     ]
    },
    {
     "name": "stderr",
     "output_type": "stream",
     "text": [
      "\r",
      "Processing RFQs:  67%|█████████████████████████████████████████▊                    | 678/1005 [10:14<04:18,  1.27it/s]"
     ]
    },
    {
     "name": "stderr",
     "output_type": "stream",
     "text": [
      "\r",
      "Processing RFQs:  68%|█████████████████████████████████████████▉                    | 679/1005 [10:15<04:10,  1.30it/s]"
     ]
    },
    {
     "name": "stderr",
     "output_type": "stream",
     "text": [
      "\r",
      "Processing RFQs:  68%|█████████████████████████████████████████▉                    | 680/1005 [10:16<04:29,  1.20it/s]"
     ]
    },
    {
     "name": "stderr",
     "output_type": "stream",
     "text": [
      "\r",
      "Processing RFQs:  68%|██████████████████████████████████████████                    | 681/1005 [10:17<04:42,  1.15it/s]"
     ]
    },
    {
     "name": "stderr",
     "output_type": "stream",
     "text": [
      "\r",
      "Processing RFQs:  68%|██████████████████████████████████████████                    | 682/1005 [10:18<04:46,  1.13it/s]"
     ]
    },
    {
     "name": "stderr",
     "output_type": "stream",
     "text": [
      "\r",
      "Processing RFQs:  68%|██████████████████████████████████████████▏                   | 683/1005 [10:19<04:48,  1.12it/s]"
     ]
    },
    {
     "name": "stderr",
     "output_type": "stream",
     "text": [
      "\r",
      "Processing RFQs:  68%|██████████████████████████████████████████▏                   | 684/1005 [10:20<04:58,  1.07it/s]"
     ]
    },
    {
     "name": "stderr",
     "output_type": "stream",
     "text": [
      "\r",
      "Processing RFQs:  68%|██████████████████████████████████████████▎                   | 685/1005 [10:21<04:56,  1.08it/s]"
     ]
    },
    {
     "name": "stderr",
     "output_type": "stream",
     "text": [
      "\r",
      "Processing RFQs:  68%|██████████████████████████████████████████▎                   | 686/1005 [10:22<04:59,  1.07it/s]"
     ]
    },
    {
     "name": "stderr",
     "output_type": "stream",
     "text": [
      "\r",
      "Processing RFQs:  68%|██████████████████████████████████████████▍                   | 687/1005 [10:22<04:54,  1.08it/s]"
     ]
    },
    {
     "name": "stderr",
     "output_type": "stream",
     "text": [
      "\r",
      "Processing RFQs:  68%|██████████████████████████████████████████▍                   | 688/1005 [10:23<04:40,  1.13it/s]"
     ]
    },
    {
     "name": "stderr",
     "output_type": "stream",
     "text": [
      "\r",
      "Processing RFQs:  69%|██████████████████████████████████████████▌                   | 689/1005 [10:24<04:21,  1.21it/s]"
     ]
    },
    {
     "name": "stderr",
     "output_type": "stream",
     "text": [
      "\r",
      "Processing RFQs:  69%|██████████████████████████████████████████▌                   | 690/1005 [10:25<04:10,  1.26it/s]"
     ]
    },
    {
     "name": "stderr",
     "output_type": "stream",
     "text": [
      "\r",
      "Processing RFQs:  69%|██████████████████████████████████████████▋                   | 691/1005 [10:26<04:24,  1.19it/s]"
     ]
    },
    {
     "name": "stderr",
     "output_type": "stream",
     "text": [
      "\r",
      "Processing RFQs:  69%|██████████████████████████████████████████▋                   | 692/1005 [10:27<04:41,  1.11it/s]"
     ]
    },
    {
     "name": "stderr",
     "output_type": "stream",
     "text": [
      "\r",
      "Processing RFQs:  69%|██████████████████████████████████████████▊                   | 693/1005 [10:28<04:46,  1.09it/s]"
     ]
    },
    {
     "name": "stderr",
     "output_type": "stream",
     "text": [
      "\r",
      "Processing RFQs:  69%|██████████████████████████████████████████▊                   | 694/1005 [10:29<04:46,  1.09it/s]"
     ]
    },
    {
     "name": "stderr",
     "output_type": "stream",
     "text": [
      "\r",
      "Processing RFQs:  69%|██████████████████████████████████████████▉                   | 695/1005 [10:29<04:45,  1.08it/s]"
     ]
    },
    {
     "name": "stderr",
     "output_type": "stream",
     "text": [
      "\r",
      "Processing RFQs:  69%|██████████████████████████████████████████▉                   | 696/1005 [10:30<04:45,  1.08it/s]"
     ]
    },
    {
     "name": "stderr",
     "output_type": "stream",
     "text": [
      "\r",
      "Processing RFQs:  69%|██████████████████████████████████████████▉                   | 697/1005 [10:31<04:46,  1.07it/s]"
     ]
    },
    {
     "name": "stderr",
     "output_type": "stream",
     "text": [
      "\r",
      "Processing RFQs:  69%|███████████████████████████████████████████                   | 698/1005 [10:32<04:42,  1.09it/s]"
     ]
    },
    {
     "name": "stderr",
     "output_type": "stream",
     "text": [
      "\r",
      "Processing RFQs:  70%|███████████████████████████████████████████                   | 699/1005 [10:33<04:23,  1.16it/s]"
     ]
    },
    {
     "name": "stderr",
     "output_type": "stream",
     "text": [
      "\r",
      "Processing RFQs:  70%|███████████████████████████████████████████▏                  | 700/1005 [10:34<04:08,  1.23it/s]"
     ]
    },
    {
     "name": "stderr",
     "output_type": "stream",
     "text": [
      "\r",
      "Processing RFQs:  70%|███████████████████████████████████████████▏                  | 701/1005 [10:34<03:56,  1.28it/s]"
     ]
    },
    {
     "name": "stderr",
     "output_type": "stream",
     "text": [
      "\r",
      "Processing RFQs:  70%|███████████████████████████████████████████▎                  | 702/1005 [10:35<03:55,  1.28it/s]"
     ]
    },
    {
     "name": "stderr",
     "output_type": "stream",
     "text": [
      "\r",
      "Processing RFQs:  70%|███████████████████████████████████████████▎                  | 703/1005 [10:36<04:11,  1.20it/s]"
     ]
    },
    {
     "name": "stderr",
     "output_type": "stream",
     "text": [
      "\r",
      "Processing RFQs:  70%|███████████████████████████████████████████▍                  | 704/1005 [10:37<04:20,  1.15it/s]"
     ]
    },
    {
     "name": "stderr",
     "output_type": "stream",
     "text": [
      "\r",
      "Processing RFQs:  70%|███████████████████████████████████████████▍                  | 705/1005 [10:38<04:24,  1.13it/s]"
     ]
    },
    {
     "name": "stderr",
     "output_type": "stream",
     "text": [
      "\r",
      "Processing RFQs:  70%|███████████████████████████████████████████▌                  | 706/1005 [10:39<04:29,  1.11it/s]"
     ]
    },
    {
     "name": "stderr",
     "output_type": "stream",
     "text": [
      "\r",
      "Processing RFQs:  70%|███████████████████████████████████████████▌                  | 707/1005 [10:40<04:39,  1.07it/s]"
     ]
    },
    {
     "name": "stderr",
     "output_type": "stream",
     "text": [
      "\r",
      "Processing RFQs:  70%|███████████████████████████████████████████▋                  | 708/1005 [10:41<04:36,  1.07it/s]"
     ]
    },
    {
     "name": "stderr",
     "output_type": "stream",
     "text": [
      "\r",
      "Processing RFQs:  71%|███████████████████████████████████████████▋                  | 709/1005 [10:42<04:36,  1.07it/s]"
     ]
    },
    {
     "name": "stderr",
     "output_type": "stream",
     "text": [
      "\r",
      "Processing RFQs:  71%|███████████████████████████████████████████▊                  | 710/1005 [10:43<04:26,  1.11it/s]"
     ]
    },
    {
     "name": "stderr",
     "output_type": "stream",
     "text": [
      "\r",
      "Processing RFQs:  71%|███████████████████████████████████████████▊                  | 711/1005 [10:44<04:37,  1.06it/s]"
     ]
    },
    {
     "name": "stderr",
     "output_type": "stream",
     "text": [
      "\r",
      "Processing RFQs:  71%|███████████████████████████████████████████▉                  | 712/1005 [10:44<04:18,  1.13it/s]"
     ]
    },
    {
     "name": "stderr",
     "output_type": "stream",
     "text": [
      "\r",
      "Processing RFQs:  71%|███████████████████████████████████████████▉                  | 713/1005 [10:45<04:09,  1.17it/s]"
     ]
    },
    {
     "name": "stderr",
     "output_type": "stream",
     "text": [
      "\r",
      "Processing RFQs:  71%|████████████████████████████████████████████                  | 714/1005 [10:46<04:23,  1.10it/s]"
     ]
    },
    {
     "name": "stderr",
     "output_type": "stream",
     "text": [
      "\r",
      "Processing RFQs:  71%|████████████████████████████████████████████                  | 715/1005 [10:47<04:26,  1.09it/s]"
     ]
    },
    {
     "name": "stderr",
     "output_type": "stream",
     "text": [
      "\r",
      "Processing RFQs:  71%|████████████████████████████████████████████▏                 | 716/1005 [10:48<04:28,  1.08it/s]"
     ]
    },
    {
     "name": "stderr",
     "output_type": "stream",
     "text": [
      "\r",
      "Processing RFQs:  71%|████████████████████████████████████████████▏                 | 717/1005 [10:49<04:31,  1.06it/s]"
     ]
    },
    {
     "name": "stderr",
     "output_type": "stream",
     "text": [
      "\r",
      "Processing RFQs:  71%|████████████████████████████████████████████▎                 | 718/1005 [10:50<04:36,  1.04it/s]"
     ]
    },
    {
     "name": "stderr",
     "output_type": "stream",
     "text": [
      "\r",
      "Processing RFQs:  72%|████████████████████████████████████████████▎                 | 719/1005 [10:51<04:26,  1.07it/s]"
     ]
    },
    {
     "name": "stderr",
     "output_type": "stream",
     "text": [
      "\r",
      "Processing RFQs:  72%|████████████████████████████████████████████▍                 | 720/1005 [10:52<04:22,  1.09it/s]"
     ]
    },
    {
     "name": "stderr",
     "output_type": "stream",
     "text": [
      "\r",
      "Processing RFQs:  72%|████████████████████████████████████████████▍                 | 721/1005 [10:53<04:12,  1.12it/s]"
     ]
    },
    {
     "name": "stderr",
     "output_type": "stream",
     "text": [
      "\r",
      "Processing RFQs:  72%|████████████████████████████████████████████▌                 | 722/1005 [10:53<03:58,  1.19it/s]"
     ]
    },
    {
     "name": "stderr",
     "output_type": "stream",
     "text": [
      "\r",
      "Processing RFQs:  72%|████████████████████████████████████████████▌                 | 723/1005 [10:54<03:45,  1.25it/s]"
     ]
    },
    {
     "name": "stderr",
     "output_type": "stream",
     "text": [
      "\r",
      "Processing RFQs:  72%|████████████████████████████████████████████▋                 | 724/1005 [10:55<03:37,  1.29it/s]"
     ]
    },
    {
     "name": "stderr",
     "output_type": "stream",
     "text": [
      "\r",
      "Processing RFQs:  72%|████████████████████████████████████████████▋                 | 725/1005 [10:56<03:54,  1.19it/s]"
     ]
    },
    {
     "name": "stderr",
     "output_type": "stream",
     "text": [
      "\r",
      "Processing RFQs:  72%|████████████████████████████████████████████▊                 | 726/1005 [10:57<04:01,  1.16it/s]"
     ]
    },
    {
     "name": "stderr",
     "output_type": "stream",
     "text": [
      "\r",
      "Processing RFQs:  72%|████████████████████████████████████████████▊                 | 727/1005 [10:58<04:07,  1.13it/s]"
     ]
    },
    {
     "name": "stderr",
     "output_type": "stream",
     "text": [
      "\r",
      "Processing RFQs:  72%|████████████████████████████████████████████▉                 | 728/1005 [10:59<04:07,  1.12it/s]"
     ]
    },
    {
     "name": "stderr",
     "output_type": "stream",
     "text": [
      "\r",
      "Processing RFQs:  73%|████████████████████████████████████████████▉                 | 729/1005 [11:00<04:06,  1.12it/s]"
     ]
    },
    {
     "name": "stderr",
     "output_type": "stream",
     "text": [
      "\r",
      "Processing RFQs:  73%|█████████████████████████████████████████████                 | 730/1005 [11:00<04:06,  1.12it/s]"
     ]
    },
    {
     "name": "stderr",
     "output_type": "stream",
     "text": [
      "\r",
      "Processing RFQs:  73%|█████████████████████████████████████████████                 | 731/1005 [11:01<04:09,  1.10it/s]"
     ]
    },
    {
     "name": "stderr",
     "output_type": "stream",
     "text": [
      "\r",
      "Processing RFQs:  73%|█████████████████████████████████████████████▏                | 732/1005 [11:02<04:11,  1.09it/s]"
     ]
    },
    {
     "name": "stderr",
     "output_type": "stream",
     "text": [
      "\r",
      "Processing RFQs:  73%|█████████████████████████████████████████████▏                | 733/1005 [11:03<03:53,  1.16it/s]"
     ]
    },
    {
     "name": "stderr",
     "output_type": "stream",
     "text": [
      "\r",
      "Processing RFQs:  73%|█████████████████████████████████████████████▎                | 734/1005 [11:04<03:41,  1.22it/s]"
     ]
    },
    {
     "name": "stderr",
     "output_type": "stream",
     "text": [
      "\r",
      "Processing RFQs:  73%|█████████████████████████████████████████████▎                | 735/1005 [11:04<03:29,  1.29it/s]"
     ]
    },
    {
     "name": "stderr",
     "output_type": "stream",
     "text": [
      "\r",
      "Processing RFQs:  73%|█████████████████████████████████████████████▍                | 736/1005 [11:05<03:27,  1.29it/s]"
     ]
    },
    {
     "name": "stderr",
     "output_type": "stream",
     "text": [
      "\r",
      "Processing RFQs:  73%|█████████████████████████████████████████████▍                | 737/1005 [11:06<03:45,  1.19it/s]"
     ]
    },
    {
     "name": "stderr",
     "output_type": "stream",
     "text": [
      "\r",
      "Processing RFQs:  73%|█████████████████████████████████████████████▌                | 738/1005 [11:07<03:50,  1.16it/s]"
     ]
    },
    {
     "name": "stderr",
     "output_type": "stream",
     "text": [
      "\r",
      "Processing RFQs:  74%|█████████████████████████████████████████████▌                | 739/1005 [11:08<03:56,  1.13it/s]"
     ]
    },
    {
     "name": "stderr",
     "output_type": "stream",
     "text": [
      "\r",
      "Processing RFQs:  74%|█████████████████████████████████████████████▋                | 740/1005 [11:09<03:57,  1.11it/s]"
     ]
    },
    {
     "name": "stderr",
     "output_type": "stream",
     "text": [
      "\r",
      "Processing RFQs:  74%|█████████████████████████████████████████████▋                | 741/1005 [11:10<04:02,  1.09it/s]"
     ]
    },
    {
     "name": "stderr",
     "output_type": "stream",
     "text": [
      "\r",
      "Processing RFQs:  74%|█████████████████████████████████████████████▊                | 742/1005 [11:11<04:06,  1.07it/s]"
     ]
    },
    {
     "name": "stderr",
     "output_type": "stream",
     "text": [
      "\r",
      "Processing RFQs:  74%|█████████████████████████████████████████████▊                | 743/1005 [11:12<04:07,  1.06it/s]"
     ]
    },
    {
     "name": "stderr",
     "output_type": "stream",
     "text": [
      "\r",
      "Processing RFQs:  74%|█████████████████████████████████████████████▉                | 744/1005 [11:13<03:57,  1.10it/s]"
     ]
    },
    {
     "name": "stderr",
     "output_type": "stream",
     "text": [
      "\r",
      "Processing RFQs:  74%|█████████████████████████████████████████████▉                | 745/1005 [11:13<03:41,  1.17it/s]"
     ]
    },
    {
     "name": "stderr",
     "output_type": "stream",
     "text": [
      "\r",
      "Processing RFQs:  74%|██████████████████████████████████████████████                | 746/1005 [11:14<03:28,  1.24it/s]"
     ]
    },
    {
     "name": "stderr",
     "output_type": "stream",
     "text": [
      "\r",
      "Processing RFQs:  74%|██████████████████████████████████████████████                | 747/1005 [11:15<03:19,  1.29it/s]"
     ]
    },
    {
     "name": "stderr",
     "output_type": "stream",
     "text": [
      "\r",
      "Processing RFQs:  74%|██████████████████████████████████████████████▏               | 748/1005 [11:16<03:32,  1.21it/s]"
     ]
    },
    {
     "name": "stderr",
     "output_type": "stream",
     "text": [
      "\r",
      "Processing RFQs:  75%|██████████████████████████████████████████████▏               | 749/1005 [11:17<03:37,  1.18it/s]"
     ]
    },
    {
     "name": "stderr",
     "output_type": "stream",
     "text": [
      "\r",
      "Processing RFQs:  75%|██████████████████████████████████████████████▎               | 750/1005 [11:18<03:46,  1.13it/s]"
     ]
    },
    {
     "name": "stderr",
     "output_type": "stream",
     "text": [
      "\r",
      "Processing RFQs:  75%|██████████████████████████████████████████████▎               | 751/1005 [11:19<03:49,  1.11it/s]"
     ]
    },
    {
     "name": "stderr",
     "output_type": "stream",
     "text": [
      "\r",
      "Processing RFQs:  75%|██████████████████████████████████████████████▍               | 752/1005 [11:20<03:54,  1.08it/s]"
     ]
    },
    {
     "name": "stderr",
     "output_type": "stream",
     "text": [
      "\r",
      "Processing RFQs:  75%|██████████████████████████████████████████████▍               | 753/1005 [11:21<03:58,  1.06it/s]"
     ]
    },
    {
     "name": "stderr",
     "output_type": "stream",
     "text": [
      "\r",
      "Processing RFQs:  75%|██████████████████████████████████████████████▌               | 754/1005 [11:22<03:59,  1.05it/s]"
     ]
    },
    {
     "name": "stderr",
     "output_type": "stream",
     "text": [
      "\r",
      "Processing RFQs:  75%|██████████████████████████████████████████████▌               | 755/1005 [11:22<03:56,  1.06it/s]"
     ]
    },
    {
     "name": "stderr",
     "output_type": "stream",
     "text": [
      "\r",
      "Processing RFQs:  75%|██████████████████████████████████████████████▋               | 756/1005 [11:23<03:37,  1.15it/s]"
     ]
    },
    {
     "name": "stderr",
     "output_type": "stream",
     "text": [
      "\r",
      "Processing RFQs:  75%|██████████████████████████████████████████████▋               | 757/1005 [11:24<03:26,  1.20it/s]"
     ]
    },
    {
     "name": "stderr",
     "output_type": "stream",
     "text": [
      "\r",
      "Processing RFQs:  75%|██████████████████████████████████████████████▊               | 758/1005 [11:25<03:20,  1.23it/s]"
     ]
    },
    {
     "name": "stderr",
     "output_type": "stream",
     "text": [
      "\r",
      "Processing RFQs:  76%|██████████████████████████████████████████████▊               | 759/1005 [11:25<03:22,  1.22it/s]"
     ]
    },
    {
     "name": "stderr",
     "output_type": "stream",
     "text": [
      "\r",
      "Processing RFQs:  76%|██████████████████████████████████████████████▉               | 760/1005 [11:26<03:33,  1.15it/s]"
     ]
    },
    {
     "name": "stderr",
     "output_type": "stream",
     "text": [
      "\r",
      "Processing RFQs:  76%|██████████████████████████████████████████████▉               | 761/1005 [11:27<03:36,  1.12it/s]"
     ]
    },
    {
     "name": "stderr",
     "output_type": "stream",
     "text": [
      "\r",
      "Processing RFQs:  76%|███████████████████████████████████████████████               | 762/1005 [11:28<03:41,  1.10it/s]"
     ]
    },
    {
     "name": "stderr",
     "output_type": "stream",
     "text": [
      "\r",
      "Processing RFQs:  76%|███████████████████████████████████████████████               | 763/1005 [11:29<03:43,  1.08it/s]"
     ]
    },
    {
     "name": "stderr",
     "output_type": "stream",
     "text": [
      "\r",
      "Processing RFQs:  76%|███████████████████████████████████████████████▏              | 764/1005 [11:30<03:47,  1.06it/s]"
     ]
    },
    {
     "name": "stderr",
     "output_type": "stream",
     "text": [
      "\r",
      "Processing RFQs:  76%|███████████████████████████████████████████████▏              | 765/1005 [11:31<03:49,  1.05it/s]"
     ]
    },
    {
     "name": "stderr",
     "output_type": "stream",
     "text": [
      "\r",
      "Processing RFQs:  76%|███████████████████████████████████████████████▎              | 766/1005 [11:32<03:48,  1.05it/s]"
     ]
    },
    {
     "name": "stderr",
     "output_type": "stream",
     "text": [
      "\r",
      "Processing RFQs:  76%|███████████████████████████████████████████████▎              | 767/1005 [11:33<03:30,  1.13it/s]"
     ]
    },
    {
     "name": "stderr",
     "output_type": "stream",
     "text": [
      "\r",
      "Processing RFQs:  76%|███████████████████████████████████████████████▍              | 768/1005 [11:34<03:17,  1.20it/s]"
     ]
    },
    {
     "name": "stderr",
     "output_type": "stream",
     "text": [
      "\r",
      "Processing RFQs:  77%|███████████████████████████████████████████████▍              | 769/1005 [11:34<03:07,  1.26it/s]"
     ]
    },
    {
     "name": "stderr",
     "output_type": "stream",
     "text": [
      "\r",
      "Processing RFQs:  77%|███████████████████████████████████████████████▌              | 770/1005 [11:35<03:03,  1.28it/s]"
     ]
    },
    {
     "name": "stderr",
     "output_type": "stream",
     "text": [
      "\r",
      "Processing RFQs:  77%|███████████████████████████████████████████████▌              | 771/1005 [11:36<03:17,  1.19it/s]"
     ]
    },
    {
     "name": "stderr",
     "output_type": "stream",
     "text": [
      "\r",
      "Processing RFQs:  77%|███████████████████████████████████████████████▋              | 772/1005 [11:37<03:20,  1.16it/s]"
     ]
    },
    {
     "name": "stderr",
     "output_type": "stream",
     "text": [
      "\r",
      "Processing RFQs:  77%|███████████████████████████████████████████████▋              | 773/1005 [11:38<03:21,  1.15it/s]"
     ]
    },
    {
     "name": "stderr",
     "output_type": "stream",
     "text": [
      "\r",
      "Processing RFQs:  77%|███████████████████████████████████████████████▋              | 774/1005 [11:39<03:21,  1.15it/s]"
     ]
    },
    {
     "name": "stderr",
     "output_type": "stream",
     "text": [
      "\r",
      "Processing RFQs:  77%|███████████████████████████████████████████████▊              | 775/1005 [11:40<03:27,  1.11it/s]"
     ]
    },
    {
     "name": "stderr",
     "output_type": "stream",
     "text": [
      "\r",
      "Processing RFQs:  77%|███████████████████████████████████████████████▊              | 776/1005 [11:41<03:31,  1.08it/s]"
     ]
    },
    {
     "name": "stderr",
     "output_type": "stream",
     "text": [
      "\r",
      "Processing RFQs:  77%|███████████████████████████████████████████████▉              | 777/1005 [11:42<03:32,  1.07it/s]"
     ]
    },
    {
     "name": "stderr",
     "output_type": "stream",
     "text": [
      "\r",
      "Processing RFQs:  77%|███████████████████████████████████████████████▉              | 778/1005 [11:43<03:27,  1.09it/s]"
     ]
    },
    {
     "name": "stderr",
     "output_type": "stream",
     "text": [
      "\r",
      "Processing RFQs:  78%|████████████████████████████████████████████████              | 779/1005 [11:43<03:11,  1.18it/s]"
     ]
    },
    {
     "name": "stderr",
     "output_type": "stream",
     "text": [
      "\r",
      "Processing RFQs:  78%|████████████████████████████████████████████████              | 780/1005 [11:44<03:02,  1.24it/s]"
     ]
    },
    {
     "name": "stderr",
     "output_type": "stream",
     "text": [
      "\r",
      "Processing RFQs:  78%|████████████████████████████████████████████████▏             | 781/1005 [11:45<02:51,  1.31it/s]"
     ]
    },
    {
     "name": "stderr",
     "output_type": "stream",
     "text": [
      "\r",
      "Processing RFQs:  78%|████████████████████████████████████████████████▏             | 782/1005 [11:45<02:52,  1.29it/s]"
     ]
    },
    {
     "name": "stderr",
     "output_type": "stream",
     "text": [
      "\r",
      "Processing RFQs:  78%|████████████████████████████████████████████████▎             | 783/1005 [11:46<03:02,  1.22it/s]"
     ]
    },
    {
     "name": "stderr",
     "output_type": "stream",
     "text": [
      "\r",
      "Processing RFQs:  78%|████████████████████████████████████████████████▎             | 784/1005 [11:47<03:06,  1.19it/s]"
     ]
    },
    {
     "name": "stderr",
     "output_type": "stream",
     "text": [
      "\r",
      "Processing RFQs:  78%|████████████████████████████████████████████████▍             | 785/1005 [11:48<03:13,  1.14it/s]"
     ]
    },
    {
     "name": "stderr",
     "output_type": "stream",
     "text": [
      "\r",
      "Processing RFQs:  78%|████████████████████████████████████████████████▍             | 786/1005 [11:49<03:14,  1.12it/s]"
     ]
    },
    {
     "name": "stderr",
     "output_type": "stream",
     "text": [
      "\r",
      "Processing RFQs:  78%|████████████████████████████████████████████████▌             | 787/1005 [11:50<03:20,  1.09it/s]"
     ]
    },
    {
     "name": "stderr",
     "output_type": "stream",
     "text": [
      "\r",
      "Processing RFQs:  78%|████████████████████████████████████████████████▌             | 788/1005 [11:51<03:21,  1.07it/s]"
     ]
    },
    {
     "name": "stderr",
     "output_type": "stream",
     "text": [
      "\r",
      "Processing RFQs:  79%|████████████████████████████████████████████████▋             | 789/1005 [11:52<03:23,  1.06it/s]"
     ]
    },
    {
     "name": "stderr",
     "output_type": "stream",
     "text": [
      "\r",
      "Processing RFQs:  79%|████████████████████████████████████████████████▋             | 790/1005 [11:53<03:12,  1.12it/s]"
     ]
    },
    {
     "name": "stderr",
     "output_type": "stream",
     "text": [
      "\r",
      "Processing RFQs:  79%|████████████████████████████████████████████████▊             | 791/1005 [11:54<02:58,  1.20it/s]"
     ]
    },
    {
     "name": "stderr",
     "output_type": "stream",
     "text": [
      "\r",
      "Processing RFQs:  79%|████████████████████████████████████████████████▊             | 792/1005 [11:54<02:50,  1.25it/s]"
     ]
    },
    {
     "name": "stderr",
     "output_type": "stream",
     "text": [
      "\r",
      "Processing RFQs:  79%|████████████████████████████████████████████████▉             | 793/1005 [11:55<02:43,  1.30it/s]"
     ]
    },
    {
     "name": "stderr",
     "output_type": "stream",
     "text": [
      "\r",
      "Processing RFQs:  79%|████████████████████████████████████████████████▉             | 794/1005 [11:56<02:52,  1.23it/s]"
     ]
    },
    {
     "name": "stderr",
     "output_type": "stream",
     "text": [
      "\r",
      "Processing RFQs:  79%|█████████████████████████████████████████████████             | 795/1005 [11:57<03:02,  1.15it/s]"
     ]
    },
    {
     "name": "stderr",
     "output_type": "stream",
     "text": [
      "\r",
      "Processing RFQs:  79%|█████████████████████████████████████████████████             | 796/1005 [11:58<03:04,  1.13it/s]"
     ]
    },
    {
     "name": "stderr",
     "output_type": "stream",
     "text": [
      "\r",
      "Processing RFQs:  79%|█████████████████████████████████████████████████▏            | 797/1005 [11:59<03:06,  1.11it/s]"
     ]
    },
    {
     "name": "stderr",
     "output_type": "stream",
     "text": [
      "\r",
      "Processing RFQs:  79%|█████████████████████████████████████████████████▏            | 798/1005 [12:00<03:07,  1.10it/s]"
     ]
    },
    {
     "name": "stderr",
     "output_type": "stream",
     "text": [
      "\r",
      "Processing RFQs:  80%|█████████████████████████████████████████████████▎            | 799/1005 [12:01<03:09,  1.09it/s]"
     ]
    },
    {
     "name": "stderr",
     "output_type": "stream",
     "text": [
      "\r",
      "Processing RFQs:  80%|█████████████████████████████████████████████████▎            | 800/1005 [12:02<03:12,  1.07it/s]"
     ]
    },
    {
     "name": "stderr",
     "output_type": "stream",
     "text": [
      "\r",
      "Processing RFQs:  80%|█████████████████████████████████████████████████▍            | 801/1005 [12:03<03:10,  1.07it/s]"
     ]
    },
    {
     "name": "stderr",
     "output_type": "stream",
     "text": [
      "\r",
      "Processing RFQs:  80%|█████████████████████████████████████████████████▍            | 802/1005 [12:03<02:55,  1.16it/s]"
     ]
    },
    {
     "name": "stderr",
     "output_type": "stream",
     "text": [
      "\r",
      "Processing RFQs:  80%|█████████████████████████████████████████████████▌            | 803/1005 [12:04<02:45,  1.22it/s]"
     ]
    },
    {
     "name": "stderr",
     "output_type": "stream",
     "text": [
      "\r",
      "Processing RFQs:  80%|█████████████████████████████████████████████████▌            | 804/1005 [12:05<02:38,  1.27it/s]"
     ]
    },
    {
     "name": "stderr",
     "output_type": "stream",
     "text": [
      "\r",
      "Processing RFQs:  80%|█████████████████████████████████████████████████▋            | 805/1005 [12:05<02:40,  1.25it/s]"
     ]
    },
    {
     "name": "stderr",
     "output_type": "stream",
     "text": [
      "\r",
      "Processing RFQs:  80%|█████████████████████████████████████████████████▋            | 806/1005 [12:06<02:51,  1.16it/s]"
     ]
    },
    {
     "name": "stderr",
     "output_type": "stream",
     "text": [
      "\r",
      "Processing RFQs:  80%|█████████████████████████████████████████████████▊            | 807/1005 [12:07<02:53,  1.14it/s]"
     ]
    },
    {
     "name": "stderr",
     "output_type": "stream",
     "text": [
      "\r",
      "Processing RFQs:  80%|█████████████████████████████████████████████████▊            | 808/1005 [12:08<02:54,  1.13it/s]"
     ]
    },
    {
     "name": "stderr",
     "output_type": "stream",
     "text": [
      "\r",
      "Processing RFQs:  80%|█████████████████████████████████████████████████▉            | 809/1005 [12:09<02:54,  1.12it/s]"
     ]
    },
    {
     "name": "stderr",
     "output_type": "stream",
     "text": [
      "\r",
      "Processing RFQs:  81%|█████████████████████████████████████████████████▉            | 810/1005 [12:10<02:57,  1.10it/s]"
     ]
    },
    {
     "name": "stderr",
     "output_type": "stream",
     "text": [
      "\r",
      "Processing RFQs:  81%|██████████████████████████████████████████████████            | 811/1005 [12:11<03:00,  1.07it/s]"
     ]
    },
    {
     "name": "stderr",
     "output_type": "stream",
     "text": [
      "\r",
      "Processing RFQs:  81%|██████████████████████████████████████████████████            | 812/1005 [12:12<03:01,  1.06it/s]"
     ]
    },
    {
     "name": "stderr",
     "output_type": "stream",
     "text": [
      "\r",
      "Processing RFQs:  81%|██████████████████████████████████████████████████▏           | 813/1005 [12:13<02:51,  1.12it/s]"
     ]
    },
    {
     "name": "stderr",
     "output_type": "stream",
     "text": [
      "\r",
      "Processing RFQs:  81%|██████████████████████████████████████████████████▏           | 814/1005 [12:14<02:39,  1.20it/s]"
     ]
    },
    {
     "name": "stderr",
     "output_type": "stream",
     "text": [
      "\r",
      "Processing RFQs:  81%|██████████████████████████████████████████████████▎           | 815/1005 [12:14<02:32,  1.25it/s]"
     ]
    },
    {
     "name": "stderr",
     "output_type": "stream",
     "text": [
      "\r",
      "Processing RFQs:  81%|██████████████████████████████████████████████████▎           | 816/1005 [12:15<02:27,  1.28it/s]"
     ]
    },
    {
     "name": "stderr",
     "output_type": "stream",
     "text": [
      "\r",
      "Processing RFQs:  81%|██████████████████████████████████████████████████▍           | 817/1005 [12:16<02:34,  1.22it/s]"
     ]
    },
    {
     "name": "stderr",
     "output_type": "stream",
     "text": [
      "\r",
      "Processing RFQs:  81%|██████████████████████████████████████████████████▍           | 818/1005 [12:17<02:41,  1.16it/s]"
     ]
    },
    {
     "name": "stderr",
     "output_type": "stream",
     "text": [
      "\r",
      "Processing RFQs:  81%|██████████████████████████████████████████████████▌           | 819/1005 [12:18<02:40,  1.16it/s]"
     ]
    },
    {
     "name": "stderr",
     "output_type": "stream",
     "text": [
      "\r",
      "Processing RFQs:  82%|██████████████████████████████████████████████████▌           | 820/1005 [12:19<02:41,  1.15it/s]"
     ]
    },
    {
     "name": "stderr",
     "output_type": "stream",
     "text": [
      "\r",
      "Processing RFQs:  82%|██████████████████████████████████████████████████▋           | 821/1005 [12:20<02:44,  1.12it/s]"
     ]
    },
    {
     "name": "stderr",
     "output_type": "stream",
     "text": [
      "\r",
      "Processing RFQs:  82%|██████████████████████████████████████████████████▋           | 822/1005 [12:21<02:46,  1.10it/s]"
     ]
    },
    {
     "name": "stderr",
     "output_type": "stream",
     "text": [
      "\r",
      "Processing RFQs:  82%|██████████████████████████████████████████████████▊           | 823/1005 [12:22<03:02,  1.00s/it]"
     ]
    },
    {
     "name": "stderr",
     "output_type": "stream",
     "text": [
      "\r",
      "Processing RFQs:  82%|██████████████████████████████████████████████████▊           | 824/1005 [12:23<02:57,  1.02it/s]"
     ]
    },
    {
     "name": "stderr",
     "output_type": "stream",
     "text": [
      "\r",
      "Processing RFQs:  82%|██████████████████████████████████████████████████▉           | 825/1005 [12:23<02:41,  1.12it/s]"
     ]
    },
    {
     "name": "stderr",
     "output_type": "stream",
     "text": [
      "\r",
      "Processing RFQs:  82%|██████████████████████████████████████████████████▉           | 826/1005 [12:24<02:30,  1.19it/s]"
     ]
    },
    {
     "name": "stderr",
     "output_type": "stream",
     "text": [
      "\r",
      "Processing RFQs:  82%|███████████████████████████████████████████████████           | 827/1005 [12:25<02:22,  1.25it/s]"
     ]
    },
    {
     "name": "stderr",
     "output_type": "stream",
     "text": [
      "\r",
      "Processing RFQs:  82%|███████████████████████████████████████████████████           | 828/1005 [12:26<02:26,  1.21it/s]"
     ]
    },
    {
     "name": "stderr",
     "output_type": "stream",
     "text": [
      "\r",
      "Processing RFQs:  82%|███████████████████████████████████████████████████▏          | 829/1005 [12:27<02:33,  1.14it/s]"
     ]
    },
    {
     "name": "stderr",
     "output_type": "stream",
     "text": [
      "\r",
      "Processing RFQs:  83%|███████████████████████████████████████████████████▏          | 830/1005 [12:28<02:36,  1.12it/s]"
     ]
    },
    {
     "name": "stderr",
     "output_type": "stream",
     "text": [
      "\r",
      "Processing RFQs:  83%|███████████████████████████████████████████████████▎          | 831/1005 [12:29<02:39,  1.09it/s]"
     ]
    },
    {
     "name": "stderr",
     "output_type": "stream",
     "text": [
      "\r",
      "Processing RFQs:  83%|███████████████████████████████████████████████████▎          | 832/1005 [12:30<02:39,  1.08it/s]"
     ]
    },
    {
     "name": "stderr",
     "output_type": "stream",
     "text": [
      "\r",
      "Processing RFQs:  83%|███████████████████████████████████████████████████▍          | 833/1005 [12:30<02:40,  1.07it/s]"
     ]
    },
    {
     "name": "stderr",
     "output_type": "stream",
     "text": [
      "\r",
      "Processing RFQs:  83%|███████████████████████████████████████████████████▍          | 834/1005 [12:31<02:42,  1.05it/s]"
     ]
    },
    {
     "name": "stderr",
     "output_type": "stream",
     "text": [
      "\r",
      "Processing RFQs:  83%|███████████████████████████████████████████████████▌          | 835/1005 [12:32<02:40,  1.06it/s]"
     ]
    },
    {
     "name": "stderr",
     "output_type": "stream",
     "text": [
      "\r",
      "Processing RFQs:  83%|███████████████████████████████████████████████████▌          | 836/1005 [12:33<02:27,  1.14it/s]"
     ]
    },
    {
     "name": "stderr",
     "output_type": "stream",
     "text": [
      "\r",
      "Processing RFQs:  83%|███████████████████████████████████████████████████▋          | 837/1005 [12:34<02:16,  1.23it/s]"
     ]
    },
    {
     "name": "stderr",
     "output_type": "stream",
     "text": [
      "\r",
      "Processing RFQs:  83%|███████████████████████████████████████████████████▋          | 838/1005 [12:35<02:11,  1.27it/s]"
     ]
    },
    {
     "name": "stderr",
     "output_type": "stream",
     "text": [
      "\r",
      "Processing RFQs:  83%|███████████████████████████████████████████████████▊          | 839/1005 [12:35<02:11,  1.26it/s]"
     ]
    },
    {
     "name": "stderr",
     "output_type": "stream",
     "text": [
      "\r",
      "Processing RFQs:  84%|███████████████████████████████████████████████████▊          | 840/1005 [12:36<02:19,  1.19it/s]"
     ]
    },
    {
     "name": "stderr",
     "output_type": "stream",
     "text": [
      "\r",
      "Processing RFQs:  84%|███████████████████████████████████████████████████▉          | 841/1005 [12:37<02:25,  1.13it/s]"
     ]
    },
    {
     "name": "stderr",
     "output_type": "stream",
     "text": [
      "\r",
      "Processing RFQs:  84%|███████████████████████████████████████████████████▉          | 842/1005 [12:38<02:22,  1.15it/s]"
     ]
    },
    {
     "name": "stderr",
     "output_type": "stream",
     "text": [
      "\r",
      "Processing RFQs:  84%|████████████████████████████████████████████████████          | 843/1005 [12:39<02:39,  1.02it/s]"
     ]
    },
    {
     "name": "stderr",
     "output_type": "stream",
     "text": [
      "\r",
      "Processing RFQs:  84%|████████████████████████████████████████████████████          | 844/1005 [12:40<02:33,  1.05it/s]"
     ]
    },
    {
     "name": "stderr",
     "output_type": "stream",
     "text": [
      "\r",
      "Processing RFQs:  84%|████████████████████████████████████████████████████▏         | 845/1005 [12:41<02:28,  1.08it/s]"
     ]
    },
    {
     "name": "stderr",
     "output_type": "stream",
     "text": [
      "\r",
      "Processing RFQs:  84%|████████████████████████████████████████████████████▏         | 846/1005 [12:42<02:27,  1.08it/s]"
     ]
    },
    {
     "name": "stderr",
     "output_type": "stream",
     "text": [
      "\r",
      "Processing RFQs:  84%|████████████████████████████████████████████████████▎         | 847/1005 [12:43<02:19,  1.14it/s]"
     ]
    },
    {
     "name": "stderr",
     "output_type": "stream",
     "text": [
      "\r",
      "Processing RFQs:  84%|████████████████████████████████████████████████████▎         | 848/1005 [12:43<02:06,  1.24it/s]"
     ]
    },
    {
     "name": "stderr",
     "output_type": "stream",
     "text": [
      "\r",
      "Processing RFQs:  84%|████████████████████████████████████████████████████▍         | 849/1005 [12:44<01:58,  1.32it/s]"
     ]
    },
    {
     "name": "stderr",
     "output_type": "stream",
     "text": [
      "\r",
      "Processing RFQs:  85%|████████████████████████████████████████████████████▍         | 850/1005 [12:45<01:53,  1.37it/s]"
     ]
    },
    {
     "name": "stderr",
     "output_type": "stream",
     "text": [
      "\r",
      "Processing RFQs:  85%|████████████████████████████████████████████████████▍         | 851/1005 [12:46<01:55,  1.33it/s]"
     ]
    },
    {
     "name": "stderr",
     "output_type": "stream",
     "text": [
      "\r",
      "Processing RFQs:  85%|████████████████████████████████████████████████████▌         | 852/1005 [12:46<02:00,  1.27it/s]"
     ]
    },
    {
     "name": "stderr",
     "output_type": "stream",
     "text": [
      "\r",
      "Processing RFQs:  85%|████████████████████████████████████████████████████▌         | 853/1005 [12:47<02:07,  1.20it/s]"
     ]
    },
    {
     "name": "stderr",
     "output_type": "stream",
     "text": [
      "\r",
      "Processing RFQs:  85%|████████████████████████████████████████████████████▋         | 854/1005 [12:48<02:09,  1.17it/s]"
     ]
    },
    {
     "name": "stderr",
     "output_type": "stream",
     "text": [
      "\r",
      "Processing RFQs:  85%|████████████████████████████████████████████████████▋         | 855/1005 [12:49<02:12,  1.13it/s]"
     ]
    },
    {
     "name": "stderr",
     "output_type": "stream",
     "text": [
      "\r",
      "Processing RFQs:  85%|████████████████████████████████████████████████████▊         | 856/1005 [12:50<02:14,  1.11it/s]"
     ]
    },
    {
     "name": "stderr",
     "output_type": "stream",
     "text": [
      "\r",
      "Processing RFQs:  85%|████████████████████████████████████████████████████▊         | 857/1005 [12:51<02:14,  1.10it/s]"
     ]
    },
    {
     "name": "stderr",
     "output_type": "stream",
     "text": [
      "\r",
      "Processing RFQs:  85%|████████████████████████████████████████████████████▉         | 858/1005 [12:52<02:17,  1.07it/s]"
     ]
    },
    {
     "name": "stderr",
     "output_type": "stream",
     "text": [
      "\r",
      "Processing RFQs:  85%|████████████████████████████████████████████████████▉         | 859/1005 [12:53<02:12,  1.11it/s]"
     ]
    },
    {
     "name": "stderr",
     "output_type": "stream",
     "text": [
      "\r",
      "Processing RFQs:  86%|█████████████████████████████████████████████████████         | 860/1005 [12:54<02:03,  1.18it/s]"
     ]
    },
    {
     "name": "stderr",
     "output_type": "stream",
     "text": [
      "\r",
      "Processing RFQs:  86%|█████████████████████████████████████████████████████         | 861/1005 [12:54<01:58,  1.22it/s]"
     ]
    },
    {
     "name": "stderr",
     "output_type": "stream",
     "text": [
      "\r",
      "Processing RFQs:  86%|█████████████████████████████████████████████████████▏        | 862/1005 [12:55<01:55,  1.23it/s]"
     ]
    },
    {
     "name": "stderr",
     "output_type": "stream",
     "text": [
      "\r",
      "Processing RFQs:  86%|█████████████████████████████████████████████████████▏        | 863/1005 [12:56<01:58,  1.20it/s]"
     ]
    },
    {
     "name": "stderr",
     "output_type": "stream",
     "text": [
      "\r",
      "Processing RFQs:  86%|█████████████████████████████████████████████████████▎        | 864/1005 [12:57<02:03,  1.14it/s]"
     ]
    },
    {
     "name": "stderr",
     "output_type": "stream",
     "text": [
      "\r",
      "Processing RFQs:  86%|█████████████████████████████████████████████████████▎        | 865/1005 [12:58<02:04,  1.12it/s]"
     ]
    },
    {
     "name": "stderr",
     "output_type": "stream",
     "text": [
      "\r",
      "Processing RFQs:  86%|█████████████████████████████████████████████████████▍        | 866/1005 [12:59<02:05,  1.11it/s]"
     ]
    },
    {
     "name": "stderr",
     "output_type": "stream",
     "text": [
      "\r",
      "Processing RFQs:  86%|█████████████████████████████████████████████████████▍        | 867/1005 [13:00<02:06,  1.09it/s]"
     ]
    },
    {
     "name": "stderr",
     "output_type": "stream",
     "text": [
      "\r",
      "Processing RFQs:  86%|█████████████████████████████████████████████████████▌        | 868/1005 [13:01<02:07,  1.08it/s]"
     ]
    },
    {
     "name": "stderr",
     "output_type": "stream",
     "text": [
      "\r",
      "Processing RFQs:  86%|█████████████████████████████████████████████████████▌        | 869/1005 [13:02<02:10,  1.05it/s]"
     ]
    },
    {
     "name": "stderr",
     "output_type": "stream",
     "text": [
      "\r",
      "Processing RFQs:  87%|█████████████████████████████████████████████████████▋        | 870/1005 [13:03<02:05,  1.08it/s]"
     ]
    },
    {
     "name": "stderr",
     "output_type": "stream",
     "text": [
      "\r",
      "Processing RFQs:  87%|█████████████████████████████████████████████████████▋        | 871/1005 [13:03<01:55,  1.16it/s]"
     ]
    },
    {
     "name": "stderr",
     "output_type": "stream",
     "text": [
      "\r",
      "Processing RFQs:  87%|█████████████████████████████████████████████████████▊        | 872/1005 [13:04<01:50,  1.20it/s]"
     ]
    },
    {
     "name": "stderr",
     "output_type": "stream",
     "text": [
      "\r",
      "Processing RFQs:  87%|█████████████████████████████████████████████████████▊        | 873/1005 [13:06<02:28,  1.12s/it]"
     ]
    },
    {
     "name": "stderr",
     "output_type": "stream",
     "text": [
      "\r",
      "Processing RFQs:  87%|█████████████████████████████████████████████████████▉        | 874/1005 [13:08<02:44,  1.26s/it]"
     ]
    },
    {
     "name": "stderr",
     "output_type": "stream",
     "text": [
      "\r",
      "Processing RFQs:  87%|█████████████████████████████████████████████████████▉        | 875/1005 [13:09<02:39,  1.22s/it]"
     ]
    },
    {
     "name": "stderr",
     "output_type": "stream",
     "text": [
      "\r",
      "Processing RFQs:  87%|██████████████████████████████████████████████████████        | 876/1005 [13:10<02:27,  1.14s/it]"
     ]
    },
    {
     "name": "stderr",
     "output_type": "stream",
     "text": [
      "\r",
      "Processing RFQs:  87%|██████████████████████████████████████████████████████        | 877/1005 [13:11<02:17,  1.08s/it]"
     ]
    },
    {
     "name": "stderr",
     "output_type": "stream",
     "text": [
      "\r",
      "Processing RFQs:  87%|██████████████████████████████████████████████████████▏       | 878/1005 [13:12<02:14,  1.06s/it]"
     ]
    },
    {
     "name": "stderr",
     "output_type": "stream",
     "text": [
      "\r",
      "Processing RFQs:  87%|██████████████████████████████████████████████████████▏       | 879/1005 [13:12<02:07,  1.02s/it]"
     ]
    },
    {
     "name": "stderr",
     "output_type": "stream",
     "text": [
      "\r",
      "Processing RFQs:  88%|██████████████████████████████████████████████████████▎       | 880/1005 [13:13<01:56,  1.07it/s]"
     ]
    },
    {
     "name": "stderr",
     "output_type": "stream",
     "text": [
      "\r",
      "Processing RFQs:  88%|██████████████████████████████████████████████████████▎       | 881/1005 [13:14<01:46,  1.16it/s]"
     ]
    },
    {
     "name": "stderr",
     "output_type": "stream",
     "text": [
      "\r",
      "Processing RFQs:  88%|██████████████████████████████████████████████████████▍       | 882/1005 [13:15<01:39,  1.23it/s]"
     ]
    },
    {
     "name": "stderr",
     "output_type": "stream",
     "text": [
      "\r",
      "Processing RFQs:  88%|██████████████████████████████████████████████████████▍       | 883/1005 [13:16<01:48,  1.12it/s]"
     ]
    },
    {
     "name": "stderr",
     "output_type": "stream",
     "text": [
      "\r",
      "Processing RFQs:  88%|██████████████████████████████████████████████████████▌       | 884/1005 [13:17<01:51,  1.08it/s]"
     ]
    },
    {
     "name": "stderr",
     "output_type": "stream",
     "text": [
      "\r",
      "Processing RFQs:  88%|██████████████████████████████████████████████████████▌       | 885/1005 [13:18<02:06,  1.05s/it]"
     ]
    },
    {
     "name": "stderr",
     "output_type": "stream",
     "text": [
      "\r",
      "Processing RFQs:  88%|██████████████████████████████████████████████████████▋       | 886/1005 [13:19<02:18,  1.17s/it]"
     ]
    },
    {
     "name": "stderr",
     "output_type": "stream",
     "text": [
      "\r",
      "Processing RFQs:  88%|██████████████████████████████████████████████████████▋       | 887/1005 [13:21<02:14,  1.14s/it]"
     ]
    },
    {
     "name": "stderr",
     "output_type": "stream",
     "text": [
      "\r",
      "Processing RFQs:  88%|██████████████████████████████████████████████████████▊       | 888/1005 [13:22<02:08,  1.10s/it]"
     ]
    },
    {
     "name": "stderr",
     "output_type": "stream",
     "text": [
      "\r",
      "Processing RFQs:  88%|██████████████████████████████████████████████████████▊       | 889/1005 [13:22<02:01,  1.05s/it]"
     ]
    },
    {
     "name": "stderr",
     "output_type": "stream",
     "text": [
      "\r",
      "Processing RFQs:  89%|██████████████████████████████████████████████████████▉       | 890/1005 [13:23<01:49,  1.05it/s]"
     ]
    },
    {
     "name": "stderr",
     "output_type": "stream",
     "text": [
      "\r",
      "Processing RFQs:  89%|██████████████████████████████████████████████████████▉       | 891/1005 [13:24<01:38,  1.16it/s]"
     ]
    },
    {
     "name": "stderr",
     "output_type": "stream",
     "text": [
      "\r",
      "Processing RFQs:  89%|███████████████████████████████████████████████████████       | 892/1005 [13:25<01:31,  1.24it/s]"
     ]
    },
    {
     "name": "stderr",
     "output_type": "stream",
     "text": [
      "\r",
      "Processing RFQs:  89%|███████████████████████████████████████████████████████       | 893/1005 [13:25<01:31,  1.22it/s]"
     ]
    },
    {
     "name": "stderr",
     "output_type": "stream",
     "text": [
      "\r",
      "Processing RFQs:  89%|███████████████████████████████████████████████████████▏      | 894/1005 [13:26<01:32,  1.20it/s]"
     ]
    },
    {
     "name": "stderr",
     "output_type": "stream",
     "text": [
      "\r",
      "Processing RFQs:  89%|███████████████████████████████████████████████████████▏      | 895/1005 [13:27<01:38,  1.12it/s]"
     ]
    },
    {
     "name": "stderr",
     "output_type": "stream",
     "text": [
      "\r",
      "Processing RFQs:  89%|███████████████████████████████████████████████████████▎      | 896/1005 [13:28<01:45,  1.04it/s]"
     ]
    },
    {
     "name": "stderr",
     "output_type": "stream",
     "text": [
      "\r",
      "Processing RFQs:  89%|███████████████████████████████████████████████████████▎      | 897/1005 [13:30<02:00,  1.12s/it]"
     ]
    },
    {
     "name": "stderr",
     "output_type": "stream",
     "text": [
      "\r",
      "Processing RFQs:  89%|███████████████████████████████████████████████████████▍      | 898/1005 [13:31<02:05,  1.17s/it]"
     ]
    },
    {
     "name": "stderr",
     "output_type": "stream",
     "text": [
      "\r",
      "Processing RFQs:  89%|███████████████████████████████████████████████████████▍      | 899/1005 [13:33<02:08,  1.21s/it]"
     ]
    },
    {
     "name": "stderr",
     "output_type": "stream",
     "text": [
      "\r",
      "Processing RFQs:  90%|███████████████████████████████████████████████████████▌      | 900/1005 [13:34<02:22,  1.36s/it]"
     ]
    },
    {
     "name": "stderr",
     "output_type": "stream",
     "text": [
      "\r",
      "Processing RFQs:  90%|███████████████████████████████████████████████████████▌      | 901/1005 [13:35<02:19,  1.34s/it]"
     ]
    },
    {
     "name": "stderr",
     "output_type": "stream",
     "text": [
      "\r",
      "Processing RFQs:  90%|███████████████████████████████████████████████████████▋      | 902/1005 [13:37<02:20,  1.36s/it]"
     ]
    },
    {
     "name": "stderr",
     "output_type": "stream",
     "text": [
      "\r",
      "Processing RFQs:  90%|███████████████████████████████████████████████████████▋      | 903/1005 [13:38<02:07,  1.25s/it]"
     ]
    },
    {
     "name": "stderr",
     "output_type": "stream",
     "text": [
      "\r",
      "Processing RFQs:  90%|███████████████████████████████████████████████████████▊      | 904/1005 [13:39<01:58,  1.17s/it]"
     ]
    },
    {
     "name": "stderr",
     "output_type": "stream",
     "text": [
      "\r",
      "Processing RFQs:  90%|███████████████████████████████████████████████████████▊      | 905/1005 [13:40<01:49,  1.10s/it]"
     ]
    },
    {
     "name": "stderr",
     "output_type": "stream",
     "text": [
      "\r",
      "Processing RFQs:  90%|███████████████████████████████████████████████████████▉      | 906/1005 [13:41<01:41,  1.03s/it]"
     ]
    },
    {
     "name": "stderr",
     "output_type": "stream",
     "text": [
      "\r",
      "Processing RFQs:  90%|███████████████████████████████████████████████████████▉      | 907/1005 [13:42<01:37,  1.01it/s]"
     ]
    },
    {
     "name": "stderr",
     "output_type": "stream",
     "text": [
      "\r",
      "Processing RFQs:  90%|████████████████████████████████████████████████████████      | 908/1005 [13:43<01:34,  1.03it/s]"
     ]
    },
    {
     "name": "stderr",
     "output_type": "stream",
     "text": [
      "\r",
      "Processing RFQs:  90%|████████████████████████████████████████████████████████      | 909/1005 [13:43<01:26,  1.10it/s]"
     ]
    },
    {
     "name": "stderr",
     "output_type": "stream",
     "text": [
      "\r",
      "Processing RFQs:  91%|████████████████████████████████████████████████████████▏     | 910/1005 [13:44<01:17,  1.23it/s]"
     ]
    },
    {
     "name": "stderr",
     "output_type": "stream",
     "text": [
      "\r",
      "Processing RFQs:  91%|████████████████████████████████████████████████████████▏     | 911/1005 [13:45<01:12,  1.29it/s]"
     ]
    },
    {
     "name": "stderr",
     "output_type": "stream",
     "text": [
      "\r",
      "Processing RFQs:  91%|████████████████████████████████████████████████████████▎     | 912/1005 [13:45<01:13,  1.27it/s]"
     ]
    },
    {
     "name": "stderr",
     "output_type": "stream",
     "text": [
      "\r",
      "Processing RFQs:  91%|████████████████████████████████████████████████████████▎     | 913/1005 [13:46<01:16,  1.20it/s]"
     ]
    },
    {
     "name": "stderr",
     "output_type": "stream",
     "text": [
      "\r",
      "Processing RFQs:  91%|████████████████████████████████████████████████████████▍     | 914/1005 [13:47<01:19,  1.15it/s]"
     ]
    },
    {
     "name": "stderr",
     "output_type": "stream",
     "text": [
      "\r",
      "Processing RFQs:  91%|████████████████████████████████████████████████████████▍     | 915/1005 [13:48<01:22,  1.09it/s]"
     ]
    },
    {
     "name": "stderr",
     "output_type": "stream",
     "text": [
      "\r",
      "Processing RFQs:  91%|████████████████████████████████████████████████████████▌     | 916/1005 [13:49<01:23,  1.07it/s]"
     ]
    },
    {
     "name": "stderr",
     "output_type": "stream",
     "text": [
      "\r",
      "Processing RFQs:  91%|████████████████████████████████████████████████████████▌     | 917/1005 [13:50<01:22,  1.06it/s]"
     ]
    },
    {
     "name": "stderr",
     "output_type": "stream",
     "text": [
      "\r",
      "Processing RFQs:  91%|████████████████████████████████████████████████████████▋     | 918/1005 [13:51<01:22,  1.06it/s]"
     ]
    },
    {
     "name": "stderr",
     "output_type": "stream",
     "text": [
      "\r",
      "Processing RFQs:  91%|████████████████████████████████████████████████████████▋     | 919/1005 [13:52<01:30,  1.05s/it]"
     ]
    },
    {
     "name": "stderr",
     "output_type": "stream",
     "text": [
      "\r",
      "Processing RFQs:  92%|████████████████████████████████████████████████████████▊     | 920/1005 [13:53<01:26,  1.02s/it]"
     ]
    },
    {
     "name": "stderr",
     "output_type": "stream",
     "text": [
      "\r",
      "Processing RFQs:  92%|████████████████████████████████████████████████████████▊     | 921/1005 [13:54<01:19,  1.06it/s]"
     ]
    },
    {
     "name": "stderr",
     "output_type": "stream",
     "text": [
      "\r",
      "Processing RFQs:  92%|████████████████████████████████████████████████████████▉     | 922/1005 [13:55<01:19,  1.05it/s]"
     ]
    },
    {
     "name": "stderr",
     "output_type": "stream",
     "text": [
      "\r",
      "Processing RFQs:  92%|████████████████████████████████████████████████████████▉     | 923/1005 [13:56<01:17,  1.06it/s]"
     ]
    },
    {
     "name": "stderr",
     "output_type": "stream",
     "text": [
      "\r",
      "Processing RFQs:  92%|█████████████████████████████████████████████████████████     | 924/1005 [13:57<01:17,  1.05it/s]"
     ]
    },
    {
     "name": "stderr",
     "output_type": "stream",
     "text": [
      "\r",
      "Processing RFQs:  92%|█████████████████████████████████████████████████████████     | 925/1005 [13:58<01:17,  1.04it/s]"
     ]
    },
    {
     "name": "stderr",
     "output_type": "stream",
     "text": [
      "\r",
      "Processing RFQs:  92%|█████████████████████████████████████████████████████████▏    | 926/1005 [13:59<01:15,  1.05it/s]"
     ]
    },
    {
     "name": "stderr",
     "output_type": "stream",
     "text": [
      "\r",
      "Processing RFQs:  92%|█████████████████████████████████████████████████████████▏    | 927/1005 [14:00<01:15,  1.04it/s]"
     ]
    },
    {
     "name": "stderr",
     "output_type": "stream",
     "text": [
      "\r",
      "Processing RFQs:  92%|█████████████████████████████████████████████████████████▏    | 928/1005 [14:01<01:11,  1.07it/s]"
     ]
    },
    {
     "name": "stderr",
     "output_type": "stream",
     "text": [
      "\r",
      "Processing RFQs:  92%|█████████████████████████████████████████████████████████▎    | 929/1005 [14:02<01:11,  1.07it/s]"
     ]
    },
    {
     "name": "stderr",
     "output_type": "stream",
     "text": [
      "\r",
      "Processing RFQs:  93%|█████████████████████████████████████████████████████████▎    | 930/1005 [14:03<01:09,  1.08it/s]"
     ]
    },
    {
     "name": "stderr",
     "output_type": "stream",
     "text": [
      "\r",
      "Processing RFQs:  93%|█████████████████████████████████████████████████████████▍    | 931/1005 [14:03<01:04,  1.14it/s]"
     ]
    },
    {
     "name": "stderr",
     "output_type": "stream",
     "text": [
      "\r",
      "Processing RFQs:  93%|█████████████████████████████████████████████████████████▍    | 932/1005 [14:04<01:00,  1.20it/s]"
     ]
    },
    {
     "name": "stderr",
     "output_type": "stream",
     "text": [
      "\r",
      "Processing RFQs:  93%|█████████████████████████████████████████████████████████▌    | 933/1005 [14:05<00:56,  1.27it/s]"
     ]
    },
    {
     "name": "stderr",
     "output_type": "stream",
     "text": [
      "\r",
      "Processing RFQs:  93%|█████████████████████████████████████████████████████████▌    | 934/1005 [14:06<00:58,  1.21it/s]"
     ]
    },
    {
     "name": "stderr",
     "output_type": "stream",
     "text": [
      "\r",
      "Processing RFQs:  93%|█████████████████████████████████████████████████████████▋    | 935/1005 [14:07<00:59,  1.17it/s]"
     ]
    },
    {
     "name": "stderr",
     "output_type": "stream",
     "text": [
      "\r",
      "Processing RFQs:  93%|█████████████████████████████████████████████████████████▋    | 936/1005 [14:08<01:01,  1.12it/s]"
     ]
    },
    {
     "name": "stderr",
     "output_type": "stream",
     "text": [
      "\r",
      "Processing RFQs:  93%|█████████████████████████████████████████████████████████▊    | 937/1005 [14:09<01:01,  1.10it/s]"
     ]
    },
    {
     "name": "stderr",
     "output_type": "stream",
     "text": [
      "\r",
      "Processing RFQs:  93%|█████████████████████████████████████████████████████████▊    | 938/1005 [14:10<01:01,  1.09it/s]"
     ]
    },
    {
     "name": "stderr",
     "output_type": "stream",
     "text": [
      "\r",
      "Processing RFQs:  93%|█████████████████████████████████████████████████████████▉    | 939/1005 [14:10<01:00,  1.09it/s]"
     ]
    },
    {
     "name": "stderr",
     "output_type": "stream",
     "text": [
      "\r",
      "Processing RFQs:  94%|█████████████████████████████████████████████████████████▉    | 940/1005 [14:11<01:00,  1.07it/s]"
     ]
    },
    {
     "name": "stderr",
     "output_type": "stream",
     "text": [
      "\r",
      "Processing RFQs:  94%|██████████████████████████████████████████████████████████    | 941/1005 [14:12<01:00,  1.05it/s]"
     ]
    },
    {
     "name": "stderr",
     "output_type": "stream",
     "text": [
      "\r",
      "Processing RFQs:  94%|██████████████████████████████████████████████████████████    | 942/1005 [14:13<00:55,  1.13it/s]"
     ]
    },
    {
     "name": "stderr",
     "output_type": "stream",
     "text": [
      "\r",
      "Processing RFQs:  94%|██████████████████████████████████████████████████████████▏   | 943/1005 [14:14<00:51,  1.20it/s]"
     ]
    },
    {
     "name": "stderr",
     "output_type": "stream",
     "text": [
      "\r",
      "Processing RFQs:  94%|██████████████████████████████████████████████████████████▏   | 944/1005 [14:15<00:48,  1.25it/s]"
     ]
    },
    {
     "name": "stderr",
     "output_type": "stream",
     "text": [
      "\r",
      "Processing RFQs:  94%|██████████████████████████████████████████████████████████▎   | 945/1005 [14:15<00:48,  1.24it/s]"
     ]
    },
    {
     "name": "stderr",
     "output_type": "stream",
     "text": [
      "\r",
      "Processing RFQs:  94%|██████████████████████████████████████████████████████████▎   | 946/1005 [14:16<00:49,  1.18it/s]"
     ]
    },
    {
     "name": "stderr",
     "output_type": "stream",
     "text": [
      "\r",
      "Processing RFQs:  94%|██████████████████████████████████████████████████████████▍   | 947/1005 [14:17<00:51,  1.13it/s]"
     ]
    },
    {
     "name": "stderr",
     "output_type": "stream",
     "text": [
      "\r",
      "Processing RFQs:  94%|██████████████████████████████████████████████████████████▍   | 948/1005 [14:18<00:51,  1.10it/s]"
     ]
    },
    {
     "name": "stderr",
     "output_type": "stream",
     "text": [
      "\r",
      "Processing RFQs:  94%|██████████████████████████████████████████████████████████▌   | 949/1005 [14:19<00:51,  1.10it/s]"
     ]
    },
    {
     "name": "stderr",
     "output_type": "stream",
     "text": [
      "\r",
      "Processing RFQs:  95%|██████████████████████████████████████████████████████████▌   | 950/1005 [14:20<00:50,  1.08it/s]"
     ]
    },
    {
     "name": "stderr",
     "output_type": "stream",
     "text": [
      "\r",
      "Processing RFQs:  95%|██████████████████████████████████████████████████████████▋   | 951/1005 [14:21<00:49,  1.09it/s]"
     ]
    },
    {
     "name": "stderr",
     "output_type": "stream",
     "text": [
      "\r",
      "Processing RFQs:  95%|██████████████████████████████████████████████████████████▋   | 952/1005 [14:22<00:49,  1.06it/s]"
     ]
    },
    {
     "name": "stderr",
     "output_type": "stream",
     "text": [
      "\r",
      "Processing RFQs:  95%|██████████████████████████████████████████████████████████▊   | 953/1005 [14:23<00:47,  1.10it/s]"
     ]
    },
    {
     "name": "stderr",
     "output_type": "stream",
     "text": [
      "\r",
      "Processing RFQs:  95%|██████████████████████████████████████████████████████████▊   | 954/1005 [14:24<00:43,  1.17it/s]"
     ]
    },
    {
     "name": "stderr",
     "output_type": "stream",
     "text": [
      "\r",
      "Processing RFQs:  95%|██████████████████████████████████████████████████████████▉   | 955/1005 [14:24<00:40,  1.24it/s]"
     ]
    },
    {
     "name": "stderr",
     "output_type": "stream",
     "text": [
      "\r",
      "Processing RFQs:  95%|██████████████████████████████████████████████████████████▉   | 956/1005 [14:25<00:38,  1.28it/s]"
     ]
    },
    {
     "name": "stderr",
     "output_type": "stream",
     "text": [
      "\r",
      "Processing RFQs:  95%|███████████████████████████████████████████████████████████   | 957/1005 [14:26<00:39,  1.21it/s]"
     ]
    },
    {
     "name": "stderr",
     "output_type": "stream",
     "text": [
      "\r",
      "Processing RFQs:  95%|███████████████████████████████████████████████████████████   | 958/1005 [14:27<00:40,  1.16it/s]"
     ]
    },
    {
     "name": "stderr",
     "output_type": "stream",
     "text": [
      "\r",
      "Processing RFQs:  95%|███████████████████████████████████████████████████████████▏  | 959/1005 [14:28<00:41,  1.11it/s]"
     ]
    },
    {
     "name": "stderr",
     "output_type": "stream",
     "text": [
      "\r",
      "Processing RFQs:  96%|███████████████████████████████████████████████████████████▏  | 960/1005 [14:29<00:45,  1.01s/it]"
     ]
    },
    {
     "name": "stderr",
     "output_type": "stream",
     "text": [
      "\r",
      "Processing RFQs:  96%|███████████████████████████████████████████████████████████▎  | 961/1005 [14:31<00:53,  1.22s/it]"
     ]
    },
    {
     "name": "stderr",
     "output_type": "stream",
     "text": [
      "\r",
      "Processing RFQs:  96%|███████████████████████████████████████████████████████████▎  | 962/1005 [14:32<00:49,  1.15s/it]"
     ]
    },
    {
     "name": "stderr",
     "output_type": "stream",
     "text": [
      "\r",
      "Processing RFQs:  96%|███████████████████████████████████████████████████████████▍  | 963/1005 [14:33<00:45,  1.08s/it]"
     ]
    },
    {
     "name": "stderr",
     "output_type": "stream",
     "text": [
      "\r",
      "Processing RFQs:  96%|███████████████████████████████████████████████████████████▍  | 964/1005 [14:34<00:39,  1.03it/s]"
     ]
    },
    {
     "name": "stderr",
     "output_type": "stream",
     "text": [
      "\r",
      "Processing RFQs:  96%|███████████████████████████████████████████████████████████▌  | 965/1005 [14:34<00:36,  1.11it/s]"
     ]
    },
    {
     "name": "stderr",
     "output_type": "stream",
     "text": [
      "\r",
      "Processing RFQs:  96%|███████████████████████████████████████████████████████████▌  | 966/1005 [14:35<00:32,  1.19it/s]"
     ]
    },
    {
     "name": "stderr",
     "output_type": "stream",
     "text": [
      "\r",
      "Processing RFQs:  96%|███████████████████████████████████████████████████████████▋  | 967/1005 [14:36<00:33,  1.14it/s]"
     ]
    },
    {
     "name": "stderr",
     "output_type": "stream",
     "text": [
      "\r",
      "Processing RFQs:  96%|███████████████████████████████████████████████████████████▋  | 968/1005 [14:37<00:33,  1.12it/s]"
     ]
    },
    {
     "name": "stderr",
     "output_type": "stream",
     "text": [
      "\r",
      "Processing RFQs:  96%|███████████████████████████████████████████████████████████▊  | 969/1005 [14:38<00:33,  1.09it/s]"
     ]
    },
    {
     "name": "stderr",
     "output_type": "stream",
     "text": [
      "\r",
      "Processing RFQs:  97%|███████████████████████████████████████████████████████████▊  | 970/1005 [14:39<00:33,  1.06it/s]"
     ]
    },
    {
     "name": "stderr",
     "output_type": "stream",
     "text": [
      "\r",
      "Processing RFQs:  97%|███████████████████████████████████████████████████████████▉  | 971/1005 [14:40<00:32,  1.05it/s]"
     ]
    },
    {
     "name": "stderr",
     "output_type": "stream",
     "text": [
      "\r",
      "Processing RFQs:  97%|███████████████████████████████████████████████████████████▉  | 972/1005 [14:41<00:30,  1.07it/s]"
     ]
    },
    {
     "name": "stderr",
     "output_type": "stream",
     "text": [
      "\r",
      "Processing RFQs:  97%|████████████████████████████████████████████████████████████  | 973/1005 [14:42<00:30,  1.06it/s]"
     ]
    },
    {
     "name": "stderr",
     "output_type": "stream",
     "text": [
      "\r",
      "Processing RFQs:  97%|████████████████████████████████████████████████████████████  | 974/1005 [14:43<00:28,  1.07it/s]"
     ]
    },
    {
     "name": "stderr",
     "output_type": "stream",
     "text": [
      "\r",
      "Processing RFQs:  97%|████████████████████████████████████████████████████████████▏ | 975/1005 [14:43<00:26,  1.15it/s]"
     ]
    },
    {
     "name": "stderr",
     "output_type": "stream",
     "text": [
      "\r",
      "Processing RFQs:  97%|████████████████████████████████████████████████████████████▏ | 976/1005 [14:44<00:24,  1.20it/s]"
     ]
    },
    {
     "name": "stderr",
     "output_type": "stream",
     "text": [
      "\r",
      "Processing RFQs:  97%|████████████████████████████████████████████████████████████▎ | 977/1005 [14:45<00:22,  1.26it/s]"
     ]
    },
    {
     "name": "stderr",
     "output_type": "stream",
     "text": [
      "\r",
      "Processing RFQs:  97%|████████████████████████████████████████████████████████████▎ | 978/1005 [14:46<00:22,  1.21it/s]"
     ]
    },
    {
     "name": "stderr",
     "output_type": "stream",
     "text": [
      "\r",
      "Processing RFQs:  97%|████████████████████████████████████████████████████████████▍ | 979/1005 [14:47<00:22,  1.17it/s]"
     ]
    },
    {
     "name": "stderr",
     "output_type": "stream",
     "text": [
      "\r",
      "Processing RFQs:  98%|████████████████████████████████████████████████████████████▍ | 980/1005 [14:47<00:21,  1.14it/s]"
     ]
    },
    {
     "name": "stderr",
     "output_type": "stream",
     "text": [
      "\r",
      "Processing RFQs:  98%|████████████████████████████████████████████████████████████▌ | 981/1005 [14:48<00:21,  1.12it/s]"
     ]
    },
    {
     "name": "stderr",
     "output_type": "stream",
     "text": [
      "\r",
      "Processing RFQs:  98%|████████████████████████████████████████████████████████████▌ | 982/1005 [14:49<00:20,  1.12it/s]"
     ]
    },
    {
     "name": "stderr",
     "output_type": "stream",
     "text": [
      "\r",
      "Processing RFQs:  98%|████████████████████████████████████████████████████████████▋ | 983/1005 [14:50<00:19,  1.10it/s]"
     ]
    },
    {
     "name": "stderr",
     "output_type": "stream",
     "text": [
      "\r",
      "Processing RFQs:  98%|████████████████████████████████████████████████████████████▋ | 984/1005 [14:51<00:18,  1.12it/s]"
     ]
    },
    {
     "name": "stderr",
     "output_type": "stream",
     "text": [
      "\r",
      "Processing RFQs:  98%|████████████████████████████████████████████████████████████▊ | 985/1005 [14:52<00:18,  1.09it/s]"
     ]
    },
    {
     "name": "stderr",
     "output_type": "stream",
     "text": [
      "\r",
      "Processing RFQs:  98%|████████████████████████████████████████████████████████████▊ | 986/1005 [14:53<00:16,  1.12it/s]"
     ]
    },
    {
     "name": "stderr",
     "output_type": "stream",
     "text": [
      "\r",
      "Processing RFQs:  98%|████████████████████████████████████████████████████████████▉ | 987/1005 [14:54<00:15,  1.18it/s]"
     ]
    },
    {
     "name": "stderr",
     "output_type": "stream",
     "text": [
      "\r",
      "Processing RFQs:  98%|████████████████████████████████████████████████████████████▉ | 988/1005 [14:54<00:13,  1.27it/s]"
     ]
    },
    {
     "name": "stderr",
     "output_type": "stream",
     "text": [
      "\r",
      "Processing RFQs:  98%|█████████████████████████████████████████████████████████████ | 989/1005 [14:55<00:12,  1.32it/s]"
     ]
    },
    {
     "name": "stderr",
     "output_type": "stream",
     "text": [
      "\r",
      "Processing RFQs:  99%|█████████████████████████████████████████████████████████████ | 990/1005 [14:56<00:11,  1.26it/s]"
     ]
    },
    {
     "name": "stderr",
     "output_type": "stream",
     "text": [
      "\r",
      "Processing RFQs:  99%|█████████████████████████████████████████████████████████████▏| 991/1005 [14:57<00:11,  1.23it/s]"
     ]
    },
    {
     "name": "stderr",
     "output_type": "stream",
     "text": [
      "\r",
      "Processing RFQs:  99%|█████████████████████████████████████████████████████████████▏| 992/1005 [14:58<00:11,  1.17it/s]"
     ]
    },
    {
     "name": "stderr",
     "output_type": "stream",
     "text": [
      "\r",
      "Processing RFQs:  99%|█████████████████████████████████████████████████████████████▎| 993/1005 [14:59<00:10,  1.12it/s]"
     ]
    },
    {
     "name": "stderr",
     "output_type": "stream",
     "text": [
      "\r",
      "Processing RFQs:  99%|█████████████████████████████████████████████████████████████▎| 994/1005 [15:00<00:10,  1.10it/s]"
     ]
    },
    {
     "name": "stderr",
     "output_type": "stream",
     "text": [
      "\r",
      "Processing RFQs:  99%|█████████████████████████████████████████████████████████████▍| 995/1005 [15:01<00:09,  1.08it/s]"
     ]
    },
    {
     "name": "stderr",
     "output_type": "stream",
     "text": [
      "\r",
      "Processing RFQs:  99%|█████████████████████████████████████████████████████████████▍| 996/1005 [15:01<00:08,  1.08it/s]"
     ]
    },
    {
     "name": "stderr",
     "output_type": "stream",
     "text": [
      "\r",
      "Processing RFQs:  99%|█████████████████████████████████████████████████████████████▌| 997/1005 [15:02<00:07,  1.07it/s]"
     ]
    },
    {
     "name": "stderr",
     "output_type": "stream",
     "text": [
      "\r",
      "Processing RFQs:  99%|█████████████████████████████████████████████████████████████▌| 998/1005 [15:03<00:06,  1.14it/s]"
     ]
    },
    {
     "name": "stderr",
     "output_type": "stream",
     "text": [
      "\r",
      "Processing RFQs:  99%|█████████████████████████████████████████████████████████████▋| 999/1005 [15:04<00:04,  1.21it/s]"
     ]
    },
    {
     "name": "stderr",
     "output_type": "stream",
     "text": [
      "\r",
      "Processing RFQs: 100%|████████████████████████████████████████████████████████████▋| 1000/1005 [15:05<00:03,  1.28it/s]"
     ]
    },
    {
     "name": "stderr",
     "output_type": "stream",
     "text": [
      "\r",
      "Processing RFQs: 100%|████████████████████████████████████████████████████████████▊| 1001/1005 [15:05<00:03,  1.27it/s]"
     ]
    },
    {
     "name": "stderr",
     "output_type": "stream",
     "text": [
      "\r",
      "Processing RFQs: 100%|████████████████████████████████████████████████████████████▊| 1002/1005 [15:06<00:02,  1.22it/s]"
     ]
    },
    {
     "name": "stderr",
     "output_type": "stream",
     "text": [
      "\r",
      "Processing RFQs: 100%|████████████████████████████████████████████████████████████▉| 1003/1005 [15:07<00:01,  1.17it/s]"
     ]
    },
    {
     "name": "stderr",
     "output_type": "stream",
     "text": [
      "\r",
      "Processing RFQs: 100%|████████████████████████████████████████████████████████████▉| 1004/1005 [15:08<00:00,  1.12it/s]"
     ]
    },
    {
     "name": "stderr",
     "output_type": "stream",
     "text": [
      "\r",
      "Processing RFQs: 100%|█████████████████████████████████████████████████████████████| 1005/1005 [15:09<00:00,  1.10it/s]"
     ]
    },
    {
     "name": "stderr",
     "output_type": "stream",
     "text": [
      "\r",
      "Processing RFQs: 100%|█████████████████████████████████████████████████████████████| 1005/1005 [15:09<00:00,  1.10it/s]"
     ]
    },
    {
     "name": "stderr",
     "output_type": "stream",
     "text": [
      "\n"
     ]
    },
    {
     "data": {
      "text/html": [
       "<div>\n",
       "<style scoped>\n",
       "    .dataframe tbody tr th:only-of-type {\n",
       "        vertical-align: middle;\n",
       "    }\n",
       "\n",
       "    .dataframe tbody tr th {\n",
       "        vertical-align: top;\n",
       "    }\n",
       "\n",
       "    .dataframe thead th {\n",
       "        text-align: right;\n",
       "    }\n",
       "</style>\n",
       "<table border=\"1\" class=\"dataframe\">\n",
       "  <thead>\n",
       "    <tr style=\"text-align: right;\">\n",
       "      <th></th>\n",
       "      <th>rfq_id</th>\n",
       "      <th>match_id</th>\n",
       "      <th>similarity_score</th>\n",
       "    </tr>\n",
       "  </thead>\n",
       "  <tbody>\n",
       "    <tr>\n",
       "      <th>0</th>\n",
       "      <td>8aff426d-b8c0-43aa-ad26-835ef4de6129</td>\n",
       "      <td>2e56f82b-a80d-4704-83a5-14a52a117b65</td>\n",
       "      <td>0.600000</td>\n",
       "    </tr>\n",
       "    <tr>\n",
       "      <th>1</th>\n",
       "      <td>8aff426d-b8c0-43aa-ad26-835ef4de6129</td>\n",
       "      <td>7d1ab305-7fc6-4ab0-bc2a-9ae1e038e67e</td>\n",
       "      <td>0.544795</td>\n",
       "    </tr>\n",
       "    <tr>\n",
       "      <th>2</th>\n",
       "      <td>8aff426d-b8c0-43aa-ad26-835ef4de6129</td>\n",
       "      <td>9195d6ad-120f-4ae2-8e69-462ca56c3fc0</td>\n",
       "      <td>0.475000</td>\n",
       "    </tr>\n",
       "    <tr>\n",
       "      <th>3</th>\n",
       "      <td>37e624be-b125-464f-85b6-1838530193ef</td>\n",
       "      <td>56d8f8e0-7e07-42f7-9503-360aed60100a</td>\n",
       "      <td>0.200000</td>\n",
       "    </tr>\n",
       "    <tr>\n",
       "      <th>4</th>\n",
       "      <td>37e624be-b125-464f-85b6-1838530193ef</td>\n",
       "      <td>74fcfbc9-2569-46c8-ad3f-a9ea8b9f5a45</td>\n",
       "      <td>0.200000</td>\n",
       "    </tr>\n",
       "  </tbody>\n",
       "</table>\n",
       "</div>"
      ],
      "text/plain": [
       "                                 rfq_id                              match_id  \\\n",
       "0  8aff426d-b8c0-43aa-ad26-835ef4de6129  2e56f82b-a80d-4704-83a5-14a52a117b65   \n",
       "1  8aff426d-b8c0-43aa-ad26-835ef4de6129  7d1ab305-7fc6-4ab0-bc2a-9ae1e038e67e   \n",
       "2  8aff426d-b8c0-43aa-ad26-835ef4de6129  9195d6ad-120f-4ae2-8e69-462ca56c3fc0   \n",
       "3  37e624be-b125-464f-85b6-1838530193ef  56d8f8e0-7e07-42f7-9503-360aed60100a   \n",
       "4  37e624be-b125-464f-85b6-1838530193ef  74fcfbc9-2569-46c8-ad3f-a9ea8b9f5a45   \n",
       "\n",
       "   similarity_score  \n",
       "0          0.600000  \n",
       "1          0.544795  \n",
       "2          0.475000  \n",
       "3          0.200000  \n",
       "4          0.200000  "
      ]
     },
     "metadata": {},
     "output_type": "display_data"
    }
   ],
   "source": [
    "from tqdm import tqdm  # optional, shows progress bar\n",
    "\n",
    "# Define the columns to use (replace with your dataset columns)\n",
    "dimension_list = [\n",
    "    'thickness', 'width', 'length', 'height',\n",
    "    'weight', 'inner_diameter', 'outer_diameter',\n",
    "    'yield_strength', 'tensile_strength'\n",
    "]\n",
    "categorical_list = ['coating', 'finish', 'form', 'surface_type']\n",
    "grade_numeric_cols = [\n",
    "    'C', 'Mn', 'Si', 'S', 'P', 'Cr', 'Ni', 'Mo', 'V', 'W', 'Co', 'Cu', 'Al', 'Ti', 'Nb', 'B', 'N', \n",
    "    'tensile_strength_mid', 'yield_strength_mid'\n",
    "]\n",
    "\n",
    "top3_list = []\n",
    "\n",
    "# Use tqdm to monitor progress if dataset is large\n",
    "for idx_a, row_a in tqdm(rfq_ref.iterrows(), total=len(rfq_ref), desc=\"Processing RFQs\"):\n",
    "    sims = []\n",
    "    for idx_b, row_b in rfq_ref.iterrows():\n",
    "        if row_a['id'] == row_b['id']:\n",
    "            continue\n",
    "        score = rfq_similarity(row_a, row_b, dimension_list, categorical_list, grade_numeric_cols)\n",
    "        sims.append((row_b['id'], score))\n",
    "    \n",
    "    # Get top 3 matches\n",
    "    top3 = sorted(sims, key=lambda x: x[1], reverse=True)[:3]\n",
    "    for match_id, score in top3:\n",
    "        top3_list.append({\n",
    "            'rfq_id': row_a['id'],\n",
    "            'match_id': match_id,\n",
    "            'similarity_score': score\n",
    "        })\n",
    "\n",
    "# Convert to DataFrame and save\n",
    "top3_df = pd.DataFrame(top3_list)\n",
    "top3_df.to_csv(\"../outputs/top3.csv\", index=False, encoding='utf-8-sig')\n",
    "display(top3_df.head())"
   ]
  },
  {
   "cell_type": "code",
   "execution_count": 1,
   "id": "f2d52199-6f63-4e89-95d3-1d04620356b9",
   "metadata": {},
   "outputs": [
    {
     "name": "stdout",
     "output_type": "stream",
     "text": [
      "README.md successfully saved at: ../outputs\\README-Task B.md\n"
     ]
    }
   ],
   "source": [
    "readme_content = \"\"\"\n",
    "# Task B — RFQ Similarity\n",
    "\n",
    "Hi! This is my submission for Task B, where I worked on finding similar RFQs (Request for Quotations) using the reference properties dataset. I also included some bonus analyses like alternative metrics, ablation analysis, and clustering. Below, I explain what I did step by step, why I did it this way, and what we learned.\n",
    "\n",
    "---\n",
    "\n",
    "## **Step 1: Load and Inspect Data**\n",
    "\n",
    "I loaded `rfq.csv` and `reference_properties.tsv` and checked the columns.  \n",
    "\n",
    "- This helps me understand what features are available.  \n",
    "- I could see which features are numeric, categorical, or have missing values.  \n",
    "\n",
    "**Outcome:** I know the structure of the data and which columns to process next.\n",
    "\n",
    "---\n",
    "\n",
    "## **Step B.1 — Reference Join & Missing Values**\n",
    "\n",
    "- I normalized RFQ grades and reference grades (lowercase, stripped spaces) to match exactly.  \n",
    "- I parsed numeric ranges like `2.5-3.0` or `≤5` into min, max, and mid values.  \n",
    "- RFQs were merged with reference data on normalized grades.  \n",
    "- Missing references were flagged to know which RFQs don’t have reference properties.  \n",
    "\n",
    "**Why:** Normalization ensures matching; parsing numeric ranges lets us compute numeric similarity.  \n",
    "**Assumptions:** If max value is missing, I set max = min.  \n",
    "**Outcome:** RFQs now have corresponding reference data with missing ones flagged.\n",
    "\n",
    "---\n",
    "\n",
    "## **Step B.2 — Feature Engineering**\n",
    "\n",
    "- Created min, max, and mid columns for numeric dimensions and grades.  \n",
    "- Filled missing max values with min.  \n",
    "- Kept categorical features like `coating`, `finish`, `form`, `surface_type`.  \n",
    "\n",
    "**Why:** This allows numeric similarity computations and categorical comparisons.  \n",
    "**Outcome:** RFQs have clean numeric and categorical features ready for similarity calculations.\n",
    "\n",
    "---\n",
    "\n",
    "## **Step B.3 — Similarity Calculation**\n",
    "\n",
    "- **Numeric similarity:** Computed **Interval IoU** for each numeric dimension.  \n",
    "- **Categorical similarity:** 1 if values match, 0 if different, averaged across all categories.  \n",
    "- **Grade similarity:** Ratio of smaller/larger for numeric grade properties.  \n",
    "- Combined all similarities using weighted average: dimensions 0.5, categorical 0.2, grades 0.3.  \n",
    "- Extracted **top-3 most similar RFQs** per RFQ.  \n",
    "\n",
    "**Why:** Weighted combination captures all aspects of similarity.  \n",
    "**Assumptions:** Equal importance per numeric dimension, exact match for categorical features.  \n",
    "**Outcome:** `top3.csv` with RFQ ID, top-3 matches, and similarity scores.\n",
    "\n",
    "---\n",
    "\n",
    "## **Step B.4 — Alternative Metrics & Ablation Analysis (Bonus)**\n",
    "\n",
    "- Used **cosine similarity** for numeric features and **Jaccard similarity** for categorical features.  \n",
    "- Weighted combination of dimensions, grades, and categorical features.  \n",
    "- Ablation analysis: tested dropping one feature group at a time to see the impact.  \n",
    "\n",
    "**Why:** To check if other metrics improve similarity and which features contribute most.  \n",
    "**Outcome:** `top3_bonus.csv` and plots showing feature impact.\n",
    "\n",
    "---\n",
    "\n",
    "## **Step B.5 — Clustering RFQs (Bonus)**\n",
    "\n",
    "- Standardized numeric features and combined with one-hot encoded categorical features.  \n",
    "- Used **KMeans** to cluster RFQs into 5 clusters.  \n",
    "- Visualized clusters using **PCA** in 2D.  \n",
    "- Saved `rfq_with_clusters.csv` and `pca_coordinates.csv`.  \n",
    "\n",
    "**Why:** Helps understand structure and group similar RFQs together.  \n",
    "\n",
    "---\n",
    "\n",
    "## **Assumptions & Issues Faced**\n",
    "\n",
    "- Missing numeric values: filled with 0 for similarity or min = max.  \n",
    "- Some reference columns missing in the dataset; handled dynamically.  \n",
    "- Performance: iterating over all RFQs is slow; used `tqdm` to monitor progress.  \n",
    "\n",
    "---\n",
    "\n",
    "## **Outputs**\n",
    "\n",
    "- `top3.csv` — Top-3 most similar RFQs (Task B).  \n",
    "- `top3_bonus.csv` — Top-3 using alternative metrics.  \n",
    "- `rfq_with_clusters.csv` — RFQs with cluster assignments.  \n",
    "- `pca_coordinates.csv` — 2D PCA coordinates for plotting clusters.  \n",
    "\n",
    "---\n",
    "\n",
    "## **How to Run the Pipeline**\n",
    "\n",
    "- Everything is in `TaskB_notebook.ipynb` and can be executed end-to-end.  \n",
    "- Alternatively, use `run.py` to execute the full pipeline in one go.  \n",
    "- All outputs will be saved in the `outputs/` folder.\n",
    "\n",
    "# Setup and Run Instructions\n",
    "1. Python Environment\n",
    "\n",
    "These notebooks are written in Python 3.\n",
    "\n",
    "It is recommended to use Conda to manage your environment and dependencies.\n",
    "\n",
    "## To create a new environment, you can run:\n",
    "\n",
    "conda create -n vanillasteel python=3.10\n",
    "conda activate vanillasteel\n",
    "\n",
    "\n",
    "## Install required packages using pip or conda. Here are the main libraries used in the notebooks:\n",
    "\n",
    "pandas\n",
    "\n",
    "numpy\n",
    "\n",
    "openpyxl\n",
    "\n",
    "matplotlib\n",
    "\n",
    "seaborn\n",
    "\n",
    "scikit-learn\n",
    "\n",
    "re (regular expressions)\n",
    "\n",
    "## Any other standard Python libraries\n",
    "\n",
    "You can install them with:\n",
    "\n",
    "pip install pandas numpy openpyxl matplotlib seaborn scikit-learn\n",
    "\n",
    "## 2. Folder Structure\n",
    "\n",
    "Make sure your project folder is organized like this:\n",
    "\n",
    "vanillasteel-assessment/\n",
    "│\n",
    "├── notebooks/          # All Task A, Task B, Bonus Task notebooks\n",
    "├── data/               # Supplier files and any other input data\n",
    "├── outputs/            # Folder to save processed CSV files\n",
    "├── README-taskA.txt\n",
    "├── README-taskB.txt\n",
    "├── bonus_task_output/  # Folder to save outputs from the bonus task\n",
    "├── README-Bonus.md\n",
    "\n",
    "\n",
    "The data folder contains supplier files (e.g., supplier_data1.xlsx, supplier_data2.xlsx) needed for Task A.\n",
    "\n",
    "The outputs folder is where the CSV files generated by the notebooks (e.g., inventory_dataset.csv, top3.csv) will be saved. Ensure this folder already exists.\n",
    "\n",
    "## 3. Running the Notebooks\n",
    "## Task B\n",
    "\n",
    "Task B is in a separate notebook.\n",
    "\n",
    "Open the Task B notebook and run cells sequentially.\n",
    "\n",
    "The output file top3.csv will be saved in the outputs folder.\n",
    "\n",
    "Task B does not depend on the outputs of Task A.\n",
    "\n",
    "Note: CSV files are saved using UTF-8 with BOM (utf-8-sig) encoding so that special characters like German letters (ü, ö, ß) display correctly in Excel.\n",
    "## 4. Notes on CSV and Excel\n",
    "\n",
    "If opening CSV files in Excel, make sure to choose UTF-8 encoding to view German characters correctly.\n",
    "\n",
    "In Excel:\n",
    "\n",
    "Open Excel.\n",
    "\n",
    "Go to Data → Get Data → From Text/CSV.\n",
    "\n",
    "Select the file and set File Origin to UTF-8.\n",
    "\n",
    "This ensures columns like description and finish display correctly without garbled text.\n",
    "\n",
    "## 5. Optional\n",
    "\n",
    "If using Jupyter Notebook, make sure your kernel is set to the Python environment you installed with the required libraries.\n",
    "\n",
    "Always check the outputs folder to ensure CSV files are generated correctly after running the notebooks.\n",
    "\"\"\"\n",
    "\n",
    "\n",
    "# Save to README.md\n",
    "import os\n",
    "\n",
    "# Folder where bonus outputs are saved\n",
    "output_folder = \"../outputs\"\n",
    "readme_path = os.path.join(output_folder, \"README-Task B.md\")\n",
    "with open(readme_path, \"w\", encoding=\"utf-8\") as f:\n",
    "    f.write(readme_content)\n",
    "print(f\"README.md successfully saved at: {readme_path}\")"
   ]
  },
  {
   "cell_type": "code",
   "execution_count": null,
   "id": "ada28aa6-b2aa-458c-a7ff-01ad4a0c0a20",
   "metadata": {},
   "outputs": [],
   "source": []
  }
 ],
 "metadata": {
  "kernelspec": {
   "display_name": "Python 3 (ipykernel)",
   "language": "python",
   "name": "python3"
  },
  "language_info": {
   "codemirror_mode": {
    "name": "ipython",
    "version": 3
   },
   "file_extension": ".py",
   "mimetype": "text/x-python",
   "name": "python",
   "nbconvert_exporter": "python",
   "pygments_lexer": "ipython3",
   "version": "3.13.3"
  }
 },
 "nbformat": 4,
 "nbformat_minor": 5
}
